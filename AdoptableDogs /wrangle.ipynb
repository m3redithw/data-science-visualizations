{
 "cells": [
  {
   "cell_type": "code",
   "execution_count": 6,
   "id": "3a59243e",
   "metadata": {},
   "outputs": [],
   "source": [
    "import pandas as pd\n",
    "import numpy as np\n",
    "\n",
    "# missing value viz\n",
    "import missingno as msno"
   ]
  },
  {
   "cell_type": "markdown",
   "id": "e2699a5d",
   "metadata": {},
   "source": [
    "## All Dog Descriptions"
   ]
  },
  {
   "cell_type": "code",
   "execution_count": 2,
   "id": "c953b9c8",
   "metadata": {},
   "outputs": [],
   "source": [
    "df = pd.read_csv('data/descriptions.csv')"
   ]
  },
  {
   "cell_type": "code",
   "execution_count": 4,
   "id": "9cf46d9f",
   "metadata": {},
   "outputs": [
    {
     "data": {
      "text/html": [
       "<div>\n",
       "<style scoped>\n",
       "    .dataframe tbody tr th:only-of-type {\n",
       "        vertical-align: middle;\n",
       "    }\n",
       "\n",
       "    .dataframe tbody tr th {\n",
       "        vertical-align: top;\n",
       "    }\n",
       "\n",
       "    .dataframe thead th {\n",
       "        text-align: right;\n",
       "    }\n",
       "</style>\n",
       "<table border=\"1\" class=\"dataframe\">\n",
       "  <thead>\n",
       "    <tr style=\"text-align: right;\">\n",
       "      <th></th>\n",
       "      <th>index</th>\n",
       "      <th>id</th>\n",
       "      <th>org_id</th>\n",
       "      <th>url</th>\n",
       "      <th>type.x</th>\n",
       "      <th>species</th>\n",
       "      <th>breed_primary</th>\n",
       "      <th>breed_secondary</th>\n",
       "      <th>breed_mixed</th>\n",
       "      <th>breed_unknown</th>\n",
       "      <th>...</th>\n",
       "      <th>status</th>\n",
       "      <th>posted</th>\n",
       "      <th>contact_city</th>\n",
       "      <th>contact_state</th>\n",
       "      <th>contact_zip</th>\n",
       "      <th>contact_country</th>\n",
       "      <th>stateQ</th>\n",
       "      <th>accessed</th>\n",
       "      <th>type.y</th>\n",
       "      <th>description</th>\n",
       "    </tr>\n",
       "  </thead>\n",
       "  <tbody>\n",
       "    <tr>\n",
       "      <th>0</th>\n",
       "      <td>0</td>\n",
       "      <td>46042150</td>\n",
       "      <td>NV163</td>\n",
       "      <td>https://www.petfinder.com/dog/harley-46042150/...</td>\n",
       "      <td>Dog</td>\n",
       "      <td>Dog</td>\n",
       "      <td>American Staffordshire Terrier</td>\n",
       "      <td>Mixed Breed</td>\n",
       "      <td>True</td>\n",
       "      <td>False</td>\n",
       "      <td>...</td>\n",
       "      <td>adoptable</td>\n",
       "      <td>2019-09-20T16:37:59+0000</td>\n",
       "      <td>Las Vegas</td>\n",
       "      <td>NV</td>\n",
       "      <td>89147</td>\n",
       "      <td>US</td>\n",
       "      <td>89009</td>\n",
       "      <td>2019-09-20</td>\n",
       "      <td>Dog</td>\n",
       "      <td>Harley is not sure how he wound up at shelter ...</td>\n",
       "    </tr>\n",
       "    <tr>\n",
       "      <th>1</th>\n",
       "      <td>1</td>\n",
       "      <td>46042002</td>\n",
       "      <td>NV163</td>\n",
       "      <td>https://www.petfinder.com/dog/biggie-46042002/...</td>\n",
       "      <td>Dog</td>\n",
       "      <td>Dog</td>\n",
       "      <td>Pit Bull Terrier</td>\n",
       "      <td>Mixed Breed</td>\n",
       "      <td>True</td>\n",
       "      <td>False</td>\n",
       "      <td>...</td>\n",
       "      <td>adoptable</td>\n",
       "      <td>2019-09-20T16:24:57+0000</td>\n",
       "      <td>Las Vegas</td>\n",
       "      <td>NV</td>\n",
       "      <td>89147</td>\n",
       "      <td>US</td>\n",
       "      <td>89009</td>\n",
       "      <td>2019-09-20</td>\n",
       "      <td>Dog</td>\n",
       "      <td>6 year old Biggie has lost his home and really...</td>\n",
       "    </tr>\n",
       "    <tr>\n",
       "      <th>2</th>\n",
       "      <td>2</td>\n",
       "      <td>46040898</td>\n",
       "      <td>NV99</td>\n",
       "      <td>https://www.petfinder.com/dog/ziggy-46040898/n...</td>\n",
       "      <td>Dog</td>\n",
       "      <td>Dog</td>\n",
       "      <td>Shepherd</td>\n",
       "      <td>NaN</td>\n",
       "      <td>False</td>\n",
       "      <td>False</td>\n",
       "      <td>...</td>\n",
       "      <td>adoptable</td>\n",
       "      <td>2019-09-20T14:10:11+0000</td>\n",
       "      <td>Mesquite</td>\n",
       "      <td>NV</td>\n",
       "      <td>89027</td>\n",
       "      <td>US</td>\n",
       "      <td>89009</td>\n",
       "      <td>2019-09-20</td>\n",
       "      <td>Dog</td>\n",
       "      <td>Approx 2 years old.\\n Did I catch your eye? I ...</td>\n",
       "    </tr>\n",
       "    <tr>\n",
       "      <th>3</th>\n",
       "      <td>3</td>\n",
       "      <td>46039877</td>\n",
       "      <td>NV202</td>\n",
       "      <td>https://www.petfinder.com/dog/gypsy-46039877/n...</td>\n",
       "      <td>Dog</td>\n",
       "      <td>Dog</td>\n",
       "      <td>German Shepherd Dog</td>\n",
       "      <td>NaN</td>\n",
       "      <td>False</td>\n",
       "      <td>False</td>\n",
       "      <td>...</td>\n",
       "      <td>adoptable</td>\n",
       "      <td>2019-09-20T10:08:22+0000</td>\n",
       "      <td>Pahrump</td>\n",
       "      <td>NV</td>\n",
       "      <td>89048</td>\n",
       "      <td>US</td>\n",
       "      <td>89009</td>\n",
       "      <td>2019-09-20</td>\n",
       "      <td>Dog</td>\n",
       "      <td>NaN</td>\n",
       "    </tr>\n",
       "    <tr>\n",
       "      <th>4</th>\n",
       "      <td>4</td>\n",
       "      <td>46039306</td>\n",
       "      <td>NV184</td>\n",
       "      <td>https://www.petfinder.com/dog/theo-46039306/nv...</td>\n",
       "      <td>Dog</td>\n",
       "      <td>Dog</td>\n",
       "      <td>Dachshund</td>\n",
       "      <td>NaN</td>\n",
       "      <td>False</td>\n",
       "      <td>False</td>\n",
       "      <td>...</td>\n",
       "      <td>adoptable</td>\n",
       "      <td>2019-09-20T06:48:30+0000</td>\n",
       "      <td>Henderson</td>\n",
       "      <td>NV</td>\n",
       "      <td>89052</td>\n",
       "      <td>US</td>\n",
       "      <td>89009</td>\n",
       "      <td>2019-09-20</td>\n",
       "      <td>Dog</td>\n",
       "      <td>Theo is a friendly dachshund mix who gets alon...</td>\n",
       "    </tr>\n",
       "  </tbody>\n",
       "</table>\n",
       "<p>5 rows × 36 columns</p>\n",
       "</div>"
      ],
      "text/plain": [
       "   index        id org_id                                                url  \\\n",
       "0      0  46042150  NV163  https://www.petfinder.com/dog/harley-46042150/...   \n",
       "1      1  46042002  NV163  https://www.petfinder.com/dog/biggie-46042002/...   \n",
       "2      2  46040898   NV99  https://www.petfinder.com/dog/ziggy-46040898/n...   \n",
       "3      3  46039877  NV202  https://www.petfinder.com/dog/gypsy-46039877/n...   \n",
       "4      4  46039306  NV184  https://www.petfinder.com/dog/theo-46039306/nv...   \n",
       "\n",
       "  type.x species                   breed_primary breed_secondary  breed_mixed  \\\n",
       "0    Dog     Dog  American Staffordshire Terrier     Mixed Breed         True   \n",
       "1    Dog     Dog                Pit Bull Terrier     Mixed Breed         True   \n",
       "2    Dog     Dog                        Shepherd             NaN        False   \n",
       "3    Dog     Dog             German Shepherd Dog             NaN        False   \n",
       "4    Dog     Dog                       Dachshund             NaN        False   \n",
       "\n",
       "   breed_unknown  ...     status                    posted contact_city  \\\n",
       "0          False  ...  adoptable  2019-09-20T16:37:59+0000    Las Vegas   \n",
       "1          False  ...  adoptable  2019-09-20T16:24:57+0000    Las Vegas   \n",
       "2          False  ...  adoptable  2019-09-20T14:10:11+0000     Mesquite   \n",
       "3          False  ...  adoptable  2019-09-20T10:08:22+0000      Pahrump   \n",
       "4          False  ...  adoptable  2019-09-20T06:48:30+0000    Henderson   \n",
       "\n",
       "  contact_state contact_zip contact_country stateQ    accessed  type.y  \\\n",
       "0            NV       89147              US  89009  2019-09-20     Dog   \n",
       "1            NV       89147              US  89009  2019-09-20     Dog   \n",
       "2            NV       89027              US  89009  2019-09-20     Dog   \n",
       "3            NV       89048              US  89009  2019-09-20     Dog   \n",
       "4            NV       89052              US  89009  2019-09-20     Dog   \n",
       "\n",
       "                                         description  \n",
       "0  Harley is not sure how he wound up at shelter ...  \n",
       "1  6 year old Biggie has lost his home and really...  \n",
       "2  Approx 2 years old.\\n Did I catch your eye? I ...  \n",
       "3                                                NaN  \n",
       "4  Theo is a friendly dachshund mix who gets alon...  \n",
       "\n",
       "[5 rows x 36 columns]"
      ]
     },
     "execution_count": 4,
     "metadata": {},
     "output_type": "execute_result"
    }
   ],
   "source": [
    "df.head()"
   ]
  },
  {
   "cell_type": "code",
   "execution_count": 3,
   "id": "3a7e11e9",
   "metadata": {},
   "outputs": [
    {
     "data": {
      "text/plain": [
       "(58180, 36)"
      ]
     },
     "execution_count": 3,
     "metadata": {},
     "output_type": "execute_result"
    }
   ],
   "source": [
    "df.shape"
   ]
  },
  {
   "cell_type": "code",
   "execution_count": 5,
   "id": "ef6aed95",
   "metadata": {},
   "outputs": [
    {
     "data": {
      "text/plain": [
       "index                  0\n",
       "id                     0\n",
       "org_id                 0\n",
       "url                    0\n",
       "type.x                 0\n",
       "species                0\n",
       "breed_primary          0\n",
       "breed_secondary    37359\n",
       "breed_mixed            0\n",
       "breed_unknown          0\n",
       "color_primary      32046\n",
       "color_secondary    46121\n",
       "color_tertiary     56963\n",
       "age                    0\n",
       "sex                    0\n",
       "size                   0\n",
       "coat               30995\n",
       "fixed                  0\n",
       "house_trained          0\n",
       "declawed           58180\n",
       "special_needs          0\n",
       "shots_current          0\n",
       "env_children       30153\n",
       "env_dogs           23511\n",
       "env_cats           38828\n",
       "name                   0\n",
       "status                 0\n",
       "posted                 0\n",
       "contact_city           0\n",
       "contact_state          0\n",
       "contact_zip           12\n",
       "contact_country        0\n",
       "stateQ                 0\n",
       "accessed              33\n",
       "type.y               640\n",
       "description         8705\n",
       "dtype: int64"
      ]
     },
     "execution_count": 5,
     "metadata": {},
     "output_type": "execute_result"
    }
   ],
   "source": [
    "df.isnull().sum()"
   ]
  },
  {
   "cell_type": "markdown",
   "id": "ae66da77",
   "metadata": {},
   "source": [
    "## Missing Values"
   ]
  },
  {
   "cell_type": "code",
   "execution_count": 7,
   "id": "0e633351",
   "metadata": {},
   "outputs": [
    {
     "data": {
      "text/plain": [
       "<AxesSubplot:>"
      ]
     },
     "execution_count": 7,
     "metadata": {},
     "output_type": "execute_result"
    },
    {
     "data": {
      "image/png": "[encoded data removed]",
      "text/plain": [
       "<Figure size 1440x792 with 2 Axes>"
      ]
     },
     "metadata": {
      "needs_background": "light"
     },
     "output_type": "display_data"
    }
   ],
   "source": [
    "# Visualizing missing values\n",
    "missingValueColumns = df.columns[df.isnull().any()].tolist()\n",
    "msno.matrix(df[missingValueColumns], width_ratios = (10, 1), \\\n",
    "           figsize=(20,11), fontsize = 12, sparkline=True, labels = True)"
   ]
  },
  {
   "cell_type": "code",
   "execution_count": null,
   "id": "2036058c",
   "metadata": {},
   "outputs": [],
   "source": []
  }
 ],
 "metadata": {
  "kernelspec": {
   "display_name": "Python 3 (ipykernel)",
   "language": "python",
   "name": "python3"
  },
  "language_info": {
   "codemirror_mode": {
    "name": "ipython",
    "version": 3
   },
   "file_extension": ".py",
   "mimetype": "text/x-python",
   "name": "python",
   "nbconvert_exporter": "python",
   "pygments_lexer": "ipython3",
   "version": "3.9.12"
  }
 },
 "nbformat": 4,
 "nbformat_minor": 5
}
