{
 "cells": [
  {
   "cell_type": "code",
   "execution_count": 1,
   "id": "68f55183",
   "metadata": {},
   "outputs": [],
   "source": [
    "import pandas as pd\n",
    "import numpy as np\n",
    "\n",
    "# missing value viz\n",
    "import missingno as msno\n",
    "\n",
    "# datetime module\n",
    "import datetime"
   ]
  },
  {
   "cell_type": "markdown",
   "id": "38361639",
   "metadata": {},
   "source": [
    "## All Dog Descriptions - Wrangle"
   ]
  },
  {
   "cell_type": "code",
   "execution_count": 2,
   "id": "6bf5fd5e",
   "metadata": {},
   "outputs": [],
   "source": [
    "df = pd.read_csv('data/descriptions.csv')"
   ]
  },
  {
   "cell_type": "code",
   "execution_count": 3,
   "id": "7c762afa",
   "metadata": {},
   "outputs": [
    {
     "data": {
      "text/html": [
       "<div>\n",
       "<style scoped>\n",
       "    .dataframe tbody tr th:only-of-type {\n",
       "        vertical-align: middle;\n",
       "    }\n",
       "\n",
       "    .dataframe tbody tr th {\n",
       "        vertical-align: top;\n",
       "    }\n",
       "\n",
       "    .dataframe thead th {\n",
       "        text-align: right;\n",
       "    }\n",
       "</style>\n",
       "<table border=\"1\" class=\"dataframe\">\n",
       "  <thead>\n",
       "    <tr style=\"text-align: right;\">\n",
       "      <th></th>\n",
       "      <th>index</th>\n",
       "      <th>id</th>\n",
       "      <th>org_id</th>\n",
       "      <th>url</th>\n",
       "      <th>type.x</th>\n",
       "      <th>species</th>\n",
       "      <th>breed_primary</th>\n",
       "      <th>breed_secondary</th>\n",
       "      <th>breed_mixed</th>\n",
       "      <th>breed_unknown</th>\n",
       "      <th>...</th>\n",
       "      <th>status</th>\n",
       "      <th>posted</th>\n",
       "      <th>contact_city</th>\n",
       "      <th>contact_state</th>\n",
       "      <th>contact_zip</th>\n",
       "      <th>contact_country</th>\n",
       "      <th>stateQ</th>\n",
       "      <th>accessed</th>\n",
       "      <th>type.y</th>\n",
       "      <th>description</th>\n",
       "    </tr>\n",
       "  </thead>\n",
       "  <tbody>\n",
       "    <tr>\n",
       "      <th>0</th>\n",
       "      <td>0</td>\n",
       "      <td>46042150</td>\n",
       "      <td>NV163</td>\n",
       "      <td>https://www.petfinder.com/dog/harley-46042150/...</td>\n",
       "      <td>Dog</td>\n",
       "      <td>Dog</td>\n",
       "      <td>American Staffordshire Terrier</td>\n",
       "      <td>Mixed Breed</td>\n",
       "      <td>True</td>\n",
       "      <td>False</td>\n",
       "      <td>...</td>\n",
       "      <td>adoptable</td>\n",
       "      <td>2019-09-20T16:37:59+0000</td>\n",
       "      <td>Las Vegas</td>\n",
       "      <td>NV</td>\n",
       "      <td>89147</td>\n",
       "      <td>US</td>\n",
       "      <td>89009</td>\n",
       "      <td>2019-09-20</td>\n",
       "      <td>Dog</td>\n",
       "      <td>Harley is not sure how he wound up at shelter ...</td>\n",
       "    </tr>\n",
       "    <tr>\n",
       "      <th>1</th>\n",
       "      <td>1</td>\n",
       "      <td>46042002</td>\n",
       "      <td>NV163</td>\n",
       "      <td>https://www.petfinder.com/dog/biggie-46042002/...</td>\n",
       "      <td>Dog</td>\n",
       "      <td>Dog</td>\n",
       "      <td>Pit Bull Terrier</td>\n",
       "      <td>Mixed Breed</td>\n",
       "      <td>True</td>\n",
       "      <td>False</td>\n",
       "      <td>...</td>\n",
       "      <td>adoptable</td>\n",
       "      <td>2019-09-20T16:24:57+0000</td>\n",
       "      <td>Las Vegas</td>\n",
       "      <td>NV</td>\n",
       "      <td>89147</td>\n",
       "      <td>US</td>\n",
       "      <td>89009</td>\n",
       "      <td>2019-09-20</td>\n",
       "      <td>Dog</td>\n",
       "      <td>6 year old Biggie has lost his home and really...</td>\n",
       "    </tr>\n",
       "    <tr>\n",
       "      <th>2</th>\n",
       "      <td>2</td>\n",
       "      <td>46040898</td>\n",
       "      <td>NV99</td>\n",
       "      <td>https://www.petfinder.com/dog/ziggy-46040898/n...</td>\n",
       "      <td>Dog</td>\n",
       "      <td>Dog</td>\n",
       "      <td>Shepherd</td>\n",
       "      <td>NaN</td>\n",
       "      <td>False</td>\n",
       "      <td>False</td>\n",
       "      <td>...</td>\n",
       "      <td>adoptable</td>\n",
       "      <td>2019-09-20T14:10:11+0000</td>\n",
       "      <td>Mesquite</td>\n",
       "      <td>NV</td>\n",
       "      <td>89027</td>\n",
       "      <td>US</td>\n",
       "      <td>89009</td>\n",
       "      <td>2019-09-20</td>\n",
       "      <td>Dog</td>\n",
       "      <td>Approx 2 years old.\\n Did I catch your eye? I ...</td>\n",
       "    </tr>\n",
       "    <tr>\n",
       "      <th>3</th>\n",
       "      <td>3</td>\n",
       "      <td>46039877</td>\n",
       "      <td>NV202</td>\n",
       "      <td>https://www.petfinder.com/dog/gypsy-46039877/n...</td>\n",
       "      <td>Dog</td>\n",
       "      <td>Dog</td>\n",
       "      <td>German Shepherd Dog</td>\n",
       "      <td>NaN</td>\n",
       "      <td>False</td>\n",
       "      <td>False</td>\n",
       "      <td>...</td>\n",
       "      <td>adoptable</td>\n",
       "      <td>2019-09-20T10:08:22+0000</td>\n",
       "      <td>Pahrump</td>\n",
       "      <td>NV</td>\n",
       "      <td>89048</td>\n",
       "      <td>US</td>\n",
       "      <td>89009</td>\n",
       "      <td>2019-09-20</td>\n",
       "      <td>Dog</td>\n",
       "      <td>NaN</td>\n",
       "    </tr>\n",
       "    <tr>\n",
       "      <th>4</th>\n",
       "      <td>4</td>\n",
       "      <td>46039306</td>\n",
       "      <td>NV184</td>\n",
       "      <td>https://www.petfinder.com/dog/theo-46039306/nv...</td>\n",
       "      <td>Dog</td>\n",
       "      <td>Dog</td>\n",
       "      <td>Dachshund</td>\n",
       "      <td>NaN</td>\n",
       "      <td>False</td>\n",
       "      <td>False</td>\n",
       "      <td>...</td>\n",
       "      <td>adoptable</td>\n",
       "      <td>2019-09-20T06:48:30+0000</td>\n",
       "      <td>Henderson</td>\n",
       "      <td>NV</td>\n",
       "      <td>89052</td>\n",
       "      <td>US</td>\n",
       "      <td>89009</td>\n",
       "      <td>2019-09-20</td>\n",
       "      <td>Dog</td>\n",
       "      <td>Theo is a friendly dachshund mix who gets alon...</td>\n",
       "    </tr>\n",
       "  </tbody>\n",
       "</table>\n",
       "<p>5 rows × 36 columns</p>\n",
       "</div>"
      ],
      "text/plain": [
       "   index        id org_id                                                url  \\\n",
       "0      0  46042150  NV163  https://www.petfinder.com/dog/harley-46042150/...   \n",
       "1      1  46042002  NV163  https://www.petfinder.com/dog/biggie-46042002/...   \n",
       "2      2  46040898   NV99  https://www.petfinder.com/dog/ziggy-46040898/n...   \n",
       "3      3  46039877  NV202  https://www.petfinder.com/dog/gypsy-46039877/n...   \n",
       "4      4  46039306  NV184  https://www.petfinder.com/dog/theo-46039306/nv...   \n",
       "\n",
       "  type.x species                   breed_primary breed_secondary  breed_mixed  \\\n",
       "0    Dog     Dog  American Staffordshire Terrier     Mixed Breed         True   \n",
       "1    Dog     Dog                Pit Bull Terrier     Mixed Breed         True   \n",
       "2    Dog     Dog                        Shepherd             NaN        False   \n",
       "3    Dog     Dog             German Shepherd Dog             NaN        False   \n",
       "4    Dog     Dog                       Dachshund             NaN        False   \n",
       "\n",
       "   breed_unknown  ...     status                    posted contact_city  \\\n",
       "0          False  ...  adoptable  2019-09-20T16:37:59+0000    Las Vegas   \n",
       "1          False  ...  adoptable  2019-09-20T16:24:57+0000    Las Vegas   \n",
       "2          False  ...  adoptable  2019-09-20T14:10:11+0000     Mesquite   \n",
       "3          False  ...  adoptable  2019-09-20T10:08:22+0000      Pahrump   \n",
       "4          False  ...  adoptable  2019-09-20T06:48:30+0000    Henderson   \n",
       "\n",
       "  contact_state contact_zip contact_country stateQ    accessed  type.y  \\\n",
       "0            NV       89147              US  89009  2019-09-20     Dog   \n",
       "1            NV       89147              US  89009  2019-09-20     Dog   \n",
       "2            NV       89027              US  89009  2019-09-20     Dog   \n",
       "3            NV       89048              US  89009  2019-09-20     Dog   \n",
       "4            NV       89052              US  89009  2019-09-20     Dog   \n",
       "\n",
       "                                         description  \n",
       "0  Harley is not sure how he wound up at shelter ...  \n",
       "1  6 year old Biggie has lost his home and really...  \n",
       "2  Approx 2 years old.\\n Did I catch your eye? I ...  \n",
       "3                                                NaN  \n",
       "4  Theo is a friendly dachshund mix who gets alon...  \n",
       "\n",
       "[5 rows x 36 columns]"
      ]
     },
     "execution_count": 3,
     "metadata": {},
     "output_type": "execute_result"
    }
   ],
   "source": [
    "df.head()"
   ]
  },
  {
   "cell_type": "code",
   "execution_count": 4,
   "id": "50c1eec5",
   "metadata": {},
   "outputs": [
    {
     "data": {
      "text/plain": [
       "(58180, 36)"
      ]
     },
     "execution_count": 4,
     "metadata": {},
     "output_type": "execute_result"
    }
   ],
   "source": [
    "df.shape"
   ]
  },
  {
   "cell_type": "code",
   "execution_count": 5,
   "id": "4c734942",
   "metadata": {},
   "outputs": [
    {
     "data": {
      "text/plain": [
       "index                  0\n",
       "id                     0\n",
       "org_id                 0\n",
       "url                    0\n",
       "type.x                 0\n",
       "species                0\n",
       "breed_primary          0\n",
       "breed_secondary    37359\n",
       "breed_mixed            0\n",
       "breed_unknown          0\n",
       "color_primary      32046\n",
       "color_secondary    46121\n",
       "color_tertiary     56963\n",
       "age                    0\n",
       "sex                    0\n",
       "size                   0\n",
       "coat               30995\n",
       "fixed                  0\n",
       "house_trained          0\n",
       "declawed           58180\n",
       "special_needs          0\n",
       "shots_current          0\n",
       "env_children       30153\n",
       "env_dogs           23511\n",
       "env_cats           38828\n",
       "name                   0\n",
       "status                 0\n",
       "posted                 0\n",
       "contact_city           0\n",
       "contact_state          0\n",
       "contact_zip           12\n",
       "contact_country        0\n",
       "stateQ                 0\n",
       "accessed              33\n",
       "type.y               640\n",
       "description         8705\n",
       "dtype: int64"
      ]
     },
     "execution_count": 5,
     "metadata": {},
     "output_type": "execute_result"
    }
   ],
   "source": [
    "df.isnull().sum()"
   ]
  },
  {
   "cell_type": "markdown",
   "id": "e30e2177",
   "metadata": {},
   "source": [
    "## Missing Values"
   ]
  },
  {
   "cell_type": "code",
   "execution_count": 6,
   "id": "59764399",
   "metadata": {},
   "outputs": [
    {
     "data": {
      "text/plain": [
       "<AxesSubplot:>"
      ]
     },
     "execution_count": 6,
     "metadata": {},
     "output_type": "execute_result"
    },
    {
     "data": {
      "image/png": "[encoded data removed]",
      "text/plain": [
       "<Figure size 1440x792 with 2 Axes>"
      ]
     },
     "metadata": {
      "needs_background": "light"
     },
     "output_type": "display_data"
    }
   ],
   "source": [
    "# Visualizing missing values - matrix\n",
    "missingValueColumns = df.columns[df.isnull().any()].tolist()\n",
    "msno.matrix(df[missingValueColumns], width_ratios = (10, 1), \\\n",
    "           figsize=(20,11), fontsize = 12, sparkline=True, labels = True)"
   ]
  },
  {
   "cell_type": "code",
   "execution_count": 7,
   "id": "48f6908a",
   "metadata": {},
   "outputs": [
    {
     "data": {
      "text/plain": [
       "<AxesSubplot:>"
      ]
     },
     "execution_count": 7,
     "metadata": {},
     "output_type": "execute_result"
    },
    {
     "data": {
      "image/png": "[encoded data removed]",
      "text/plain": [
       "<Figure size 1800x720 with 3 Axes>"
      ]
     },
     "metadata": {
      "needs_background": "light"
     },
     "output_type": "display_data"
    }
   ],
   "source": [
    "# bar plot\n",
    "msno.bar(df)"
   ]
  },
  {
   "cell_type": "code",
   "execution_count": 8,
   "id": "daf1fc5f",
   "metadata": {},
   "outputs": [
    {
     "data": {
      "text/plain": [
       "<AxesSubplot:>"
      ]
     },
     "execution_count": 8,
     "metadata": {},
     "output_type": "execute_result"
    },
    {
     "data": {
      "image/png": "[encoded data removed]",
      "text/plain": [
       "<Figure size 1440x864 with 2 Axes>"
      ]
     },
     "metadata": {
      "needs_background": "light"
     },
     "output_type": "display_data"
    }
   ],
   "source": [
    "# heatmap\n",
    "msno.heatmap(df)"
   ]
  },
  {
   "cell_type": "code",
   "execution_count": 9,
   "id": "8f47f11a",
   "metadata": {},
   "outputs": [
    {
     "data": {
      "text/plain": [
       "index              False\n",
       "id                 False\n",
       "org_id             False\n",
       "url                False\n",
       "type.x             False\n",
       "species            False\n",
       "breed_primary      False\n",
       "breed_secondary     True\n",
       "breed_mixed        False\n",
       "breed_unknown      False\n",
       "color_primary       True\n",
       "color_secondary     True\n",
       "color_tertiary      True\n",
       "age                False\n",
       "sex                False\n",
       "size               False\n",
       "coat                True\n",
       "fixed              False\n",
       "house_trained      False\n",
       "declawed            True\n",
       "special_needs      False\n",
       "shots_current      False\n",
       "env_children        True\n",
       "env_dogs           False\n",
       "env_cats            True\n",
       "name               False\n",
       "status             False\n",
       "posted             False\n",
       "contact_city       False\n",
       "contact_state      False\n",
       "contact_zip        False\n",
       "contact_country    False\n",
       "stateQ             False\n",
       "accessed           False\n",
       "type.y             False\n",
       "description        False\n",
       "dtype: bool"
      ]
     },
     "execution_count": 9,
     "metadata": {},
     "output_type": "execute_result"
    }
   ],
   "source": [
    "# columns with more than 50% missing values\n",
    "(df.isnull().sum()/df.shape[0])>0.5"
   ]
  },
  {
   "cell_type": "code",
   "execution_count": 10,
   "id": "b2719b11",
   "metadata": {},
   "outputs": [],
   "source": [
    "# column with more than 50% missing values' names\n",
    "cols_to_drop = df.columns[((df.isnull().sum()/df.shape[0])>0.5)]"
   ]
  },
  {
   "cell_type": "code",
   "execution_count": 11,
   "id": "b715386f",
   "metadata": {},
   "outputs": [
    {
     "data": {
      "text/plain": [
       "Index(['breed_secondary', 'color_primary', 'color_secondary', 'color_tertiary',\n",
       "       'coat', 'declawed', 'env_children', 'env_cats'],\n",
       "      dtype='object')"
      ]
     },
     "execution_count": 11,
     "metadata": {},
     "output_type": "execute_result"
    }
   ],
   "source": [
    "cols_to_drop"
   ]
  },
  {
   "cell_type": "code",
   "execution_count": 12,
   "id": "0569c018",
   "metadata": {},
   "outputs": [],
   "source": [
    "# convert columns to a list\n",
    "cols_to_drop = cols_to_drop.tolist()"
   ]
  },
  {
   "cell_type": "code",
   "execution_count": 13,
   "id": "371ba459",
   "metadata": {},
   "outputs": [],
   "source": [
    "# drop columns with more than 50% missing values\n",
    "df.drop(columns = cols_to_drop, inplace = True)"
   ]
  },
  {
   "cell_type": "code",
   "execution_count": 14,
   "id": "5502b655",
   "metadata": {},
   "outputs": [
    {
     "data": {
      "text/html": [
       "<div>\n",
       "<style scoped>\n",
       "    .dataframe tbody tr th:only-of-type {\n",
       "        vertical-align: middle;\n",
       "    }\n",
       "\n",
       "    .dataframe tbody tr th {\n",
       "        vertical-align: top;\n",
       "    }\n",
       "\n",
       "    .dataframe thead th {\n",
       "        text-align: right;\n",
       "    }\n",
       "</style>\n",
       "<table border=\"1\" class=\"dataframe\">\n",
       "  <thead>\n",
       "    <tr style=\"text-align: right;\">\n",
       "      <th></th>\n",
       "      <th>index</th>\n",
       "      <th>id</th>\n",
       "      <th>org_id</th>\n",
       "      <th>url</th>\n",
       "      <th>type.x</th>\n",
       "      <th>species</th>\n",
       "      <th>breed_primary</th>\n",
       "      <th>breed_mixed</th>\n",
       "      <th>breed_unknown</th>\n",
       "      <th>age</th>\n",
       "      <th>...</th>\n",
       "      <th>status</th>\n",
       "      <th>posted</th>\n",
       "      <th>contact_city</th>\n",
       "      <th>contact_state</th>\n",
       "      <th>contact_zip</th>\n",
       "      <th>contact_country</th>\n",
       "      <th>stateQ</th>\n",
       "      <th>accessed</th>\n",
       "      <th>type.y</th>\n",
       "      <th>description</th>\n",
       "    </tr>\n",
       "  </thead>\n",
       "  <tbody>\n",
       "    <tr>\n",
       "      <th>0</th>\n",
       "      <td>0</td>\n",
       "      <td>46042150</td>\n",
       "      <td>NV163</td>\n",
       "      <td>https://www.petfinder.com/dog/harley-46042150/...</td>\n",
       "      <td>Dog</td>\n",
       "      <td>Dog</td>\n",
       "      <td>American Staffordshire Terrier</td>\n",
       "      <td>True</td>\n",
       "      <td>False</td>\n",
       "      <td>Senior</td>\n",
       "      <td>...</td>\n",
       "      <td>adoptable</td>\n",
       "      <td>2019-09-20T16:37:59+0000</td>\n",
       "      <td>Las Vegas</td>\n",
       "      <td>NV</td>\n",
       "      <td>89147</td>\n",
       "      <td>US</td>\n",
       "      <td>89009</td>\n",
       "      <td>2019-09-20</td>\n",
       "      <td>Dog</td>\n",
       "      <td>Harley is not sure how he wound up at shelter ...</td>\n",
       "    </tr>\n",
       "    <tr>\n",
       "      <th>1</th>\n",
       "      <td>1</td>\n",
       "      <td>46042002</td>\n",
       "      <td>NV163</td>\n",
       "      <td>https://www.petfinder.com/dog/biggie-46042002/...</td>\n",
       "      <td>Dog</td>\n",
       "      <td>Dog</td>\n",
       "      <td>Pit Bull Terrier</td>\n",
       "      <td>True</td>\n",
       "      <td>False</td>\n",
       "      <td>Adult</td>\n",
       "      <td>...</td>\n",
       "      <td>adoptable</td>\n",
       "      <td>2019-09-20T16:24:57+0000</td>\n",
       "      <td>Las Vegas</td>\n",
       "      <td>NV</td>\n",
       "      <td>89147</td>\n",
       "      <td>US</td>\n",
       "      <td>89009</td>\n",
       "      <td>2019-09-20</td>\n",
       "      <td>Dog</td>\n",
       "      <td>6 year old Biggie has lost his home and really...</td>\n",
       "    </tr>\n",
       "    <tr>\n",
       "      <th>2</th>\n",
       "      <td>2</td>\n",
       "      <td>46040898</td>\n",
       "      <td>NV99</td>\n",
       "      <td>https://www.petfinder.com/dog/ziggy-46040898/n...</td>\n",
       "      <td>Dog</td>\n",
       "      <td>Dog</td>\n",
       "      <td>Shepherd</td>\n",
       "      <td>False</td>\n",
       "      <td>False</td>\n",
       "      <td>Adult</td>\n",
       "      <td>...</td>\n",
       "      <td>adoptable</td>\n",
       "      <td>2019-09-20T14:10:11+0000</td>\n",
       "      <td>Mesquite</td>\n",
       "      <td>NV</td>\n",
       "      <td>89027</td>\n",
       "      <td>US</td>\n",
       "      <td>89009</td>\n",
       "      <td>2019-09-20</td>\n",
       "      <td>Dog</td>\n",
       "      <td>Approx 2 years old.\\n Did I catch your eye? I ...</td>\n",
       "    </tr>\n",
       "    <tr>\n",
       "      <th>3</th>\n",
       "      <td>3</td>\n",
       "      <td>46039877</td>\n",
       "      <td>NV202</td>\n",
       "      <td>https://www.petfinder.com/dog/gypsy-46039877/n...</td>\n",
       "      <td>Dog</td>\n",
       "      <td>Dog</td>\n",
       "      <td>German Shepherd Dog</td>\n",
       "      <td>False</td>\n",
       "      <td>False</td>\n",
       "      <td>Baby</td>\n",
       "      <td>...</td>\n",
       "      <td>adoptable</td>\n",
       "      <td>2019-09-20T10:08:22+0000</td>\n",
       "      <td>Pahrump</td>\n",
       "      <td>NV</td>\n",
       "      <td>89048</td>\n",
       "      <td>US</td>\n",
       "      <td>89009</td>\n",
       "      <td>2019-09-20</td>\n",
       "      <td>Dog</td>\n",
       "      <td>NaN</td>\n",
       "    </tr>\n",
       "    <tr>\n",
       "      <th>4</th>\n",
       "      <td>4</td>\n",
       "      <td>46039306</td>\n",
       "      <td>NV184</td>\n",
       "      <td>https://www.petfinder.com/dog/theo-46039306/nv...</td>\n",
       "      <td>Dog</td>\n",
       "      <td>Dog</td>\n",
       "      <td>Dachshund</td>\n",
       "      <td>False</td>\n",
       "      <td>False</td>\n",
       "      <td>Young</td>\n",
       "      <td>...</td>\n",
       "      <td>adoptable</td>\n",
       "      <td>2019-09-20T06:48:30+0000</td>\n",
       "      <td>Henderson</td>\n",
       "      <td>NV</td>\n",
       "      <td>89052</td>\n",
       "      <td>US</td>\n",
       "      <td>89009</td>\n",
       "      <td>2019-09-20</td>\n",
       "      <td>Dog</td>\n",
       "      <td>Theo is a friendly dachshund mix who gets alon...</td>\n",
       "    </tr>\n",
       "  </tbody>\n",
       "</table>\n",
       "<p>5 rows × 28 columns</p>\n",
       "</div>"
      ],
      "text/plain": [
       "   index        id org_id                                                url  \\\n",
       "0      0  46042150  NV163  https://www.petfinder.com/dog/harley-46042150/...   \n",
       "1      1  46042002  NV163  https://www.petfinder.com/dog/biggie-46042002/...   \n",
       "2      2  46040898   NV99  https://www.petfinder.com/dog/ziggy-46040898/n...   \n",
       "3      3  46039877  NV202  https://www.petfinder.com/dog/gypsy-46039877/n...   \n",
       "4      4  46039306  NV184  https://www.petfinder.com/dog/theo-46039306/nv...   \n",
       "\n",
       "  type.x species                   breed_primary  breed_mixed  breed_unknown  \\\n",
       "0    Dog     Dog  American Staffordshire Terrier         True          False   \n",
       "1    Dog     Dog                Pit Bull Terrier         True          False   \n",
       "2    Dog     Dog                        Shepherd        False          False   \n",
       "3    Dog     Dog             German Shepherd Dog        False          False   \n",
       "4    Dog     Dog                       Dachshund        False          False   \n",
       "\n",
       "      age  ...     status                    posted  contact_city  \\\n",
       "0  Senior  ...  adoptable  2019-09-20T16:37:59+0000     Las Vegas   \n",
       "1   Adult  ...  adoptable  2019-09-20T16:24:57+0000     Las Vegas   \n",
       "2   Adult  ...  adoptable  2019-09-20T14:10:11+0000      Mesquite   \n",
       "3    Baby  ...  adoptable  2019-09-20T10:08:22+0000       Pahrump   \n",
       "4   Young  ...  adoptable  2019-09-20T06:48:30+0000     Henderson   \n",
       "\n",
       "   contact_state  contact_zip  contact_country stateQ    accessed type.y  \\\n",
       "0             NV        89147               US  89009  2019-09-20    Dog   \n",
       "1             NV        89147               US  89009  2019-09-20    Dog   \n",
       "2             NV        89027               US  89009  2019-09-20    Dog   \n",
       "3             NV        89048               US  89009  2019-09-20    Dog   \n",
       "4             NV        89052               US  89009  2019-09-20    Dog   \n",
       "\n",
       "                                         description  \n",
       "0  Harley is not sure how he wound up at shelter ...  \n",
       "1  6 year old Biggie has lost his home and really...  \n",
       "2  Approx 2 years old.\\n Did I catch your eye? I ...  \n",
       "3                                                NaN  \n",
       "4  Theo is a friendly dachshund mix who gets alon...  \n",
       "\n",
       "[5 rows x 28 columns]"
      ]
     },
     "execution_count": 14,
     "metadata": {},
     "output_type": "execute_result"
    }
   ],
   "source": [
    "# check df after dropping cols\n",
    "df.head()"
   ]
  },
  {
   "cell_type": "markdown",
   "id": "5e4e0897",
   "metadata": {},
   "source": [
    "## Drop Unnecessary Columns"
   ]
  },
  {
   "cell_type": "code",
   "execution_count": 15,
   "id": "d3973bf3",
   "metadata": {},
   "outputs": [
    {
     "data": {
      "text/plain": [
       "Index(['index', 'id', 'org_id', 'url', 'type.x', 'species', 'breed_primary',\n",
       "       'breed_mixed', 'breed_unknown', 'age', 'sex', 'size', 'fixed',\n",
       "       'house_trained', 'special_needs', 'shots_current', 'env_dogs', 'name',\n",
       "       'status', 'posted', 'contact_city', 'contact_state', 'contact_zip',\n",
       "       'contact_country', 'stateQ', 'accessed', 'type.y', 'description'],\n",
       "      dtype='object')"
      ]
     },
     "execution_count": 15,
     "metadata": {},
     "output_type": "execute_result"
    }
   ],
   "source": [
    "df.columns"
   ]
  },
  {
   "cell_type": "code",
   "execution_count": 16,
   "id": "2165b504",
   "metadata": {},
   "outputs": [
    {
     "data": {
      "text/plain": [
       "Dog    57540\n",
       "Name: type.y, dtype: int64"
      ]
     },
     "execution_count": 16,
     "metadata": {},
     "output_type": "execute_result"
    }
   ],
   "source": [
    "df['type.y'].value_counts()"
   ]
  },
  {
   "cell_type": "code",
   "execution_count": 17,
   "id": "167ac747",
   "metadata": {},
   "outputs": [
    {
     "data": {
      "text/plain": [
       "adoptable                   58147\n",
       "2017-06-16T18:44:33+0000        1\n",
       "2019-07-25T19:53:21+0000        1\n",
       "2015-06-29T23:58:09+0000        1\n",
       "2015-02-07T13:06:43+0000        1\n",
       "2019-09-20T01:50:51+0000        1\n",
       "2019-02-18T12:02:48+0000        1\n",
       "2013-10-10T13:57:39+0000        1\n",
       "2015-12-25T12:28:30+0000        1\n",
       "2018-04-05T05:18:31+0000        1\n",
       "2019-09-13T06:08:17+0000        1\n",
       "2019-09-10T16:43:35+0000        1\n",
       "2019-09-09T17:05:17+0000        1\n",
       "2019-08-24T16:32:31+0000        1\n",
       "2019-07-31T16:21:07+0000        1\n",
       "2019-07-29T21:50:16+0000        1\n",
       "2019-09-08T18:21:21+0000        1\n",
       "2018-04-18T13:45:46+0000        1\n",
       "2019-04-25T01:56:52+0000        1\n",
       "2019-09-13T19:39:28+0000        1\n",
       "2019-09-07T04:09:12+0000        1\n",
       "2017-10-07T23:48:20+0000        1\n",
       "2018-07-05T00:55:08+0000        1\n",
       "2015-09-07T12:57:27+0000        1\n",
       "2016-12-15T13:33:43+0000        1\n",
       "2019-05-14T21:09:27+0000        1\n",
       "2019-08-10T16:00:35+0000        1\n",
       "2019-07-11T14:16:38+0000        1\n",
       "2019-07-11T20:34:42+0000        1\n",
       "2019-07-18T14:20:58+0000        1\n",
       "2019-08-06T12:15:58+0000        1\n",
       "2019-09-01T15:12:06+0000        1\n",
       "2017-05-26T21:43:16+0000        1\n",
       "2019-07-15T16:57:05+0000        1\n",
       "Name: status, dtype: int64"
      ]
     },
     "execution_count": 17,
     "metadata": {},
     "output_type": "execute_result"
    }
   ],
   "source": [
    "df['status'].value_counts()"
   ]
  },
  {
   "cell_type": "code",
   "execution_count": 18,
   "id": "295db9e9",
   "metadata": {},
   "outputs": [
    {
     "data": {
      "text/plain": [
       "CT       6725\n",
       "DC       4665\n",
       "GA       3439\n",
       "NC       3085\n",
       "FL       2659\n",
       "         ... \n",
       "89408       8\n",
       "89801       5\n",
       "89027       2\n",
       "RI          1\n",
       "89014       1\n",
       "Name: stateQ, Length: 62, dtype: int64"
      ]
     },
     "execution_count": 18,
     "metadata": {},
     "output_type": "execute_result"
    }
   ],
   "source": [
    "df['stateQ'].value_counts()"
   ]
  },
  {
   "cell_type": "code",
   "execution_count": 19,
   "id": "e8f6a109",
   "metadata": {},
   "outputs": [
    {
     "data": {
      "text/plain": [
       "2019-08-31T10:01:48+0000    121\n",
       "2019-08-31T10:46:47+0000     83\n",
       "2019-07-31T17:35:08+0000     68\n",
       "2019-07-31T17:27:28+0000     63\n",
       "2019-08-31T10:40:37+0000     61\n",
       "                           ... \n",
       "2019-09-18T14:06:33+0000      1\n",
       "2019-09-18T14:03:35+0000      1\n",
       "2019-09-18T13:53:33+0000      1\n",
       "2019-09-18T13:39:23+0000      1\n",
       "2018-09-03T20:42:24+0000      1\n",
       "Name: posted, Length: 48373, dtype: int64"
      ]
     },
     "execution_count": 19,
     "metadata": {},
     "output_type": "execute_result"
    }
   ],
   "source": [
    "df['posted'].value_counts()"
   ]
  },
  {
   "cell_type": "code",
   "execution_count": 20,
   "id": "e5eb79e6",
   "metadata": {},
   "outputs": [],
   "source": [
    "# drop columns\n",
    "df.drop(columns = ['index', 'url', 'type.x', 'species', 'type.y', 'status'], inplace = True)"
   ]
  },
  {
   "cell_type": "markdown",
   "id": "645ba9ed",
   "metadata": {},
   "source": [
    "## Data Types"
   ]
  },
  {
   "cell_type": "code",
   "execution_count": 21,
   "id": "bde0d625",
   "metadata": {
    "scrolled": true
   },
   "outputs": [
    {
     "data": {
      "text/plain": [
       "id                  int64\n",
       "org_id             object\n",
       "breed_primary      object\n",
       "breed_mixed          bool\n",
       "breed_unknown        bool\n",
       "age                object\n",
       "sex                object\n",
       "size               object\n",
       "fixed                bool\n",
       "house_trained        bool\n",
       "special_needs        bool\n",
       "shots_current        bool\n",
       "env_dogs           object\n",
       "name               object\n",
       "posted             object\n",
       "contact_city       object\n",
       "contact_state      object\n",
       "contact_zip        object\n",
       "contact_country    object\n",
       "stateQ             object\n",
       "accessed           object\n",
       "description        object\n",
       "dtype: object"
      ]
     },
     "execution_count": 21,
     "metadata": {},
     "output_type": "execute_result"
    }
   ],
   "source": [
    "df.dtypes"
   ]
  },
  {
   "cell_type": "code",
   "execution_count": 22,
   "id": "8db4f6a6",
   "metadata": {},
   "outputs": [
    {
     "data": {
      "text/html": [
       "<div>\n",
       "<style scoped>\n",
       "    .dataframe tbody tr th:only-of-type {\n",
       "        vertical-align: middle;\n",
       "    }\n",
       "\n",
       "    .dataframe tbody tr th {\n",
       "        vertical-align: top;\n",
       "    }\n",
       "\n",
       "    .dataframe thead th {\n",
       "        text-align: right;\n",
       "    }\n",
       "</style>\n",
       "<table border=\"1\" class=\"dataframe\">\n",
       "  <thead>\n",
       "    <tr style=\"text-align: right;\">\n",
       "      <th></th>\n",
       "      <th>id</th>\n",
       "      <th>org_id</th>\n",
       "      <th>breed_primary</th>\n",
       "      <th>breed_mixed</th>\n",
       "      <th>breed_unknown</th>\n",
       "      <th>age</th>\n",
       "      <th>sex</th>\n",
       "      <th>size</th>\n",
       "      <th>fixed</th>\n",
       "      <th>house_trained</th>\n",
       "      <th>...</th>\n",
       "      <th>env_dogs</th>\n",
       "      <th>name</th>\n",
       "      <th>posted</th>\n",
       "      <th>contact_city</th>\n",
       "      <th>contact_state</th>\n",
       "      <th>contact_zip</th>\n",
       "      <th>contact_country</th>\n",
       "      <th>stateQ</th>\n",
       "      <th>accessed</th>\n",
       "      <th>description</th>\n",
       "    </tr>\n",
       "  </thead>\n",
       "  <tbody>\n",
       "    <tr>\n",
       "      <th>0</th>\n",
       "      <td>46042150</td>\n",
       "      <td>NV163</td>\n",
       "      <td>American Staffordshire Terrier</td>\n",
       "      <td>True</td>\n",
       "      <td>False</td>\n",
       "      <td>Senior</td>\n",
       "      <td>Male</td>\n",
       "      <td>Medium</td>\n",
       "      <td>True</td>\n",
       "      <td>True</td>\n",
       "      <td>...</td>\n",
       "      <td>NaN</td>\n",
       "      <td>HARLEY</td>\n",
       "      <td>2019-09-20T16:37:59+0000</td>\n",
       "      <td>Las Vegas</td>\n",
       "      <td>NV</td>\n",
       "      <td>89147</td>\n",
       "      <td>US</td>\n",
       "      <td>89009</td>\n",
       "      <td>2019-09-20</td>\n",
       "      <td>Harley is not sure how he wound up at shelter ...</td>\n",
       "    </tr>\n",
       "    <tr>\n",
       "      <th>1</th>\n",
       "      <td>46042002</td>\n",
       "      <td>NV163</td>\n",
       "      <td>Pit Bull Terrier</td>\n",
       "      <td>True</td>\n",
       "      <td>False</td>\n",
       "      <td>Adult</td>\n",
       "      <td>Male</td>\n",
       "      <td>Large</td>\n",
       "      <td>True</td>\n",
       "      <td>True</td>\n",
       "      <td>...</td>\n",
       "      <td>NaN</td>\n",
       "      <td>BIGGIE</td>\n",
       "      <td>2019-09-20T16:24:57+0000</td>\n",
       "      <td>Las Vegas</td>\n",
       "      <td>NV</td>\n",
       "      <td>89147</td>\n",
       "      <td>US</td>\n",
       "      <td>89009</td>\n",
       "      <td>2019-09-20</td>\n",
       "      <td>6 year old Biggie has lost his home and really...</td>\n",
       "    </tr>\n",
       "    <tr>\n",
       "      <th>2</th>\n",
       "      <td>46040898</td>\n",
       "      <td>NV99</td>\n",
       "      <td>Shepherd</td>\n",
       "      <td>False</td>\n",
       "      <td>False</td>\n",
       "      <td>Adult</td>\n",
       "      <td>Male</td>\n",
       "      <td>Large</td>\n",
       "      <td>True</td>\n",
       "      <td>False</td>\n",
       "      <td>...</td>\n",
       "      <td>NaN</td>\n",
       "      <td>Ziggy</td>\n",
       "      <td>2019-09-20T14:10:11+0000</td>\n",
       "      <td>Mesquite</td>\n",
       "      <td>NV</td>\n",
       "      <td>89027</td>\n",
       "      <td>US</td>\n",
       "      <td>89009</td>\n",
       "      <td>2019-09-20</td>\n",
       "      <td>Approx 2 years old.\\n Did I catch your eye? I ...</td>\n",
       "    </tr>\n",
       "    <tr>\n",
       "      <th>3</th>\n",
       "      <td>46039877</td>\n",
       "      <td>NV202</td>\n",
       "      <td>German Shepherd Dog</td>\n",
       "      <td>False</td>\n",
       "      <td>False</td>\n",
       "      <td>Baby</td>\n",
       "      <td>Female</td>\n",
       "      <td>Large</td>\n",
       "      <td>False</td>\n",
       "      <td>False</td>\n",
       "      <td>...</td>\n",
       "      <td>NaN</td>\n",
       "      <td>Gypsy</td>\n",
       "      <td>2019-09-20T10:08:22+0000</td>\n",
       "      <td>Pahrump</td>\n",
       "      <td>NV</td>\n",
       "      <td>89048</td>\n",
       "      <td>US</td>\n",
       "      <td>89009</td>\n",
       "      <td>2019-09-20</td>\n",
       "      <td>NaN</td>\n",
       "    </tr>\n",
       "    <tr>\n",
       "      <th>4</th>\n",
       "      <td>46039306</td>\n",
       "      <td>NV184</td>\n",
       "      <td>Dachshund</td>\n",
       "      <td>False</td>\n",
       "      <td>False</td>\n",
       "      <td>Young</td>\n",
       "      <td>Male</td>\n",
       "      <td>Small</td>\n",
       "      <td>True</td>\n",
       "      <td>False</td>\n",
       "      <td>...</td>\n",
       "      <td>True</td>\n",
       "      <td>Theo</td>\n",
       "      <td>2019-09-20T06:48:30+0000</td>\n",
       "      <td>Henderson</td>\n",
       "      <td>NV</td>\n",
       "      <td>89052</td>\n",
       "      <td>US</td>\n",
       "      <td>89009</td>\n",
       "      <td>2019-09-20</td>\n",
       "      <td>Theo is a friendly dachshund mix who gets alon...</td>\n",
       "    </tr>\n",
       "  </tbody>\n",
       "</table>\n",
       "<p>5 rows × 22 columns</p>\n",
       "</div>"
      ],
      "text/plain": [
       "         id org_id                   breed_primary  breed_mixed  \\\n",
       "0  46042150  NV163  American Staffordshire Terrier         True   \n",
       "1  46042002  NV163                Pit Bull Terrier         True   \n",
       "2  46040898   NV99                        Shepherd        False   \n",
       "3  46039877  NV202             German Shepherd Dog        False   \n",
       "4  46039306  NV184                       Dachshund        False   \n",
       "\n",
       "   breed_unknown     age     sex    size  fixed  house_trained  ...  env_dogs  \\\n",
       "0          False  Senior    Male  Medium   True           True  ...       NaN   \n",
       "1          False   Adult    Male   Large   True           True  ...       NaN   \n",
       "2          False   Adult    Male   Large   True          False  ...       NaN   \n",
       "3          False    Baby  Female   Large  False          False  ...       NaN   \n",
       "4          False   Young    Male   Small   True          False  ...      True   \n",
       "\n",
       "     name                    posted contact_city contact_state contact_zip  \\\n",
       "0  HARLEY  2019-09-20T16:37:59+0000    Las Vegas            NV       89147   \n",
       "1  BIGGIE  2019-09-20T16:24:57+0000    Las Vegas            NV       89147   \n",
       "2   Ziggy  2019-09-20T14:10:11+0000     Mesquite            NV       89027   \n",
       "3   Gypsy  2019-09-20T10:08:22+0000      Pahrump            NV       89048   \n",
       "4    Theo  2019-09-20T06:48:30+0000    Henderson            NV       89052   \n",
       "\n",
       "  contact_country stateQ    accessed  \\\n",
       "0              US  89009  2019-09-20   \n",
       "1              US  89009  2019-09-20   \n",
       "2              US  89009  2019-09-20   \n",
       "3              US  89009  2019-09-20   \n",
       "4              US  89009  2019-09-20   \n",
       "\n",
       "                                         description  \n",
       "0  Harley is not sure how he wound up at shelter ...  \n",
       "1  6 year old Biggie has lost his home and really...  \n",
       "2  Approx 2 years old.\\n Did I catch your eye? I ...  \n",
       "3                                                NaN  \n",
       "4  Theo is a friendly dachshund mix who gets alon...  \n",
       "\n",
       "[5 rows x 22 columns]"
      ]
     },
     "execution_count": 22,
     "metadata": {},
     "output_type": "execute_result"
    }
   ],
   "source": [
    "df.head()"
   ]
  },
  {
   "cell_type": "markdown",
   "id": "91384df2",
   "metadata": {},
   "source": [
    "**`posted`**"
   ]
  },
  {
   "cell_type": "code",
   "execution_count": 23,
   "id": "cc06dc1b",
   "metadata": {
    "scrolled": true
   },
   "outputs": [],
   "source": [
    "df.posted = df.posted.str.slice(0,19)"
   ]
  },
  {
   "cell_type": "code",
   "execution_count": 24,
   "id": "250eaeba",
   "metadata": {},
   "outputs": [
    {
     "data": {
      "text/plain": [
       "0        2019-09-20T16:37:59\n",
       "1        2019-09-20T16:24:57\n",
       "2        2019-09-20T14:10:11\n",
       "3        2019-09-20T10:08:22\n",
       "4        2019-09-20T06:48:30\n",
       "                ...         \n",
       "58175    2019-05-03T14:23:49\n",
       "58176    2019-04-13T16:20:24\n",
       "58177    2018-09-27T04:18:56\n",
       "58178    2018-09-12T05:03:38\n",
       "58179    2018-09-03T20:42:24\n",
       "Name: posted, Length: 58180, dtype: object"
      ]
     },
     "execution_count": 24,
     "metadata": {},
     "output_type": "execute_result"
    }
   ],
   "source": [
    "df.posted"
   ]
  },
  {
   "cell_type": "code",
   "execution_count": 25,
   "id": "73c5b9f0",
   "metadata": {},
   "outputs": [],
   "source": [
    "# extract date from `posted`\n",
    "df['post_date'] = df.posted.str.slice(0,10)"
   ]
  },
  {
   "cell_type": "code",
   "execution_count": 26,
   "id": "951bd76e",
   "metadata": {},
   "outputs": [
    {
     "data": {
      "text/plain": [
       "0        2019-09-20\n",
       "1        2019-09-20\n",
       "2        2019-09-20\n",
       "3        2019-09-20\n",
       "4        2019-09-20\n",
       "            ...    \n",
       "58175    2019-05-03\n",
       "58176    2019-04-13\n",
       "58177    2018-09-27\n",
       "58178    2018-09-12\n",
       "58179    2018-09-03\n",
       "Name: post_date, Length: 58180, dtype: object"
      ]
     },
     "execution_count": 26,
     "metadata": {},
     "output_type": "execute_result"
    }
   ],
   "source": [
    "# check date\n",
    "df['post_date']"
   ]
  },
  {
   "cell_type": "markdown",
   "id": "82ed86d8",
   "metadata": {},
   "source": [
    "**Convert to date and time**"
   ]
  },
  {
   "cell_type": "code",
   "execution_count": 27,
   "id": "66dbe2af",
   "metadata": {},
   "outputs": [
    {
     "data": {
      "text/plain": [
       "Int64Index([ 5549, 10888, 11983, 12495, 12600, 12613, 17619, 19747, 19845,\n",
       "            22161, 22229, 29283, 30471, 31581, 31888, 33000, 33527, 34188,\n",
       "            44830, 53168, 53539, 55434, 55467, 55915, 55975, 56013, 56248,\n",
       "            56464, 56473, 56541],\n",
       "           dtype='int64')"
      ]
     },
     "execution_count": 27,
     "metadata": {},
     "output_type": "execute_result"
    }
   ],
   "source": [
    "# filter rows start with letter\n",
    "df[df.post_date.str.isalpha()].index"
   ]
  },
  {
   "cell_type": "code",
   "execution_count": 28,
   "id": "670ef7c1",
   "metadata": {},
   "outputs": [],
   "source": [
    "# filter rows start with letter\n",
    "indexname = df[df.post_date.str.isalpha()].index\n",
    "# drop rows with nondatetime value\n",
    "df.drop(indexname, inplace=True)"
   ]
  },
  {
   "cell_type": "code",
   "execution_count": 29,
   "id": "8027006f",
   "metadata": {
    "scrolled": true
   },
   "outputs": [
    {
     "data": {
      "text/plain": [
       "Int64Index([], dtype='int64')"
      ]
     },
     "execution_count": 29,
     "metadata": {},
     "output_type": "execute_result"
    }
   ],
   "source": [
    "df[df.post_date.str.isalpha()].index"
   ]
  },
  {
   "cell_type": "code",
   "execution_count": 30,
   "id": "dca73ddb",
   "metadata": {},
   "outputs": [],
   "source": [
    "# drop specific row\n",
    "indexname = df[df.post_date=='Las Vegas'].index\n",
    "# drop rows with nondatetime value\n",
    "df.drop(indexname, inplace=True)"
   ]
  },
  {
   "cell_type": "code",
   "execution_count": 31,
   "id": "522e13d9",
   "metadata": {},
   "outputs": [],
   "source": [
    "# drop specific row\n",
    "indexname = df[df.post_date=='Silver Spr'].index\n",
    "# drop rows with nondatetime value\n",
    "df.drop(indexname, inplace=True)"
   ]
  },
  {
   "cell_type": "code",
   "execution_count": 32,
   "id": "6a2da455",
   "metadata": {},
   "outputs": [],
   "source": [
    "# drop specific row\n",
    "indexname = df[df.post_date=='lake charl'].index\n",
    "# drop rows with nondatetime value\n",
    "df.drop(indexname, inplace=True)"
   ]
  },
  {
   "cell_type": "code",
   "execution_count": 33,
   "id": "6840a41f",
   "metadata": {},
   "outputs": [],
   "source": [
    "df['post_date'] = pd.to_datetime(df['post_date'])"
   ]
  },
  {
   "cell_type": "code",
   "execution_count": 34,
   "id": "93447aea",
   "metadata": {},
   "outputs": [],
   "source": [
    "# extract date from `posted`\n",
    "df['post_time'] = df.posted.str.slice(11,19)"
   ]
  },
  {
   "cell_type": "code",
   "execution_count": 35,
   "id": "eebcf9ca",
   "metadata": {},
   "outputs": [
    {
     "data": {
      "text/plain": [
       "0        16:37:59\n",
       "1        16:24:57\n",
       "2        14:10:11\n",
       "3        10:08:22\n",
       "4        06:48:30\n",
       "           ...   \n",
       "58175    14:23:49\n",
       "58176    16:20:24\n",
       "58177    04:18:56\n",
       "58178    05:03:38\n",
       "58179    20:42:24\n",
       "Name: post_time, Length: 58147, dtype: object"
      ]
     },
     "execution_count": 35,
     "metadata": {},
     "output_type": "execute_result"
    }
   ],
   "source": [
    "df['post_time']"
   ]
  },
  {
   "cell_type": "markdown",
   "id": "ab2207da",
   "metadata": {},
   "source": [
    "## Wrangle Function"
   ]
  },
  {
   "cell_type": "code",
   "execution_count": null,
   "id": "f2a450ab",
   "metadata": {},
   "outputs": [],
   "source": [
    "def prep_data(df):\n",
    "    # column with more than 50% missing values' names\n",
    "    cols_to_drop = df.columns[((df.isnull().sum()/df.shape[0])>0.5)]\n",
    "    # convert columns to a list\n",
    "    cols_to_drop = cols_to_drop.tolist()\n",
    "    # drop columns with more than 50% missing values\n",
    "    df.drop(columns = cols_to_drop, inplace = True)\n",
    "    # drop columns\n",
    "    df.drop(columns = ['index', 'url', 'type.x', 'species', 'type.y', 'status'], inplace = True)"
   ]
  },
  {
   "cell_type": "markdown",
   "id": "aba93a53",
   "metadata": {},
   "source": [
    "***"
   ]
  },
  {
   "cell_type": "markdown",
   "id": "04b0b673",
   "metadata": {},
   "source": [
    "## EDA"
   ]
  },
  {
   "cell_type": "code",
   "execution_count": 36,
   "id": "19c47caf",
   "metadata": {},
   "outputs": [],
   "source": [
    "import seaborn as sns\n",
    "import matplotlib.pyplot as plt"
   ]
  },
  {
   "cell_type": "markdown",
   "id": "0cd12a98",
   "metadata": {},
   "source": [
    "#### House Trained vs. Non House Trained"
   ]
  },
  {
   "cell_type": "code",
   "execution_count": 39,
   "id": "acb2ec70",
   "metadata": {},
   "outputs": [
    {
     "data": {
      "text/plain": [
       "Text(0, 0.5, 'Count')"
      ]
     },
     "execution_count": 39,
     "metadata": {},
     "output_type": "execute_result"
    },
    {
     "data": {
      "image/png": "[encoded data removed]",
      "text/plain": [
       "<Figure size 1440x864 with 1 Axes>"
      ]
     },
     "metadata": {
      "needs_background": "light"
     },
     "output_type": "display_data"
    }
   ],
   "source": [
    "plt.figure(figsize = (20,12))\n",
    "sns.countplot(data=df, x='house_trained', palette = 'binary_r')\n",
    "plt.title('House Trained Adoptable Dogs in the U.S.', fontsize = 20)\n",
    "plt.xlabel('House Trained', fontsize = 15)\n",
    "plt.ylabel('Count', fontsize = 15)\n"
   ]
  },
  {
   "cell_type": "markdown",
   "id": "aa58529a",
   "metadata": {},
   "source": [
    "#### Top 15 Primary Breed"
   ]
  },
  {
   "cell_type": "code",
   "execution_count": 61,
   "id": "80df21a3",
   "metadata": {},
   "outputs": [
    {
     "data": {
      "text/plain": [
       "Text(0, 0.5, 'Count')"
      ]
     },
     "execution_count": 61,
     "metadata": {},
     "output_type": "execute_result"
    },
    {
     "data": {
      "image/png": "[encoded data removed]",
      "text/plain": [
       "<Figure size 1584x720 with 1 Axes>"
      ]
     },
     "metadata": {
      "needs_background": "light"
     },
     "output_type": "display_data"
    }
   ],
   "source": [
    "plt.figure(figsize = (22,10))\n",
    "count = pd.DataFrame(df.breed_primary.value_counts().head(10).reset_index())\n",
    "sns.barplot(data=count, x='index', y='breed_primary',palette = 'copper')\n",
    "plt.title('Most Prevalent Adoptable Dogs Breed', fontsize = 20)\n",
    "plt.xlabel('Breed', fontsize = 15)\n",
    "plt.ylabel('Count', fontsize = 15)"
   ]
  },
  {
   "cell_type": "code",
   "execution_count": 34,
   "id": "ccc47cd8",
   "metadata": {},
   "outputs": [
    {
     "data": {
      "text/plain": [
       "Pit Bull Terrier                7890\n",
       "Labrador Retriever              7198\n",
       "Chihuahua                       3766\n",
       "Mixed Breed                     3242\n",
       "Terrier                         2641\n",
       "                                ... \n",
       "Wirehaired Pointing Griffon        1\n",
       "Boykin Spaniel                     1\n",
       "Old English Sheepdog               1\n",
       "Belgian Shepherd / Laekenois       1\n",
       "Tosa Inu                           1\n",
       "Name: breed_primary, Length: 216, dtype: int64"
      ]
     },
     "execution_count": 34,
     "metadata": {},
     "output_type": "execute_result"
    }
   ],
   "source": [
    "df.breed_primary.value_counts()"
   ]
  },
  {
   "cell_type": "code",
   "execution_count": 34,
   "id": "6ef96bca",
   "metadata": {},
   "outputs": [
    {
     "data": {
      "text/plain": [
       "Phoenix         756\n",
       "Atlanta         710\n",
       "Las Vegas       604\n",
       "New York        589\n",
       "Chamblee        495\n",
       "               ... \n",
       "Owings            1\n",
       "New Kent          1\n",
       "Windsor Mill      1\n",
       "Vienna            1\n",
       "Glenrock          1\n",
       "Name: contact_city, Length: 2179, dtype: int64"
      ]
     },
     "execution_count": 34,
     "metadata": {},
     "output_type": "execute_result"
    }
   ],
   "source": [
    "df.contact_city.value_counts()"
   ]
  },
  {
   "cell_type": "code",
   "execution_count": 49,
   "id": "528ea068",
   "metadata": {},
   "outputs": [
    {
     "data": {
      "text/plain": [
       "2019-09-20    58147\n",
       "Name: accessed, dtype: int64"
      ]
     },
     "execution_count": 49,
     "metadata": {},
     "output_type": "execute_result"
    }
   ],
   "source": [
    "df.accessed.value_counts()"
   ]
  },
  {
   "cell_type": "code",
   "execution_count": 38,
   "id": "068979d9",
   "metadata": {},
   "outputs": [
    {
     "data": {
      "text/html": [
       "<div>\n",
       "<style scoped>\n",
       "    .dataframe tbody tr th:only-of-type {\n",
       "        vertical-align: middle;\n",
       "    }\n",
       "\n",
       "    .dataframe tbody tr th {\n",
       "        vertical-align: top;\n",
       "    }\n",
       "\n",
       "    .dataframe thead th {\n",
       "        text-align: right;\n",
       "    }\n",
       "</style>\n",
       "<table border=\"1\" class=\"dataframe\">\n",
       "  <thead>\n",
       "    <tr style=\"text-align: right;\">\n",
       "      <th></th>\n",
       "      <th>id</th>\n",
       "      <th>org_id</th>\n",
       "      <th>breed_primary</th>\n",
       "      <th>breed_mixed</th>\n",
       "      <th>breed_unknown</th>\n",
       "      <th>age</th>\n",
       "      <th>sex</th>\n",
       "      <th>size</th>\n",
       "      <th>fixed</th>\n",
       "      <th>house_trained</th>\n",
       "      <th>...</th>\n",
       "      <th>name</th>\n",
       "      <th>posted</th>\n",
       "      <th>contact_city</th>\n",
       "      <th>contact_state</th>\n",
       "      <th>contact_zip</th>\n",
       "      <th>contact_country</th>\n",
       "      <th>stateQ</th>\n",
       "      <th>accessed</th>\n",
       "      <th>description</th>\n",
       "      <th>post_time</th>\n",
       "    </tr>\n",
       "    <tr>\n",
       "      <th>post_date</th>\n",
       "      <th></th>\n",
       "      <th></th>\n",
       "      <th></th>\n",
       "      <th></th>\n",
       "      <th></th>\n",
       "      <th></th>\n",
       "      <th></th>\n",
       "      <th></th>\n",
       "      <th></th>\n",
       "      <th></th>\n",
       "      <th></th>\n",
       "      <th></th>\n",
       "      <th></th>\n",
       "      <th></th>\n",
       "      <th></th>\n",
       "      <th></th>\n",
       "      <th></th>\n",
       "      <th></th>\n",
       "      <th></th>\n",
       "      <th></th>\n",
       "      <th></th>\n",
       "    </tr>\n",
       "  </thead>\n",
       "  <tbody>\n",
       "    <tr>\n",
       "      <th>2003-05-18</th>\n",
       "      <td>604115</td>\n",
       "      <td>AZ53</td>\n",
       "      <td>Beagle</td>\n",
       "      <td>True</td>\n",
       "      <td>False</td>\n",
       "      <td>Young</td>\n",
       "      <td>Female</td>\n",
       "      <td>Medium</td>\n",
       "      <td>True</td>\n",
       "      <td>False</td>\n",
       "      <td>...</td>\n",
       "      <td>Maricopa AC&amp;C</td>\n",
       "      <td>2003-05-18T00:00:00</td>\n",
       "      <td>Phoenix</td>\n",
       "      <td>AZ</td>\n",
       "      <td>85335</td>\n",
       "      <td>US</td>\n",
       "      <td>AZ</td>\n",
       "      <td>2019-09-20</td>\n",
       "      <td>Â \\nSave a life. Adopt, don't buy!! Â  Â  Mari...</td>\n",
       "      <td>00:00:00</td>\n",
       "    </tr>\n",
       "    <tr>\n",
       "      <th>2004-02-23</th>\n",
       "      <td>2592031</td>\n",
       "      <td>AZ53</td>\n",
       "      <td>Beagle</td>\n",
       "      <td>True</td>\n",
       "      <td>False</td>\n",
       "      <td>Adult</td>\n",
       "      <td>Unknown</td>\n",
       "      <td>Medium</td>\n",
       "      <td>False</td>\n",
       "      <td>False</td>\n",
       "      <td>...</td>\n",
       "      <td>Tucson Shelters</td>\n",
       "      <td>2004-02-23T00:00:00</td>\n",
       "      <td>Phoenix</td>\n",
       "      <td>AZ</td>\n",
       "      <td>85335</td>\n",
       "      <td>US</td>\n",
       "      <td>AZ</td>\n",
       "      <td>2019-09-20</td>\n",
       "      <td>\\n\\nSAVE A LIFE! Adopt, don't buy!\\n\\n\\nThe Hu...</td>\n",
       "      <td>00:00:00</td>\n",
       "    </tr>\n",
       "    <tr>\n",
       "      <th>2004-02-29</th>\n",
       "      <td>2613506</td>\n",
       "      <td>VA208</td>\n",
       "      <td>Dalmatian</td>\n",
       "      <td>False</td>\n",
       "      <td>False</td>\n",
       "      <td>Baby</td>\n",
       "      <td>Male</td>\n",
       "      <td>Large</td>\n",
       "      <td>False</td>\n",
       "      <td>False</td>\n",
       "      <td>...</td>\n",
       "      <td>FOSTER HOMES NEEDE</td>\n",
       "      <td>2004-02-29T00:00:00</td>\n",
       "      <td>Chesapeake</td>\n",
       "      <td>VA</td>\n",
       "      <td>23321</td>\n",
       "      <td>US</td>\n",
       "      <td>VA</td>\n",
       "      <td>2019-09-20</td>\n",
       "      <td>THIS LITTLE GUY IS NOT FOR ADOPTION.  LUCKILY ...</td>\n",
       "      <td>00:00:00</td>\n",
       "    </tr>\n",
       "    <tr>\n",
       "      <th>2005-05-30</th>\n",
       "      <td>4527948</td>\n",
       "      <td>KY48</td>\n",
       "      <td>Boxer</td>\n",
       "      <td>False</td>\n",
       "      <td>False</td>\n",
       "      <td>Adult</td>\n",
       "      <td>Female</td>\n",
       "      <td>Large</td>\n",
       "      <td>True</td>\n",
       "      <td>True</td>\n",
       "      <td>...</td>\n",
       "      <td>CENTRAL KY BOXER RESCUE</td>\n",
       "      <td>2005-05-30T00:00:00</td>\n",
       "      <td>Frankfort</td>\n",
       "      <td>KY</td>\n",
       "      <td>40601</td>\n",
       "      <td>US</td>\n",
       "      <td>KY</td>\n",
       "      <td>2019-09-20</td>\n",
       "      <td>NaN</td>\n",
       "      <td>00:00:00</td>\n",
       "    </tr>\n",
       "    <tr>\n",
       "      <th>2005-09-26</th>\n",
       "      <td>5142790</td>\n",
       "      <td>PA177</td>\n",
       "      <td>Greyhound</td>\n",
       "      <td>False</td>\n",
       "      <td>False</td>\n",
       "      <td>Adult</td>\n",
       "      <td>Male</td>\n",
       "      <td>Medium</td>\n",
       "      <td>False</td>\n",
       "      <td>False</td>\n",
       "      <td>...</td>\n",
       "      <td>More Hounds!</td>\n",
       "      <td>2005-09-26T00:00:00</td>\n",
       "      <td>Allentown</td>\n",
       "      <td>PA</td>\n",
       "      <td>18104</td>\n",
       "      <td>US</td>\n",
       "      <td>NJ</td>\n",
       "      <td>2019-09-20</td>\n",
       "      <td>We get new hounds about every month.  If you a...</td>\n",
       "      <td>00:00:00</td>\n",
       "    </tr>\n",
       "    <tr>\n",
       "      <th>...</th>\n",
       "      <td>...</td>\n",
       "      <td>...</td>\n",
       "      <td>...</td>\n",
       "      <td>...</td>\n",
       "      <td>...</td>\n",
       "      <td>...</td>\n",
       "      <td>...</td>\n",
       "      <td>...</td>\n",
       "      <td>...</td>\n",
       "      <td>...</td>\n",
       "      <td>...</td>\n",
       "      <td>...</td>\n",
       "      <td>...</td>\n",
       "      <td>...</td>\n",
       "      <td>...</td>\n",
       "      <td>...</td>\n",
       "      <td>...</td>\n",
       "      <td>...</td>\n",
       "      <td>...</td>\n",
       "      <td>...</td>\n",
       "      <td>...</td>\n",
       "    </tr>\n",
       "    <tr>\n",
       "      <th>2019-09-20</th>\n",
       "      <td>46040129</td>\n",
       "      <td>NC948</td>\n",
       "      <td>Yorkshire Terrier</td>\n",
       "      <td>True</td>\n",
       "      <td>False</td>\n",
       "      <td>Baby</td>\n",
       "      <td>Female</td>\n",
       "      <td>Small</td>\n",
       "      <td>False</td>\n",
       "      <td>False</td>\n",
       "      <td>...</td>\n",
       "      <td>Maggie</td>\n",
       "      <td>2019-09-20T10:30:10</td>\n",
       "      <td>Waxhaw</td>\n",
       "      <td>NC</td>\n",
       "      <td>28173</td>\n",
       "      <td>US</td>\n",
       "      <td>NC</td>\n",
       "      <td>2019-09-20</td>\n",
       "      <td>Introducing Maggie! This adorable little girl ...</td>\n",
       "      <td>10:30:10</td>\n",
       "    </tr>\n",
       "    <tr>\n",
       "      <th>2019-09-20</th>\n",
       "      <td>46040127</td>\n",
       "      <td>NC948</td>\n",
       "      <td>Labrador Retriever</td>\n",
       "      <td>True</td>\n",
       "      <td>False</td>\n",
       "      <td>Baby</td>\n",
       "      <td>Female</td>\n",
       "      <td>Medium</td>\n",
       "      <td>False</td>\n",
       "      <td>False</td>\n",
       "      <td>...</td>\n",
       "      <td>Katherine</td>\n",
       "      <td>2019-09-20T10:30:10</td>\n",
       "      <td>Waxhaw</td>\n",
       "      <td>NC</td>\n",
       "      <td>28173</td>\n",
       "      <td>US</td>\n",
       "      <td>NC</td>\n",
       "      <td>2019-09-20</td>\n",
       "      <td>Introducing the Young and the Restless litter!...</td>\n",
       "      <td>10:30:10</td>\n",
       "    </tr>\n",
       "    <tr>\n",
       "      <th>2019-09-20</th>\n",
       "      <td>46040123</td>\n",
       "      <td>NC948</td>\n",
       "      <td>German Shepherd Dog</td>\n",
       "      <td>True</td>\n",
       "      <td>False</td>\n",
       "      <td>Baby</td>\n",
       "      <td>Male</td>\n",
       "      <td>Large</td>\n",
       "      <td>False</td>\n",
       "      <td>False</td>\n",
       "      <td>...</td>\n",
       "      <td>Paxton</td>\n",
       "      <td>2019-09-20T10:30:10</td>\n",
       "      <td>Waxhaw</td>\n",
       "      <td>NC</td>\n",
       "      <td>28173</td>\n",
       "      <td>US</td>\n",
       "      <td>NC</td>\n",
       "      <td>2019-09-20</td>\n",
       "      <td>NaN</td>\n",
       "      <td>10:30:10</td>\n",
       "    </tr>\n",
       "    <tr>\n",
       "      <th>2019-09-20</th>\n",
       "      <td>46039980</td>\n",
       "      <td>SC23</td>\n",
       "      <td>Terrier</td>\n",
       "      <td>True</td>\n",
       "      <td>False</td>\n",
       "      <td>Baby</td>\n",
       "      <td>Female</td>\n",
       "      <td>Medium</td>\n",
       "      <td>False</td>\n",
       "      <td>False</td>\n",
       "      <td>...</td>\n",
       "      <td>Sparkle</td>\n",
       "      <td>2019-09-20T10:14:29</td>\n",
       "      <td>Florence</td>\n",
       "      <td>SC</td>\n",
       "      <td>29503</td>\n",
       "      <td>US</td>\n",
       "      <td>NC</td>\n",
       "      <td>2019-09-20</td>\n",
       "      <td>A pre adoption application must be completed f...</td>\n",
       "      <td>10:14:29</td>\n",
       "    </tr>\n",
       "    <tr>\n",
       "      <th>2019-09-20</th>\n",
       "      <td>46042150</td>\n",
       "      <td>NV163</td>\n",
       "      <td>American Staffordshire Terrier</td>\n",
       "      <td>True</td>\n",
       "      <td>False</td>\n",
       "      <td>Senior</td>\n",
       "      <td>Male</td>\n",
       "      <td>Medium</td>\n",
       "      <td>True</td>\n",
       "      <td>True</td>\n",
       "      <td>...</td>\n",
       "      <td>HARLEY</td>\n",
       "      <td>2019-09-20T16:37:59</td>\n",
       "      <td>Las Vegas</td>\n",
       "      <td>NV</td>\n",
       "      <td>89147</td>\n",
       "      <td>US</td>\n",
       "      <td>89009</td>\n",
       "      <td>2019-09-20</td>\n",
       "      <td>Harley is not sure how he wound up at shelter ...</td>\n",
       "      <td>16:37:59</td>\n",
       "    </tr>\n",
       "  </tbody>\n",
       "</table>\n",
       "<p>58147 rows × 23 columns</p>\n",
       "</div>"
      ],
      "text/plain": [
       "                  id org_id                   breed_primary  breed_mixed  \\\n",
       "post_date                                                                  \n",
       "2003-05-18    604115   AZ53                          Beagle         True   \n",
       "2004-02-23   2592031   AZ53                          Beagle         True   \n",
       "2004-02-29   2613506  VA208                       Dalmatian        False   \n",
       "2005-05-30   4527948   KY48                           Boxer        False   \n",
       "2005-09-26   5142790  PA177                       Greyhound        False   \n",
       "...              ...    ...                             ...          ...   \n",
       "2019-09-20  46040129  NC948               Yorkshire Terrier         True   \n",
       "2019-09-20  46040127  NC948              Labrador Retriever         True   \n",
       "2019-09-20  46040123  NC948             German Shepherd Dog         True   \n",
       "2019-09-20  46039980   SC23                         Terrier         True   \n",
       "2019-09-20  46042150  NV163  American Staffordshire Terrier         True   \n",
       "\n",
       "            breed_unknown     age      sex    size  fixed  house_trained  ...  \\\n",
       "post_date                                                                 ...   \n",
       "2003-05-18          False   Young   Female  Medium   True          False  ...   \n",
       "2004-02-23          False   Adult  Unknown  Medium  False          False  ...   \n",
       "2004-02-29          False    Baby     Male   Large  False          False  ...   \n",
       "2005-05-30          False   Adult   Female   Large   True           True  ...   \n",
       "2005-09-26          False   Adult     Male  Medium  False          False  ...   \n",
       "...                   ...     ...      ...     ...    ...            ...  ...   \n",
       "2019-09-20          False    Baby   Female   Small  False          False  ...   \n",
       "2019-09-20          False    Baby   Female  Medium  False          False  ...   \n",
       "2019-09-20          False    Baby     Male   Large  False          False  ...   \n",
       "2019-09-20          False    Baby   Female  Medium  False          False  ...   \n",
       "2019-09-20          False  Senior     Male  Medium   True           True  ...   \n",
       "\n",
       "                               name               posted contact_city  \\\n",
       "post_date                                                               \n",
       "2003-05-18            Maricopa AC&C  2003-05-18T00:00:00      Phoenix   \n",
       "2004-02-23          Tucson Shelters  2004-02-23T00:00:00      Phoenix   \n",
       "2004-02-29       FOSTER HOMES NEEDE  2004-02-29T00:00:00   Chesapeake   \n",
       "2005-05-30  CENTRAL KY BOXER RESCUE  2005-05-30T00:00:00    Frankfort   \n",
       "2005-09-26             More Hounds!  2005-09-26T00:00:00    Allentown   \n",
       "...                             ...                  ...          ...   \n",
       "2019-09-20                   Maggie  2019-09-20T10:30:10       Waxhaw   \n",
       "2019-09-20                Katherine  2019-09-20T10:30:10       Waxhaw   \n",
       "2019-09-20                   Paxton  2019-09-20T10:30:10       Waxhaw   \n",
       "2019-09-20                  Sparkle  2019-09-20T10:14:29     Florence   \n",
       "2019-09-20                   HARLEY  2019-09-20T16:37:59    Las Vegas   \n",
       "\n",
       "           contact_state contact_zip contact_country stateQ    accessed  \\\n",
       "post_date                                                                 \n",
       "2003-05-18            AZ       85335              US     AZ  2019-09-20   \n",
       "2004-02-23            AZ       85335              US     AZ  2019-09-20   \n",
       "2004-02-29            VA       23321              US     VA  2019-09-20   \n",
       "2005-05-30            KY       40601              US     KY  2019-09-20   \n",
       "2005-09-26            PA       18104              US     NJ  2019-09-20   \n",
       "...                  ...         ...             ...    ...         ...   \n",
       "2019-09-20            NC       28173              US     NC  2019-09-20   \n",
       "2019-09-20            NC       28173              US     NC  2019-09-20   \n",
       "2019-09-20            NC       28173              US     NC  2019-09-20   \n",
       "2019-09-20            SC       29503              US     NC  2019-09-20   \n",
       "2019-09-20            NV       89147              US  89009  2019-09-20   \n",
       "\n",
       "                                                  description post_time  \n",
       "post_date                                                                \n",
       "2003-05-18  Â \\nSave a life. Adopt, don't buy!! Â  Â  Mari...  00:00:00  \n",
       "2004-02-23  \\n\\nSAVE A LIFE! Adopt, don't buy!\\n\\n\\nThe Hu...  00:00:00  \n",
       "2004-02-29  THIS LITTLE GUY IS NOT FOR ADOPTION.  LUCKILY ...  00:00:00  \n",
       "2005-05-30                                                NaN  00:00:00  \n",
       "2005-09-26  We get new hounds about every month.  If you a...  00:00:00  \n",
       "...                                                       ...       ...  \n",
       "2019-09-20  Introducing Maggie! This adorable little girl ...  10:30:10  \n",
       "2019-09-20  Introducing the Young and the Restless litter!...  10:30:10  \n",
       "2019-09-20                                                NaN  10:30:10  \n",
       "2019-09-20  A pre adoption application must be completed f...  10:14:29  \n",
       "2019-09-20  Harley is not sure how he wound up at shelter ...  16:37:59  \n",
       "\n",
       "[58147 rows x 23 columns]"
      ]
     },
     "execution_count": 38,
     "metadata": {},
     "output_type": "execute_result"
    }
   ],
   "source": [
    "date"
   ]
  },
  {
   "cell_type": "code",
   "execution_count": 58,
   "id": "85ca76b9",
   "metadata": {},
   "outputs": [
    {
     "data": {
      "text/plain": [
       "<AxesSubplot:title={'center':'Amount of Adopatble Dogs Over Time'}>"
      ]
     },
     "execution_count": 58,
     "metadata": {},
     "output_type": "execute_result"
    },
    {
     "data": {
      "image/png": "[encoded data removed]",
      "text/plain": [
       "<Figure size 1080x576 with 1 Axes>"
      ]
     },
     "metadata": {
      "needs_background": "light"
     },
     "output_type": "display_data"
    }
   ],
   "source": [
    "date[date.index>'2018-01-01'].index.value_counts().plot(figsize=(15,8), linewidth=1.5, color='#7f4f21', title = 'Amount of Adopatble Dogs Over Time')"
   ]
  },
  {
   "cell_type": "code",
   "execution_count": 59,
   "id": "3ae7f3dc",
   "metadata": {},
   "outputs": [],
   "source": [
    "import plotly.express as px"
   ]
  },
  {
   "cell_type": "code",
   "execution_count": 64,
   "id": "dc4c2f62",
   "metadata": {},
   "outputs": [
    {
     "data": {
      "text/plain": [
       "269.1990740740741"
      ]
     },
     "execution_count": 64,
     "metadata": {},
     "output_type": "execute_result"
    }
   ],
   "source": [
    "df.breed_primary.value_counts().mean()"
   ]
  },
  {
   "cell_type": "code",
   "execution_count": 73,
   "id": "adbc850c",
   "metadata": {},
   "outputs": [
    {
     "data": {
      "text/html": [
       "<div>\n",
       "<style scoped>\n",
       "    .dataframe tbody tr th:only-of-type {\n",
       "        vertical-align: middle;\n",
       "    }\n",
       "\n",
       "    .dataframe tbody tr th {\n",
       "        vertical-align: top;\n",
       "    }\n",
       "\n",
       "    .dataframe thead th {\n",
       "        text-align: right;\n",
       "    }\n",
       "</style>\n",
       "<table border=\"1\" class=\"dataframe\">\n",
       "  <thead>\n",
       "    <tr style=\"text-align: right;\">\n",
       "      <th></th>\n",
       "      <th>index</th>\n",
       "      <th>breed_primary</th>\n",
       "    </tr>\n",
       "  </thead>\n",
       "  <tbody>\n",
       "    <tr>\n",
       "      <th>0</th>\n",
       "      <td>Pit Bull Terrier</td>\n",
       "      <td>7887</td>\n",
       "    </tr>\n",
       "    <tr>\n",
       "      <th>1</th>\n",
       "      <td>Labrador Retriever</td>\n",
       "      <td>7196</td>\n",
       "    </tr>\n",
       "    <tr>\n",
       "      <th>2</th>\n",
       "      <td>Chihuahua</td>\n",
       "      <td>3762</td>\n",
       "    </tr>\n",
       "    <tr>\n",
       "      <th>3</th>\n",
       "      <td>Mixed Breed</td>\n",
       "      <td>3240</td>\n",
       "    </tr>\n",
       "    <tr>\n",
       "      <th>4</th>\n",
       "      <td>Terrier</td>\n",
       "      <td>2641</td>\n",
       "    </tr>\n",
       "    <tr>\n",
       "      <th>5</th>\n",
       "      <td>Hound</td>\n",
       "      <td>2280</td>\n",
       "    </tr>\n",
       "    <tr>\n",
       "      <th>6</th>\n",
       "      <td>German Shepherd Dog</td>\n",
       "      <td>2121</td>\n",
       "    </tr>\n",
       "    <tr>\n",
       "      <th>7</th>\n",
       "      <td>Boxer</td>\n",
       "      <td>2049</td>\n",
       "    </tr>\n",
       "  </tbody>\n",
       "</table>\n",
       "</div>"
      ],
      "text/plain": [
       "                 index  breed_primary\n",
       "0     Pit Bull Terrier           7887\n",
       "1   Labrador Retriever           7196\n",
       "2            Chihuahua           3762\n",
       "3          Mixed Breed           3240\n",
       "4              Terrier           2641\n",
       "5                Hound           2280\n",
       "6  German Shepherd Dog           2121\n",
       "7                Boxer           2049"
      ]
     },
     "execution_count": 73,
     "metadata": {},
     "output_type": "execute_result"
    }
   ],
   "source": [
    "count = pd.DataFrame(df.breed_primary.value_counts().head(8).reset_index())\n",
    "count"
   ]
  },
  {
   "cell_type": "code",
   "execution_count": 87,
   "id": "bec15611",
   "metadata": {},
   "outputs": [
    {
     "data": {
      "text/plain": [
       "3897.0"
      ]
     },
     "execution_count": 87,
     "metadata": {},
     "output_type": "execute_result"
    }
   ],
   "source": [
    "count.breed_primary.mean()"
   ]
  },
  {
   "cell_type": "code",
   "execution_count": 80,
   "id": "b90e8798",
   "metadata": {},
   "outputs": [],
   "source": [
    "count['index']=count['index'].replace('German Shepherd Dog', 'German Shepherd')"
   ]
  },
  {
   "cell_type": "code",
   "execution_count": 86,
   "id": "e18f8bcb",
   "metadata": {},
   "outputs": [
    {
     "data": {
      "application/vnd.plotly.v1+json": {
       "config": {
        "plotlyServerURL": "https://plot.ly"
       },
       "data": [
        {
         "alignmentgroup": "True",
         "hovertemplate": "Dog Breed=%{x}<br>Count=%{y}<extra></extra>",
         "legendgroup": "Pit Bull Terrier",
         "marker": {
          "color": "#3c2f2f",
          "pattern": {
           "shape": ""
          }
         },
         "name": "Pit Bull Terrier",
         "offsetgroup": "Pit Bull Terrier",
         "orientation": "v",
         "showlegend": true,
         "textposition": "auto",
         "type": "bar",
         "x": [
          "Pit Bull Terrier"
         ],
         "xaxis": "x",
         "y": [
          7887
         ],
         "yaxis": "y"
        },
        {
         "alignmentgroup": "True",
         "hovertemplate": "Dog Breed=%{x}<br>Count=%{y}<extra></extra>",
         "legendgroup": "Labrador Retriever",
         "marker": {
          "color": "#4b3832",
          "pattern": {
           "shape": ""
          }
         },
         "name": "Labrador Retriever",
         "offsetgroup": "Labrador Retriever",
         "orientation": "v",
         "showlegend": true,
         "textposition": "auto",
         "type": "bar",
         "x": [
          "Labrador Retriever"
         ],
         "xaxis": "x",
         "y": [
          7196
         ],
         "yaxis": "y"
        },
        {
         "alignmentgroup": "True",
         "hovertemplate": "Dog Breed=%{x}<br>Count=%{y}<extra></extra>",
         "legendgroup": "Chihuahua",
         "marker": {
          "color": "#b8916e",
          "pattern": {
           "shape": ""
          }
         },
         "name": "Chihuahua",
         "offsetgroup": "Chihuahua",
         "orientation": "v",
         "showlegend": true,
         "textposition": "auto",
         "type": "bar",
         "x": [
          "Chihuahua"
         ],
         "xaxis": "x",
         "y": [
          3762
         ],
         "yaxis": "y"
        },
        {
         "alignmentgroup": "True",
         "hovertemplate": "Dog Breed=%{x}<br>Count=%{y}<extra></extra>",
         "legendgroup": "Mixed Breed",
         "marker": {
          "color": "#be9b7b",
          "pattern": {
           "shape": ""
          }
         },
         "name": "Mixed Breed",
         "offsetgroup": "Mixed Breed",
         "orientation": "v",
         "showlegend": true,
         "textposition": "auto",
         "type": "bar",
         "x": [
          "Mixed Breed"
         ],
         "xaxis": "x",
         "y": [
          3240
         ],
         "yaxis": "y"
        },
        {
         "alignmentgroup": "True",
         "hovertemplate": "Dog Breed=%{x}<br>Count=%{y}<extra></extra>",
         "legendgroup": "Terrier",
         "marker": {
          "color": "#c4a588",
          "pattern": {
           "shape": ""
          }
         },
         "name": "Terrier",
         "offsetgroup": "Terrier",
         "orientation": "v",
         "showlegend": true,
         "textposition": "auto",
         "type": "bar",
         "x": [
          "Terrier"
         ],
         "xaxis": "x",
         "y": [
          2641
         ],
         "yaxis": "y"
        },
        {
         "alignmentgroup": "True",
         "hovertemplate": "Dog Breed=%{x}<br>Count=%{y}<extra></extra>",
         "legendgroup": "Hound",
         "marker": {
          "color": "#d1b9a2",
          "pattern": {
           "shape": ""
          }
         },
         "name": "Hound",
         "offsetgroup": "Hound",
         "orientation": "v",
         "showlegend": true,
         "textposition": "auto",
         "type": "bar",
         "x": [
          "Hound"
         ],
         "xaxis": "x",
         "y": [
          2280
         ],
         "yaxis": "y"
        },
        {
         "alignmentgroup": "True",
         "hovertemplate": "Dog Breed=%{x}<br>Count=%{y}<extra></extra>",
         "legendgroup": "German Shepherd",
         "marker": {
          "color": "#e5d7ca",
          "pattern": {
           "shape": ""
          }
         },
         "name": "German Shepherd",
         "offsetgroup": "German Shepherd",
         "orientation": "v",
         "showlegend": true,
         "textposition": "auto",
         "type": "bar",
         "x": [
          "German Shepherd"
         ],
         "xaxis": "x",
         "y": [
          2121
         ],
         "yaxis": "y"
        },
        {
         "alignmentgroup": "True",
         "hovertemplate": "Dog Breed=%{x}<br>Count=%{y}<extra></extra>",
         "legendgroup": "Boxer",
         "marker": {
          "color": "#fff4e6",
          "pattern": {
           "shape": ""
          }
         },
         "name": "Boxer",
         "offsetgroup": "Boxer",
         "orientation": "v",
         "showlegend": true,
         "textposition": "auto",
         "type": "bar",
         "x": [
          "Boxer"
         ],
         "xaxis": "x",
         "y": [
          2049
         ],
         "yaxis": "y"
        }
       ],
       "layout": {
        "annotations": [
         {
          "font": {
           "color": "#D2510F",
           "size": 12
          },
          "showarrow": false,
          "text": "Avg. Count per Breed of Adoptable Dogs",
          "x": 0,
          "xanchor": "left",
          "xref": "x domain",
          "y": 270,
          "yanchor": "top",
          "yref": "y"
         }
        ],
        "barmode": "relative",
        "font": {
         "color": "#231717",
         "size": 16
        },
        "legend": {
         "font": {
          "size": 12
         },
         "orientation": "h",
         "title": {
          "text": "Dog Breed"
         },
         "tracegroupgap": 0,
         "y": -0.8
        },
        "margin": {
         "t": 60
        },
        "paper_bgcolor": "#fffffe",
        "plot_bgcolor": "#fffffe",
        "shapes": [
         {
          "line": {
           "color": "#ed5a14",
           "dash": "dash"
          },
          "type": "line",
          "x0": 0,
          "x1": 1,
          "xref": "x domain",
          "y0": 270,
          "y1": 270,
          "yref": "y"
         }
        ],
        "template": {
         "data": {
          "bar": [
           {
            "error_x": {
             "color": "#2a3f5f"
            },
            "error_y": {
             "color": "#2a3f5f"
            },
            "marker": {
             "line": {
              "color": "#E5ECF6",
              "width": 0.5
             },
             "pattern": {
              "fillmode": "overlay",
              "size": 10,
              "solidity": 0.2
             }
            },
            "type": "bar"
           }
          ],
          "barpolar": [
           {
            "marker": {
             "line": {
              "color": "#E5ECF6",
              "width": 0.5
             },
             "pattern": {
              "fillmode": "overlay",
              "size": 10,
              "solidity": 0.2
             }
            },
            "type": "barpolar"
           }
          ],
          "carpet": [
           {
            "aaxis": {
             "endlinecolor": "#2a3f5f",
             "gridcolor": "white",
             "linecolor": "white",
             "minorgridcolor": "white",
             "startlinecolor": "#2a3f5f"
            },
            "baxis": {
             "endlinecolor": "#2a3f5f",
             "gridcolor": "white",
             "linecolor": "white",
             "minorgridcolor": "white",
             "startlinecolor": "#2a3f5f"
            },
            "type": "carpet"
           }
          ],
          "choropleth": [
           {
            "colorbar": {
             "outlinewidth": 0,
             "ticks": ""
            },
            "type": "choropleth"
           }
          ],
          "contour": [
           {
            "colorbar": {
             "outlinewidth": 0,
             "ticks": ""
            },
            "colorscale": [
             [
              0,
              "#0d0887"
             ],
             [
              0.1111111111111111,
              "#46039f"
             ],
             [
              0.2222222222222222,
              "#7201a8"
             ],
             [
              0.3333333333333333,
              "#9c179e"
             ],
             [
              0.4444444444444444,
              "#bd3786"
             ],
             [
              0.5555555555555556,
              "#d8576b"
             ],
             [
              0.6666666666666666,
              "#ed7953"
             ],
             [
              0.7777777777777778,
              "#fb9f3a"
             ],
             [
              0.8888888888888888,
              "#fdca26"
             ],
             [
              1,
              "#f0f921"
             ]
            ],
            "type": "contour"
           }
          ],
          "contourcarpet": [
           {
            "colorbar": {
             "outlinewidth": 0,
             "ticks": ""
            },
            "type": "contourcarpet"
           }
          ],
          "heatmap": [
           {
            "colorbar": {
             "outlinewidth": 0,
             "ticks": ""
            },
            "colorscale": [
             [
              0,
              "#0d0887"
             ],
             [
              0.1111111111111111,
              "#46039f"
             ],
             [
              0.2222222222222222,
              "#7201a8"
             ],
             [
              0.3333333333333333,
              "#9c179e"
             ],
             [
              0.4444444444444444,
              "#bd3786"
             ],
             [
              0.5555555555555556,
              "#d8576b"
             ],
             [
              0.6666666666666666,
              "#ed7953"
             ],
             [
              0.7777777777777778,
              "#fb9f3a"
             ],
             [
              0.8888888888888888,
              "#fdca26"
             ],
             [
              1,
              "#f0f921"
             ]
            ],
            "type": "heatmap"
           }
          ],
          "heatmapgl": [
           {
            "colorbar": {
             "outlinewidth": 0,
             "ticks": ""
            },
            "colorscale": [
             [
              0,
              "#0d0887"
             ],
             [
              0.1111111111111111,
              "#46039f"
             ],
             [
              0.2222222222222222,
              "#7201a8"
             ],
             [
              0.3333333333333333,
              "#9c179e"
             ],
             [
              0.4444444444444444,
              "#bd3786"
             ],
             [
              0.5555555555555556,
              "#d8576b"
             ],
             [
              0.6666666666666666,
              "#ed7953"
             ],
             [
              0.7777777777777778,
              "#fb9f3a"
             ],
             [
              0.8888888888888888,
              "#fdca26"
             ],
             [
              1,
              "#f0f921"
             ]
            ],
            "type": "heatmapgl"
           }
          ],
          "histogram": [
           {
            "marker": {
             "pattern": {
              "fillmode": "overlay",
              "size": 10,
              "solidity": 0.2
             }
            },
            "type": "histogram"
           }
          ],
          "histogram2d": [
           {
            "colorbar": {
             "outlinewidth": 0,
             "ticks": ""
            },
            "colorscale": [
             [
              0,
              "#0d0887"
             ],
             [
              0.1111111111111111,
              "#46039f"
             ],
             [
              0.2222222222222222,
              "#7201a8"
             ],
             [
              0.3333333333333333,
              "#9c179e"
             ],
             [
              0.4444444444444444,
              "#bd3786"
             ],
             [
              0.5555555555555556,
              "#d8576b"
             ],
             [
              0.6666666666666666,
              "#ed7953"
             ],
             [
              0.7777777777777778,
              "#fb9f3a"
             ],
             [
              0.8888888888888888,
              "#fdca26"
             ],
             [
              1,
              "#f0f921"
             ]
            ],
            "type": "histogram2d"
           }
          ],
          "histogram2dcontour": [
           {
            "colorbar": {
             "outlinewidth": 0,
             "ticks": ""
            },
            "colorscale": [
             [
              0,
              "#0d0887"
             ],
             [
              0.1111111111111111,
              "#46039f"
             ],
             [
              0.2222222222222222,
              "#7201a8"
             ],
             [
              0.3333333333333333,
              "#9c179e"
             ],
             [
              0.4444444444444444,
              "#bd3786"
             ],
             [
              0.5555555555555556,
              "#d8576b"
             ],
             [
              0.6666666666666666,
              "#ed7953"
             ],
             [
              0.7777777777777778,
              "#fb9f3a"
             ],
             [
              0.8888888888888888,
              "#fdca26"
             ],
             [
              1,
              "#f0f921"
             ]
            ],
            "type": "histogram2dcontour"
           }
          ],
          "mesh3d": [
           {
            "colorbar": {
             "outlinewidth": 0,
             "ticks": ""
            },
            "type": "mesh3d"
           }
          ],
          "parcoords": [
           {
            "line": {
             "colorbar": {
              "outlinewidth": 0,
              "ticks": ""
             }
            },
            "type": "parcoords"
           }
          ],
          "pie": [
           {
            "automargin": true,
            "type": "pie"
           }
          ],
          "scatter": [
           {
            "marker": {
             "colorbar": {
              "outlinewidth": 0,
              "ticks": ""
             }
            },
            "type": "scatter"
           }
          ],
          "scatter3d": [
           {
            "line": {
             "colorbar": {
              "outlinewidth": 0,
              "ticks": ""
             }
            },
            "marker": {
             "colorbar": {
              "outlinewidth": 0,
              "ticks": ""
             }
            },
            "type": "scatter3d"
           }
          ],
          "scattercarpet": [
           {
            "marker": {
             "colorbar": {
              "outlinewidth": 0,
              "ticks": ""
             }
            },
            "type": "scattercarpet"
           }
          ],
          "scattergeo": [
           {
            "marker": {
             "colorbar": {
              "outlinewidth": 0,
              "ticks": ""
             }
            },
            "type": "scattergeo"
           }
          ],
          "scattergl": [
           {
            "marker": {
             "colorbar": {
              "outlinewidth": 0,
              "ticks": ""
             }
            },
            "type": "scattergl"
           }
          ],
          "scattermapbox": [
           {
            "marker": {
             "colorbar": {
              "outlinewidth": 0,
              "ticks": ""
             }
            },
            "type": "scattermapbox"
           }
          ],
          "scatterpolar": [
           {
            "marker": {
             "colorbar": {
              "outlinewidth": 0,
              "ticks": ""
             }
            },
            "type": "scatterpolar"
           }
          ],
          "scatterpolargl": [
           {
            "marker": {
             "colorbar": {
              "outlinewidth": 0,
              "ticks": ""
             }
            },
            "type": "scatterpolargl"
           }
          ],
          "scatterternary": [
           {
            "marker": {
             "colorbar": {
              "outlinewidth": 0,
              "ticks": ""
             }
            },
            "type": "scatterternary"
           }
          ],
          "surface": [
           {
            "colorbar": {
             "outlinewidth": 0,
             "ticks": ""
            },
            "colorscale": [
             [
              0,
              "#0d0887"
             ],
             [
              0.1111111111111111,
              "#46039f"
             ],
             [
              0.2222222222222222,
              "#7201a8"
             ],
             [
              0.3333333333333333,
              "#9c179e"
             ],
             [
              0.4444444444444444,
              "#bd3786"
             ],
             [
              0.5555555555555556,
              "#d8576b"
             ],
             [
              0.6666666666666666,
              "#ed7953"
             ],
             [
              0.7777777777777778,
              "#fb9f3a"
             ],
             [
              0.8888888888888888,
              "#fdca26"
             ],
             [
              1,
              "#f0f921"
             ]
            ],
            "type": "surface"
           }
          ],
          "table": [
           {
            "cells": {
             "fill": {
              "color": "#EBF0F8"
             },
             "line": {
              "color": "white"
             }
            },
            "header": {
             "fill": {
              "color": "#C8D4E3"
             },
             "line": {
              "color": "white"
             }
            },
            "type": "table"
           }
          ]
         },
         "layout": {
          "annotationdefaults": {
           "arrowcolor": "#2a3f5f",
           "arrowhead": 0,
           "arrowwidth": 1
          },
          "autotypenumbers": "strict",
          "coloraxis": {
           "colorbar": {
            "outlinewidth": 0,
            "ticks": ""
           }
          },
          "colorscale": {
           "diverging": [
            [
             0,
             "#8e0152"
            ],
            [
             0.1,
             "#c51b7d"
            ],
            [
             0.2,
             "#de77ae"
            ],
            [
             0.3,
             "#f1b6da"
            ],
            [
             0.4,
             "#fde0ef"
            ],
            [
             0.5,
             "#f7f7f7"
            ],
            [
             0.6,
             "#e6f5d0"
            ],
            [
             0.7,
             "#b8e186"
            ],
            [
             0.8,
             "#7fbc41"
            ],
            [
             0.9,
             "#4d9221"
            ],
            [
             1,
             "#276419"
            ]
           ],
           "sequential": [
            [
             0,
             "#0d0887"
            ],
            [
             0.1111111111111111,
             "#46039f"
            ],
            [
             0.2222222222222222,
             "#7201a8"
            ],
            [
             0.3333333333333333,
             "#9c179e"
            ],
            [
             0.4444444444444444,
             "#bd3786"
            ],
            [
             0.5555555555555556,
             "#d8576b"
            ],
            [
             0.6666666666666666,
             "#ed7953"
            ],
            [
             0.7777777777777778,
             "#fb9f3a"
            ],
            [
             0.8888888888888888,
             "#fdca26"
            ],
            [
             1,
             "#f0f921"
            ]
           ],
           "sequentialminus": [
            [
             0,
             "#0d0887"
            ],
            [
             0.1111111111111111,
             "#46039f"
            ],
            [
             0.2222222222222222,
             "#7201a8"
            ],
            [
             0.3333333333333333,
             "#9c179e"
            ],
            [
             0.4444444444444444,
             "#bd3786"
            ],
            [
             0.5555555555555556,
             "#d8576b"
            ],
            [
             0.6666666666666666,
             "#ed7953"
            ],
            [
             0.7777777777777778,
             "#fb9f3a"
            ],
            [
             0.8888888888888888,
             "#fdca26"
            ],
            [
             1,
             "#f0f921"
            ]
           ]
          },
          "colorway": [
           "#636efa",
           "#EF553B",
           "#00cc96",
           "#ab63fa",
           "#FFA15A",
           "#19d3f3",
           "#FF6692",
           "#B6E880",
           "#FF97FF",
           "#FECB52"
          ],
          "font": {
           "color": "#2a3f5f"
          },
          "geo": {
           "bgcolor": "white",
           "lakecolor": "white",
           "landcolor": "#E5ECF6",
           "showlakes": true,
           "showland": true,
           "subunitcolor": "white"
          },
          "hoverlabel": {
           "align": "left"
          },
          "hovermode": "closest",
          "mapbox": {
           "style": "light"
          },
          "paper_bgcolor": "white",
          "plot_bgcolor": "#E5ECF6",
          "polar": {
           "angularaxis": {
            "gridcolor": "white",
            "linecolor": "white",
            "ticks": ""
           },
           "bgcolor": "#E5ECF6",
           "radialaxis": {
            "gridcolor": "white",
            "linecolor": "white",
            "ticks": ""
           }
          },
          "scene": {
           "xaxis": {
            "backgroundcolor": "#E5ECF6",
            "gridcolor": "white",
            "gridwidth": 2,
            "linecolor": "white",
            "showbackground": true,
            "ticks": "",
            "zerolinecolor": "white"
           },
           "yaxis": {
            "backgroundcolor": "#E5ECF6",
            "gridcolor": "white",
            "gridwidth": 2,
            "linecolor": "white",
            "showbackground": true,
            "ticks": "",
            "zerolinecolor": "white"
           },
           "zaxis": {
            "backgroundcolor": "#E5ECF6",
            "gridcolor": "white",
            "gridwidth": 2,
            "linecolor": "white",
            "showbackground": true,
            "ticks": "",
            "zerolinecolor": "white"
           }
          },
          "shapedefaults": {
           "line": {
            "color": "#2a3f5f"
           }
          },
          "ternary": {
           "aaxis": {
            "gridcolor": "white",
            "linecolor": "white",
            "ticks": ""
           },
           "baxis": {
            "gridcolor": "white",
            "linecolor": "white",
            "ticks": ""
           },
           "bgcolor": "#E5ECF6",
           "caxis": {
            "gridcolor": "white",
            "linecolor": "white",
            "ticks": ""
           }
          },
          "title": {
           "x": 0.05
          },
          "xaxis": {
           "automargin": true,
           "gridcolor": "white",
           "linecolor": "white",
           "ticks": "",
           "title": {
            "standoff": 15
           },
           "zerolinecolor": "white",
           "zerolinewidth": 2
          },
          "yaxis": {
           "automargin": true,
           "gridcolor": "white",
           "linecolor": "white",
           "ticks": "",
           "title": {
            "standoff": 15
           },
           "zerolinecolor": "white",
           "zerolinewidth": 2
          }
         }
        },
        "xaxis": {
         "anchor": "y",
         "categoryarray": [
          "Pit Bull Terrier",
          "Labrador Retriever",
          "Chihuahua",
          "Mixed Breed",
          "Terrier",
          "Hound",
          "German Shepherd",
          "Boxer"
         ],
         "categoryorder": "array",
         "domain": [
          0,
          1
         ],
         "title": {
          "text": "Dog Breed"
         }
        },
        "yaxis": {
         "anchor": "x",
         "domain": [
          0,
          1
         ],
         "title": {
          "text": "Count"
         }
        }
       }
      },
      "text/html": [
       "<div>                            <div id=\"b8e7b697-5fde-4f11-b37e-a21c372295b2\" class=\"plotly-graph-div\" style=\"height:525px; width:100%;\"></div>            <script type=\"text/javascript\">                require([\"plotly\"], function(Plotly) {                    window.PLOTLYENV=window.PLOTLYENV || {};                                    if (document.getElementById(\"b8e7b697-5fde-4f11-b37e-a21c372295b2\")) {                    Plotly.newPlot(                        \"b8e7b697-5fde-4f11-b37e-a21c372295b2\",                        [{\"alignmentgroup\":\"True\",\"hovertemplate\":\"Dog Breed=%{x}<br>Count=%{y}<extra></extra>\",\"legendgroup\":\"Pit Bull Terrier\",\"marker\":{\"color\":\"#3c2f2f\",\"pattern\":{\"shape\":\"\"}},\"name\":\"Pit Bull Terrier\",\"offsetgroup\":\"Pit Bull Terrier\",\"orientation\":\"v\",\"showlegend\":true,\"textposition\":\"auto\",\"x\":[\"Pit Bull Terrier\"],\"xaxis\":\"x\",\"y\":[7887],\"yaxis\":\"y\",\"type\":\"bar\"},{\"alignmentgroup\":\"True\",\"hovertemplate\":\"Dog Breed=%{x}<br>Count=%{y}<extra></extra>\",\"legendgroup\":\"Labrador Retriever\",\"marker\":{\"color\":\"#4b3832\",\"pattern\":{\"shape\":\"\"}},\"name\":\"Labrador Retriever\",\"offsetgroup\":\"Labrador Retriever\",\"orientation\":\"v\",\"showlegend\":true,\"textposition\":\"auto\",\"x\":[\"Labrador Retriever\"],\"xaxis\":\"x\",\"y\":[7196],\"yaxis\":\"y\",\"type\":\"bar\"},{\"alignmentgroup\":\"True\",\"hovertemplate\":\"Dog Breed=%{x}<br>Count=%{y}<extra></extra>\",\"legendgroup\":\"Chihuahua\",\"marker\":{\"color\":\"#b8916e\",\"pattern\":{\"shape\":\"\"}},\"name\":\"Chihuahua\",\"offsetgroup\":\"Chihuahua\",\"orientation\":\"v\",\"showlegend\":true,\"textposition\":\"auto\",\"x\":[\"Chihuahua\"],\"xaxis\":\"x\",\"y\":[3762],\"yaxis\":\"y\",\"type\":\"bar\"},{\"alignmentgroup\":\"True\",\"hovertemplate\":\"Dog Breed=%{x}<br>Count=%{y}<extra></extra>\",\"legendgroup\":\"Mixed Breed\",\"marker\":{\"color\":\"#be9b7b\",\"pattern\":{\"shape\":\"\"}},\"name\":\"Mixed Breed\",\"offsetgroup\":\"Mixed Breed\",\"orientation\":\"v\",\"showlegend\":true,\"textposition\":\"auto\",\"x\":[\"Mixed Breed\"],\"xaxis\":\"x\",\"y\":[3240],\"yaxis\":\"y\",\"type\":\"bar\"},{\"alignmentgroup\":\"True\",\"hovertemplate\":\"Dog Breed=%{x}<br>Count=%{y}<extra></extra>\",\"legendgroup\":\"Terrier\",\"marker\":{\"color\":\"#c4a588\",\"pattern\":{\"shape\":\"\"}},\"name\":\"Terrier\",\"offsetgroup\":\"Terrier\",\"orientation\":\"v\",\"showlegend\":true,\"textposition\":\"auto\",\"x\":[\"Terrier\"],\"xaxis\":\"x\",\"y\":[2641],\"yaxis\":\"y\",\"type\":\"bar\"},{\"alignmentgroup\":\"True\",\"hovertemplate\":\"Dog Breed=%{x}<br>Count=%{y}<extra></extra>\",\"legendgroup\":\"Hound\",\"marker\":{\"color\":\"#d1b9a2\",\"pattern\":{\"shape\":\"\"}},\"name\":\"Hound\",\"offsetgroup\":\"Hound\",\"orientation\":\"v\",\"showlegend\":true,\"textposition\":\"auto\",\"x\":[\"Hound\"],\"xaxis\":\"x\",\"y\":[2280],\"yaxis\":\"y\",\"type\":\"bar\"},{\"alignmentgroup\":\"True\",\"hovertemplate\":\"Dog Breed=%{x}<br>Count=%{y}<extra></extra>\",\"legendgroup\":\"German Shepherd\",\"marker\":{\"color\":\"#e5d7ca\",\"pattern\":{\"shape\":\"\"}},\"name\":\"German Shepherd\",\"offsetgroup\":\"German Shepherd\",\"orientation\":\"v\",\"showlegend\":true,\"textposition\":\"auto\",\"x\":[\"German Shepherd\"],\"xaxis\":\"x\",\"y\":[2121],\"yaxis\":\"y\",\"type\":\"bar\"},{\"alignmentgroup\":\"True\",\"hovertemplate\":\"Dog Breed=%{x}<br>Count=%{y}<extra></extra>\",\"legendgroup\":\"Boxer\",\"marker\":{\"color\":\"#fff4e6\",\"pattern\":{\"shape\":\"\"}},\"name\":\"Boxer\",\"offsetgroup\":\"Boxer\",\"orientation\":\"v\",\"showlegend\":true,\"textposition\":\"auto\",\"x\":[\"Boxer\"],\"xaxis\":\"x\",\"y\":[2049],\"yaxis\":\"y\",\"type\":\"bar\"}],                        {\"template\":{\"data\":{\"bar\":[{\"error_x\":{\"color\":\"#2a3f5f\"},\"error_y\":{\"color\":\"#2a3f5f\"},\"marker\":{\"line\":{\"color\":\"#E5ECF6\",\"width\":0.5},\"pattern\":{\"fillmode\":\"overlay\",\"size\":10,\"solidity\":0.2}},\"type\":\"bar\"}],\"barpolar\":[{\"marker\":{\"line\":{\"color\":\"#E5ECF6\",\"width\":0.5},\"pattern\":{\"fillmode\":\"overlay\",\"size\":10,\"solidity\":0.2}},\"type\":\"barpolar\"}],\"carpet\":[{\"aaxis\":{\"endlinecolor\":\"#2a3f5f\",\"gridcolor\":\"white\",\"linecolor\":\"white\",\"minorgridcolor\":\"white\",\"startlinecolor\":\"#2a3f5f\"},\"baxis\":{\"endlinecolor\":\"#2a3f5f\",\"gridcolor\":\"white\",\"linecolor\":\"white\",\"minorgridcolor\":\"white\",\"startlinecolor\":\"#2a3f5f\"},\"type\":\"carpet\"}],\"choropleth\":[{\"colorbar\":{\"outlinewidth\":0,\"ticks\":\"\"},\"type\":\"choropleth\"}],\"contour\":[{\"colorbar\":{\"outlinewidth\":0,\"ticks\":\"\"},\"colorscale\":[[0.0,\"#0d0887\"],[0.1111111111111111,\"#46039f\"],[0.2222222222222222,\"#7201a8\"],[0.3333333333333333,\"#9c179e\"],[0.4444444444444444,\"#bd3786\"],[0.5555555555555556,\"#d8576b\"],[0.6666666666666666,\"#ed7953\"],[0.7777777777777778,\"#fb9f3a\"],[0.8888888888888888,\"#fdca26\"],[1.0,\"#f0f921\"]],\"type\":\"contour\"}],\"contourcarpet\":[{\"colorbar\":{\"outlinewidth\":0,\"ticks\":\"\"},\"type\":\"contourcarpet\"}],\"heatmap\":[{\"colorbar\":{\"outlinewidth\":0,\"ticks\":\"\"},\"colorscale\":[[0.0,\"#0d0887\"],[0.1111111111111111,\"#46039f\"],[0.2222222222222222,\"#7201a8\"],[0.3333333333333333,\"#9c179e\"],[0.4444444444444444,\"#bd3786\"],[0.5555555555555556,\"#d8576b\"],[0.6666666666666666,\"#ed7953\"],[0.7777777777777778,\"#fb9f3a\"],[0.8888888888888888,\"#fdca26\"],[1.0,\"#f0f921\"]],\"type\":\"heatmap\"}],\"heatmapgl\":[{\"colorbar\":{\"outlinewidth\":0,\"ticks\":\"\"},\"colorscale\":[[0.0,\"#0d0887\"],[0.1111111111111111,\"#46039f\"],[0.2222222222222222,\"#7201a8\"],[0.3333333333333333,\"#9c179e\"],[0.4444444444444444,\"#bd3786\"],[0.5555555555555556,\"#d8576b\"],[0.6666666666666666,\"#ed7953\"],[0.7777777777777778,\"#fb9f3a\"],[0.8888888888888888,\"#fdca26\"],[1.0,\"#f0f921\"]],\"type\":\"heatmapgl\"}],\"histogram\":[{\"marker\":{\"pattern\":{\"fillmode\":\"overlay\",\"size\":10,\"solidity\":0.2}},\"type\":\"histogram\"}],\"histogram2d\":[{\"colorbar\":{\"outlinewidth\":0,\"ticks\":\"\"},\"colorscale\":[[0.0,\"#0d0887\"],[0.1111111111111111,\"#46039f\"],[0.2222222222222222,\"#7201a8\"],[0.3333333333333333,\"#9c179e\"],[0.4444444444444444,\"#bd3786\"],[0.5555555555555556,\"#d8576b\"],[0.6666666666666666,\"#ed7953\"],[0.7777777777777778,\"#fb9f3a\"],[0.8888888888888888,\"#fdca26\"],[1.0,\"#f0f921\"]],\"type\":\"histogram2d\"}],\"histogram2dcontour\":[{\"colorbar\":{\"outlinewidth\":0,\"ticks\":\"\"},\"colorscale\":[[0.0,\"#0d0887\"],[0.1111111111111111,\"#46039f\"],[0.2222222222222222,\"#7201a8\"],[0.3333333333333333,\"#9c179e\"],[0.4444444444444444,\"#bd3786\"],[0.5555555555555556,\"#d8576b\"],[0.6666666666666666,\"#ed7953\"],[0.7777777777777778,\"#fb9f3a\"],[0.8888888888888888,\"#fdca26\"],[1.0,\"#f0f921\"]],\"type\":\"histogram2dcontour\"}],\"mesh3d\":[{\"colorbar\":{\"outlinewidth\":0,\"ticks\":\"\"},\"type\":\"mesh3d\"}],\"parcoords\":[{\"line\":{\"colorbar\":{\"outlinewidth\":0,\"ticks\":\"\"}},\"type\":\"parcoords\"}],\"pie\":[{\"automargin\":true,\"type\":\"pie\"}],\"scatter\":[{\"marker\":{\"colorbar\":{\"outlinewidth\":0,\"ticks\":\"\"}},\"type\":\"scatter\"}],\"scatter3d\":[{\"line\":{\"colorbar\":{\"outlinewidth\":0,\"ticks\":\"\"}},\"marker\":{\"colorbar\":{\"outlinewidth\":0,\"ticks\":\"\"}},\"type\":\"scatter3d\"}],\"scattercarpet\":[{\"marker\":{\"colorbar\":{\"outlinewidth\":0,\"ticks\":\"\"}},\"type\":\"scattercarpet\"}],\"scattergeo\":[{\"marker\":{\"colorbar\":{\"outlinewidth\":0,\"ticks\":\"\"}},\"type\":\"scattergeo\"}],\"scattergl\":[{\"marker\":{\"colorbar\":{\"outlinewidth\":0,\"ticks\":\"\"}},\"type\":\"scattergl\"}],\"scattermapbox\":[{\"marker\":{\"colorbar\":{\"outlinewidth\":0,\"ticks\":\"\"}},\"type\":\"scattermapbox\"}],\"scatterpolar\":[{\"marker\":{\"colorbar\":{\"outlinewidth\":0,\"ticks\":\"\"}},\"type\":\"scatterpolar\"}],\"scatterpolargl\":[{\"marker\":{\"colorbar\":{\"outlinewidth\":0,\"ticks\":\"\"}},\"type\":\"scatterpolargl\"}],\"scatterternary\":[{\"marker\":{\"colorbar\":{\"outlinewidth\":0,\"ticks\":\"\"}},\"type\":\"scatterternary\"}],\"surface\":[{\"colorbar\":{\"outlinewidth\":0,\"ticks\":\"\"},\"colorscale\":[[0.0,\"#0d0887\"],[0.1111111111111111,\"#46039f\"],[0.2222222222222222,\"#7201a8\"],[0.3333333333333333,\"#9c179e\"],[0.4444444444444444,\"#bd3786\"],[0.5555555555555556,\"#d8576b\"],[0.6666666666666666,\"#ed7953\"],[0.7777777777777778,\"#fb9f3a\"],[0.8888888888888888,\"#fdca26\"],[1.0,\"#f0f921\"]],\"type\":\"surface\"}],\"table\":[{\"cells\":{\"fill\":{\"color\":\"#EBF0F8\"},\"line\":{\"color\":\"white\"}},\"header\":{\"fill\":{\"color\":\"#C8D4E3\"},\"line\":{\"color\":\"white\"}},\"type\":\"table\"}]},\"layout\":{\"annotationdefaults\":{\"arrowcolor\":\"#2a3f5f\",\"arrowhead\":0,\"arrowwidth\":1},\"autotypenumbers\":\"strict\",\"coloraxis\":{\"colorbar\":{\"outlinewidth\":0,\"ticks\":\"\"}},\"colorscale\":{\"diverging\":[[0,\"#8e0152\"],[0.1,\"#c51b7d\"],[0.2,\"#de77ae\"],[0.3,\"#f1b6da\"],[0.4,\"#fde0ef\"],[0.5,\"#f7f7f7\"],[0.6,\"#e6f5d0\"],[0.7,\"#b8e186\"],[0.8,\"#7fbc41\"],[0.9,\"#4d9221\"],[1,\"#276419\"]],\"sequential\":[[0.0,\"#0d0887\"],[0.1111111111111111,\"#46039f\"],[0.2222222222222222,\"#7201a8\"],[0.3333333333333333,\"#9c179e\"],[0.4444444444444444,\"#bd3786\"],[0.5555555555555556,\"#d8576b\"],[0.6666666666666666,\"#ed7953\"],[0.7777777777777778,\"#fb9f3a\"],[0.8888888888888888,\"#fdca26\"],[1.0,\"#f0f921\"]],\"sequentialminus\":[[0.0,\"#0d0887\"],[0.1111111111111111,\"#46039f\"],[0.2222222222222222,\"#7201a8\"],[0.3333333333333333,\"#9c179e\"],[0.4444444444444444,\"#bd3786\"],[0.5555555555555556,\"#d8576b\"],[0.6666666666666666,\"#ed7953\"],[0.7777777777777778,\"#fb9f3a\"],[0.8888888888888888,\"#fdca26\"],[1.0,\"#f0f921\"]]},\"colorway\":[\"#636efa\",\"#EF553B\",\"#00cc96\",\"#ab63fa\",\"#FFA15A\",\"#19d3f3\",\"#FF6692\",\"#B6E880\",\"#FF97FF\",\"#FECB52\"],\"font\":{\"color\":\"#2a3f5f\"},\"geo\":{\"bgcolor\":\"white\",\"lakecolor\":\"white\",\"landcolor\":\"#E5ECF6\",\"showlakes\":true,\"showland\":true,\"subunitcolor\":\"white\"},\"hoverlabel\":{\"align\":\"left\"},\"hovermode\":\"closest\",\"mapbox\":{\"style\":\"light\"},\"paper_bgcolor\":\"white\",\"plot_bgcolor\":\"#E5ECF6\",\"polar\":{\"angularaxis\":{\"gridcolor\":\"white\",\"linecolor\":\"white\",\"ticks\":\"\"},\"bgcolor\":\"#E5ECF6\",\"radialaxis\":{\"gridcolor\":\"white\",\"linecolor\":\"white\",\"ticks\":\"\"}},\"scene\":{\"xaxis\":{\"backgroundcolor\":\"#E5ECF6\",\"gridcolor\":\"white\",\"gridwidth\":2,\"linecolor\":\"white\",\"showbackground\":true,\"ticks\":\"\",\"zerolinecolor\":\"white\"},\"yaxis\":{\"backgroundcolor\":\"#E5ECF6\",\"gridcolor\":\"white\",\"gridwidth\":2,\"linecolor\":\"white\",\"showbackground\":true,\"ticks\":\"\",\"zerolinecolor\":\"white\"},\"zaxis\":{\"backgroundcolor\":\"#E5ECF6\",\"gridcolor\":\"white\",\"gridwidth\":2,\"linecolor\":\"white\",\"showbackground\":true,\"ticks\":\"\",\"zerolinecolor\":\"white\"}},\"shapedefaults\":{\"line\":{\"color\":\"#2a3f5f\"}},\"ternary\":{\"aaxis\":{\"gridcolor\":\"white\",\"linecolor\":\"white\",\"ticks\":\"\"},\"baxis\":{\"gridcolor\":\"white\",\"linecolor\":\"white\",\"ticks\":\"\"},\"bgcolor\":\"#E5ECF6\",\"caxis\":{\"gridcolor\":\"white\",\"linecolor\":\"white\",\"ticks\":\"\"}},\"title\":{\"x\":0.05},\"xaxis\":{\"automargin\":true,\"gridcolor\":\"white\",\"linecolor\":\"white\",\"ticks\":\"\",\"title\":{\"standoff\":15},\"zerolinecolor\":\"white\",\"zerolinewidth\":2},\"yaxis\":{\"automargin\":true,\"gridcolor\":\"white\",\"linecolor\":\"white\",\"ticks\":\"\",\"title\":{\"standoff\":15},\"zerolinecolor\":\"white\",\"zerolinewidth\":2}}},\"xaxis\":{\"anchor\":\"y\",\"domain\":[0.0,1.0],\"title\":{\"text\":\"Dog Breed\"},\"categoryorder\":\"array\",\"categoryarray\":[\"Pit Bull Terrier\",\"Labrador Retriever\",\"Chihuahua\",\"Mixed Breed\",\"Terrier\",\"Hound\",\"German Shepherd\",\"Boxer\"]},\"yaxis\":{\"anchor\":\"x\",\"domain\":[0.0,1.0],\"title\":{\"text\":\"Count\"}},\"legend\":{\"title\":{\"text\":\"Dog Breed\"},\"tracegroupgap\":0,\"font\":{\"size\":12},\"orientation\":\"h\",\"y\":-0.8},\"margin\":{\"t\":60},\"barmode\":\"relative\",\"shapes\":[{\"line\":{\"color\":\"#ed5a14\",\"dash\":\"dash\"},\"type\":\"line\",\"x0\":0,\"x1\":1,\"xref\":\"x domain\",\"y0\":270,\"y1\":270,\"yref\":\"y\"}],\"annotations\":[{\"font\":{\"color\":\"#D2510F\",\"size\":12},\"showarrow\":false,\"text\":\"Avg. Count per Breed of Adoptable Dogs\",\"x\":0,\"xanchor\":\"left\",\"xref\":\"x domain\",\"y\":270,\"yanchor\":\"top\",\"yref\":\"y\"}],\"font\":{\"color\":\"#231717\",\"size\":16},\"paper_bgcolor\":\"#fffffe\",\"plot_bgcolor\":\"#fffffe\"},                        {\"responsive\": true}                    ).then(function(){\n",
       "                            \n",
       "var gd = document.getElementById('b8e7b697-5fde-4f11-b37e-a21c372295b2');\n",
       "var x = new MutationObserver(function (mutations, observer) {{\n",
       "        var display = window.getComputedStyle(gd).display;\n",
       "        if (!display || display === 'none') {{\n",
       "            console.log([gd, 'removed!']);\n",
       "            Plotly.purge(gd);\n",
       "            observer.disconnect();\n",
       "        }}\n",
       "}});\n",
       "\n",
       "// Listen for the removal of the full notebook cells\n",
       "var notebookContainer = gd.closest('#notebook-container');\n",
       "if (notebookContainer) {{\n",
       "    x.observe(notebookContainer, {childList: true});\n",
       "}}\n",
       "\n",
       "// Listen for the clearing of the current output cell\n",
       "var outputEl = gd.closest('.output');\n",
       "if (outputEl) {{\n",
       "    x.observe(outputEl, {childList: true});\n",
       "}}\n",
       "\n",
       "                        })                };                });            </script>        </div>"
      ]
     },
     "metadata": {},
     "output_type": "display_data"
    }
   ],
   "source": [
    "fig = px.bar(count,\n",
    "                 x='index', y='breed_primary', color = 'index',\n",
    "             color_discrete_map = {'Pit Bull Terrier': '#3c2f2f', 'Labrador Retriever': '#4b3832',\n",
    "                                   'Chihuahua': '#b8916e', 'Mixed Breed': '#be9b7b',\n",
    "                                  'Terrier': '#c4a588', 'Hound': '#d1b9a2',\n",
    "                                  'German Shepherd': '#e5d7ca', 'Boxer': '#fff4e6'},\n",
    "             labels = {'index': 'Dog Breed', 'breed_primary': 'Count'})\n",
    "fig.add_hline(y=270, line_dash=\"dash\", line_color = '#ed5a14', annotation_text=\"Avg. Count per Breed of Adoptable Dogs\",\n",
    "                  annotation_position=\"bottom left\", annotation_font_size=12,\n",
    "                  annotation_font_color=\"#D2510F\")\n",
    "fig.update_xaxes(categoryorder='array', categoryarray= ['Pit Bull Terrier', 'Labrador Retriever', 'Chihuahua', 'Mixed Breed', 'Terrier', 'Hound', 'German Shepherd', 'Boxer'])\n",
    "fig.update_layout(paper_bgcolor=\"#fffffe\", plot_bgcolor='#fffffe', font_color='#231717',\n",
    "                      font_size = 16, legend=dict(\n",
    "            orientation=\"h\", y=-0.8, font = dict(size = 12)))\n",
    "fig.show()"
   ]
  },
  {
   "cell_type": "code",
   "execution_count": 90,
   "id": "73051e96",
   "metadata": {},
   "outputs": [
    {
     "data": {
      "text/plain": [
       "True     41569\n",
       "False    16578\n",
       "Name: breed_mixed, dtype: int64"
      ]
     },
     "execution_count": 90,
     "metadata": {},
     "output_type": "execute_result"
    }
   ],
   "source": [
    "df.breed_mixed.value_counts()"
   ]
  },
  {
   "cell_type": "code",
   "execution_count": null,
   "id": "eff3d90d",
   "metadata": {},
   "outputs": [],
   "source": []
  }
 ],
 "metadata": {
  "kernelspec": {
   "display_name": "Python 3 (ipykernel)",
   "language": "python",
   "name": "python3"
  },
  "language_info": {
   "codemirror_mode": {
    "name": "ipython",
    "version": 3
   },
   "file_extension": ".py",
   "mimetype": "text/x-python",
   "name": "python",
   "nbconvert_exporter": "python",
   "pygments_lexer": "ipython3",
   "version": "3.9.12"
  }
 },
 "nbformat": 4,
 "nbformat_minor": 5
}
