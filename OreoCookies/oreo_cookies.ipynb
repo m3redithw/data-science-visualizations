{
 "cells": [
  {
   "cell_type": "code",
   "execution_count": 1,
   "id": "ba72617a",
   "metadata": {},
   "outputs": [],
   "source": [
    "import pandas as pd\n",
    "import matplotlib.pyplot as plt\n",
    "import plotly.express as px"
   ]
  },
  {
   "cell_type": "code",
   "execution_count": 2,
   "id": "075cf1c4",
   "metadata": {},
   "outputs": [],
   "source": [
    "# read in csv\n",
    "df = pd.read_csv('oreo.csv')"
   ]
  },
  {
   "cell_type": "code",
   "execution_count": 3,
   "id": "032edc9a",
   "metadata": {},
   "outputs": [
    {
     "data": {
      "text/html": [
       "<div>\n",
       "<style scoped>\n",
       "    .dataframe tbody tr th:only-of-type {\n",
       "        vertical-align: middle;\n",
       "    }\n",
       "\n",
       "    .dataframe tbody tr th {\n",
       "        vertical-align: top;\n",
       "    }\n",
       "\n",
       "    .dataframe thead th {\n",
       "        text-align: right;\n",
       "    }\n",
       "</style>\n",
       "<table border=\"1\" class=\"dataframe\">\n",
       "  <thead>\n",
       "    <tr style=\"text-align: right;\">\n",
       "      <th></th>\n",
       "      <th>type</th>\n",
       "      <th>limited</th>\n",
       "      <th>url</th>\n",
       "      <th>store</th>\n",
       "      <th>price</th>\n",
       "      <th>sale</th>\n",
       "      <th>rating</th>\n",
       "      <th>launch_year</th>\n",
       "    </tr>\n",
       "  </thead>\n",
       "  <tbody>\n",
       "    <tr>\n",
       "      <th>0</th>\n",
       "      <td>golden oreo sandwich cookies</td>\n",
       "      <td>no</td>\n",
       "      <td>https://www.target.com/p/oreo-golden-sandwich-...</td>\n",
       "      <td>target</td>\n",
       "      <td>4.39</td>\n",
       "      <td>384</td>\n",
       "      <td>4.7</td>\n",
       "      <td>2004</td>\n",
       "    </tr>\n",
       "    <tr>\n",
       "      <th>1</th>\n",
       "      <td>golden oreo sandwich cookies</td>\n",
       "      <td>no</td>\n",
       "      <td>https://www.walmart.com/ip/OREO-Golden-Sandwic...</td>\n",
       "      <td>walmart</td>\n",
       "      <td>3.78</td>\n",
       "      <td>154</td>\n",
       "      <td>4.7</td>\n",
       "      <td>2004</td>\n",
       "    </tr>\n",
       "    <tr>\n",
       "      <th>2</th>\n",
       "      <td>golden oreo sandwich cookies</td>\n",
       "      <td>no</td>\n",
       "      <td>https://www.dollargeneral.com/products/product...</td>\n",
       "      <td>dollar general</td>\n",
       "      <td>4.75</td>\n",
       "      <td>24</td>\n",
       "      <td>4.8</td>\n",
       "      <td>2004</td>\n",
       "    </tr>\n",
       "    <tr>\n",
       "      <th>3</th>\n",
       "      <td>golden oreo sandwich cookies</td>\n",
       "      <td>no</td>\n",
       "      <td>https://www.walgreens.com/store/c/oreo-golden-...</td>\n",
       "      <td>walgreens</td>\n",
       "      <td>4.79</td>\n",
       "      <td>62</td>\n",
       "      <td>4.7</td>\n",
       "      <td>2004</td>\n",
       "    </tr>\n",
       "    <tr>\n",
       "      <th>4</th>\n",
       "      <td>golden oreo sandwich cookies</td>\n",
       "      <td>no</td>\n",
       "      <td>https://www.cvs.com/shop/oreo-golden-sandwich-...</td>\n",
       "      <td>cvs</td>\n",
       "      <td>5.19</td>\n",
       "      <td>50</td>\n",
       "      <td>5.0</td>\n",
       "      <td>2004</td>\n",
       "    </tr>\n",
       "  </tbody>\n",
       "</table>\n",
       "</div>"
      ],
      "text/plain": [
       "                           type limited  \\\n",
       "0  golden oreo sandwich cookies      no   \n",
       "1  golden oreo sandwich cookies      no   \n",
       "2  golden oreo sandwich cookies      no   \n",
       "3  golden oreo sandwich cookies      no   \n",
       "4  golden oreo sandwich cookies      no   \n",
       "\n",
       "                                                 url           store  price  \\\n",
       "0  https://www.target.com/p/oreo-golden-sandwich-...          target   4.39   \n",
       "1  https://www.walmart.com/ip/OREO-Golden-Sandwic...         walmart   3.78   \n",
       "2  https://www.dollargeneral.com/products/product...  dollar general   4.75   \n",
       "3  https://www.walgreens.com/store/c/oreo-golden-...       walgreens   4.79   \n",
       "4  https://www.cvs.com/shop/oreo-golden-sandwich-...             cvs   5.19   \n",
       "\n",
       "   sale  rating  launch_year  \n",
       "0   384     4.7         2004  \n",
       "1   154     4.7         2004  \n",
       "2    24     4.8         2004  \n",
       "3    62     4.7         2004  \n",
       "4    50     5.0         2004  "
      ]
     },
     "execution_count": 3,
     "metadata": {},
     "output_type": "execute_result"
    }
   ],
   "source": [
    "df.head()"
   ]
  },
  {
   "cell_type": "code",
   "execution_count": 4,
   "id": "8d2b3e29",
   "metadata": {},
   "outputs": [
    {
     "data": {
      "text/plain": [
       "(54, 8)"
      ]
     },
     "execution_count": 4,
     "metadata": {},
     "output_type": "execute_result"
    }
   ],
   "source": [
    "# check shape\n",
    "df.shape"
   ]
  },
  {
   "cell_type": "code",
   "execution_count": 5,
   "id": "650cf2b7",
   "metadata": {},
   "outputs": [
    {
     "data": {
      "text/plain": [
       "golden oreo sandwich cookies                                                   7\n",
       "double stuf chocolate oreo sandwich cookies                                    6\n",
       "gluten free oreo sandwich cookies                                              5\n",
       "cakesters soft snack cake                                                      5\n",
       "Brookie-O Brownie, Original & Cookie Dough Creme Chocolate Sandwich Cookies    5\n",
       "Mint Flavored Creme Chocolate Sandwich Cookies                                 4\n",
       "oreo chocolate sandwich cookies                                                4\n",
       "Mega Stuf Chocolate Sandwich Cookies                                           4\n",
       "Orange Creme Chocolate Sandwich Cookies, Halloween Cookies                     4\n",
       "Birthday Cake Chocolate Sandwich Cookies                                       4\n",
       "Oreo Mini                                                                      3\n",
       "Oreo Mini Pokemon                                                              2\n",
       "double stuf gluten free oreo sandwich cookies                                  1\n",
       "Name: type, dtype: int64"
      ]
     },
     "execution_count": 5,
     "metadata": {},
     "output_type": "execute_result"
    }
   ],
   "source": [
    "# value count\n",
    "df.type.value_counts()"
   ]
  },
  {
   "cell_type": "code",
   "execution_count": 6,
   "id": "2eae669f",
   "metadata": {},
   "outputs": [],
   "source": [
    "# mapping & categorize cookie type\n",
    "df['cookie'] = df.type.map({'golden oreo sandwich cookies': 'Golden', 'double stuf chocolate oreo sandwich cookies': 'Double Stuf',\n",
    "                           'Brookie-O Brownie, Original & Cookie Dough Creme Chocolate Sandwich Cookies': 'Brownie',\n",
    "                           'gluten free oreo sandwich cookies': 'Gluten Free',\n",
    "                           'cakesters soft snack cake': 'Cakesters',\n",
    "                           'Mint Flavored Creme Chocolate Sandwich Cookies': 'Mint',\n",
    "                           'Mega Stuf Chocolate Sandwich Cookies': 'Mega Stuf',\n",
    "                           'Orange Creme Chocolate Sandwich Cookies, Halloween Cookies': 'Halloween',\n",
    "                           'Birthday Cake Chocolate Sandwich Cookies': 'Birthday Cake',\n",
    "                           'Oreo Mini': 'Mini',\n",
    "                           'Oreo Mini Pokemon': 'Mini',\n",
    "                           'double stuf gluten free oreo sandwich cookies': 'Gluten Free',\n",
    "                           'oreo chocolate sandwich cookies': 'Chocolate'})"
   ]
  },
  {
   "cell_type": "code",
   "execution_count": 7,
   "id": "6887686c",
   "metadata": {
    "scrolled": true
   },
   "outputs": [
    {
     "data": {
      "text/html": [
       "<div>\n",
       "<style scoped>\n",
       "    .dataframe tbody tr th:only-of-type {\n",
       "        vertical-align: middle;\n",
       "    }\n",
       "\n",
       "    .dataframe tbody tr th {\n",
       "        vertical-align: top;\n",
       "    }\n",
       "\n",
       "    .dataframe thead th {\n",
       "        text-align: right;\n",
       "    }\n",
       "</style>\n",
       "<table border=\"1\" class=\"dataframe\">\n",
       "  <thead>\n",
       "    <tr style=\"text-align: right;\">\n",
       "      <th></th>\n",
       "      <th>type</th>\n",
       "      <th>limited</th>\n",
       "      <th>url</th>\n",
       "      <th>store</th>\n",
       "      <th>price</th>\n",
       "      <th>sale</th>\n",
       "      <th>rating</th>\n",
       "      <th>launch_year</th>\n",
       "      <th>cookie</th>\n",
       "    </tr>\n",
       "  </thead>\n",
       "  <tbody>\n",
       "    <tr>\n",
       "      <th>0</th>\n",
       "      <td>golden oreo sandwich cookies</td>\n",
       "      <td>no</td>\n",
       "      <td>https://www.target.com/p/oreo-golden-sandwich-...</td>\n",
       "      <td>target</td>\n",
       "      <td>4.39</td>\n",
       "      <td>384</td>\n",
       "      <td>4.7</td>\n",
       "      <td>2004</td>\n",
       "      <td>Golden</td>\n",
       "    </tr>\n",
       "    <tr>\n",
       "      <th>1</th>\n",
       "      <td>golden oreo sandwich cookies</td>\n",
       "      <td>no</td>\n",
       "      <td>https://www.walmart.com/ip/OREO-Golden-Sandwic...</td>\n",
       "      <td>walmart</td>\n",
       "      <td>3.78</td>\n",
       "      <td>154</td>\n",
       "      <td>4.7</td>\n",
       "      <td>2004</td>\n",
       "      <td>Golden</td>\n",
       "    </tr>\n",
       "    <tr>\n",
       "      <th>2</th>\n",
       "      <td>golden oreo sandwich cookies</td>\n",
       "      <td>no</td>\n",
       "      <td>https://www.dollargeneral.com/products/product...</td>\n",
       "      <td>dollar general</td>\n",
       "      <td>4.75</td>\n",
       "      <td>24</td>\n",
       "      <td>4.8</td>\n",
       "      <td>2004</td>\n",
       "      <td>Golden</td>\n",
       "    </tr>\n",
       "    <tr>\n",
       "      <th>3</th>\n",
       "      <td>golden oreo sandwich cookies</td>\n",
       "      <td>no</td>\n",
       "      <td>https://www.walgreens.com/store/c/oreo-golden-...</td>\n",
       "      <td>walgreens</td>\n",
       "      <td>4.79</td>\n",
       "      <td>62</td>\n",
       "      <td>4.7</td>\n",
       "      <td>2004</td>\n",
       "      <td>Golden</td>\n",
       "    </tr>\n",
       "    <tr>\n",
       "      <th>4</th>\n",
       "      <td>golden oreo sandwich cookies</td>\n",
       "      <td>no</td>\n",
       "      <td>https://www.cvs.com/shop/oreo-golden-sandwich-...</td>\n",
       "      <td>cvs</td>\n",
       "      <td>5.19</td>\n",
       "      <td>50</td>\n",
       "      <td>5.0</td>\n",
       "      <td>2004</td>\n",
       "      <td>Golden</td>\n",
       "    </tr>\n",
       "  </tbody>\n",
       "</table>\n",
       "</div>"
      ],
      "text/plain": [
       "                           type limited  \\\n",
       "0  golden oreo sandwich cookies      no   \n",
       "1  golden oreo sandwich cookies      no   \n",
       "2  golden oreo sandwich cookies      no   \n",
       "3  golden oreo sandwich cookies      no   \n",
       "4  golden oreo sandwich cookies      no   \n",
       "\n",
       "                                                 url           store  price  \\\n",
       "0  https://www.target.com/p/oreo-golden-sandwich-...          target   4.39   \n",
       "1  https://www.walmart.com/ip/OREO-Golden-Sandwic...         walmart   3.78   \n",
       "2  https://www.dollargeneral.com/products/product...  dollar general   4.75   \n",
       "3  https://www.walgreens.com/store/c/oreo-golden-...       walgreens   4.79   \n",
       "4  https://www.cvs.com/shop/oreo-golden-sandwich-...             cvs   5.19   \n",
       "\n",
       "   sale  rating  launch_year  cookie  \n",
       "0   384     4.7         2004  Golden  \n",
       "1   154     4.7         2004  Golden  \n",
       "2    24     4.8         2004  Golden  \n",
       "3    62     4.7         2004  Golden  \n",
       "4    50     5.0         2004  Golden  "
      ]
     },
     "execution_count": 7,
     "metadata": {},
     "output_type": "execute_result"
    }
   ],
   "source": [
    "df.head()"
   ]
  },
  {
   "cell_type": "markdown",
   "id": "95eafcdb",
   "metadata": {},
   "source": [
    "***"
   ]
  },
  {
   "cell_type": "markdown",
   "id": "da4cb230",
   "metadata": {},
   "source": [
    "## What's average price of each type of cookies across stores?"
   ]
  },
  {
   "cell_type": "code",
   "execution_count": 10,
   "id": "1b3f355f",
   "metadata": {},
   "outputs": [
    {
     "data": {
      "text/html": [
       "<div>\n",
       "<style scoped>\n",
       "    .dataframe tbody tr th:only-of-type {\n",
       "        vertical-align: middle;\n",
       "    }\n",
       "\n",
       "    .dataframe tbody tr th {\n",
       "        vertical-align: top;\n",
       "    }\n",
       "\n",
       "    .dataframe thead th {\n",
       "        text-align: right;\n",
       "    }\n",
       "</style>\n",
       "<table border=\"1\" class=\"dataframe\">\n",
       "  <thead>\n",
       "    <tr style=\"text-align: right;\">\n",
       "      <th></th>\n",
       "      <th>count</th>\n",
       "      <th>mean</th>\n",
       "      <th>std</th>\n",
       "      <th>min</th>\n",
       "      <th>25%</th>\n",
       "      <th>50%</th>\n",
       "      <th>75%</th>\n",
       "      <th>max</th>\n",
       "    </tr>\n",
       "    <tr>\n",
       "      <th>cookie</th>\n",
       "      <th></th>\n",
       "      <th></th>\n",
       "      <th></th>\n",
       "      <th></th>\n",
       "      <th></th>\n",
       "      <th></th>\n",
       "      <th></th>\n",
       "      <th></th>\n",
       "    </tr>\n",
       "  </thead>\n",
       "  <tbody>\n",
       "    <tr>\n",
       "      <th>Birthday Cake</th>\n",
       "      <td>4.0</td>\n",
       "      <td>4.987500</td>\n",
       "      <td>0.922691</td>\n",
       "      <td>4.28</td>\n",
       "      <td>4.3625</td>\n",
       "      <td>4.690</td>\n",
       "      <td>5.315</td>\n",
       "      <td>6.29</td>\n",
       "    </tr>\n",
       "    <tr>\n",
       "      <th>Brownie</th>\n",
       "      <td>5.0</td>\n",
       "      <td>5.550000</td>\n",
       "      <td>2.063383</td>\n",
       "      <td>4.28</td>\n",
       "      <td>4.3900</td>\n",
       "      <td>4.890</td>\n",
       "      <td>4.990</td>\n",
       "      <td>9.20</td>\n",
       "    </tr>\n",
       "    <tr>\n",
       "      <th>Cakesters</th>\n",
       "      <td>5.0</td>\n",
       "      <td>4.542000</td>\n",
       "      <td>0.879130</td>\n",
       "      <td>3.88</td>\n",
       "      <td>3.9900</td>\n",
       "      <td>4.090</td>\n",
       "      <td>4.760</td>\n",
       "      <td>5.99</td>\n",
       "    </tr>\n",
       "    <tr>\n",
       "      <th>Chocolate</th>\n",
       "      <td>4.0</td>\n",
       "      <td>3.960000</td>\n",
       "      <td>0.237206</td>\n",
       "      <td>3.78</td>\n",
       "      <td>3.7800</td>\n",
       "      <td>3.890</td>\n",
       "      <td>4.070</td>\n",
       "      <td>4.28</td>\n",
       "    </tr>\n",
       "    <tr>\n",
       "      <th>Double Stuf</th>\n",
       "      <td>6.0</td>\n",
       "      <td>4.740000</td>\n",
       "      <td>0.699114</td>\n",
       "      <td>3.67</td>\n",
       "      <td>4.3950</td>\n",
       "      <td>4.800</td>\n",
       "      <td>5.265</td>\n",
       "      <td>5.49</td>\n",
       "    </tr>\n",
       "    <tr>\n",
       "      <th>Gluten Free</th>\n",
       "      <td>6.0</td>\n",
       "      <td>4.638333</td>\n",
       "      <td>0.812439</td>\n",
       "      <td>4.20</td>\n",
       "      <td>4.2800</td>\n",
       "      <td>4.335</td>\n",
       "      <td>4.390</td>\n",
       "      <td>6.29</td>\n",
       "    </tr>\n",
       "    <tr>\n",
       "      <th>Golden</th>\n",
       "      <td>7.0</td>\n",
       "      <td>4.645714</td>\n",
       "      <td>0.650842</td>\n",
       "      <td>3.78</td>\n",
       "      <td>4.1900</td>\n",
       "      <td>4.750</td>\n",
       "      <td>4.990</td>\n",
       "      <td>5.63</td>\n",
       "    </tr>\n",
       "    <tr>\n",
       "      <th>Halloween</th>\n",
       "      <td>4.0</td>\n",
       "      <td>5.022500</td>\n",
       "      <td>0.795293</td>\n",
       "      <td>4.28</td>\n",
       "      <td>4.3625</td>\n",
       "      <td>5.040</td>\n",
       "      <td>5.700</td>\n",
       "      <td>5.73</td>\n",
       "    </tr>\n",
       "    <tr>\n",
       "      <th>Mega Stuf</th>\n",
       "      <td>4.0</td>\n",
       "      <td>4.565000</td>\n",
       "      <td>0.499366</td>\n",
       "      <td>4.28</td>\n",
       "      <td>4.2800</td>\n",
       "      <td>4.335</td>\n",
       "      <td>4.620</td>\n",
       "      <td>5.31</td>\n",
       "    </tr>\n",
       "    <tr>\n",
       "      <th>Mini</th>\n",
       "      <td>5.0</td>\n",
       "      <td>4.254000</td>\n",
       "      <td>2.182849</td>\n",
       "      <td>1.33</td>\n",
       "      <td>2.4800</td>\n",
       "      <td>5.790</td>\n",
       "      <td>5.790</td>\n",
       "      <td>5.88</td>\n",
       "    </tr>\n",
       "    <tr>\n",
       "      <th>Mint</th>\n",
       "      <td>4.0</td>\n",
       "      <td>4.310000</td>\n",
       "      <td>0.053541</td>\n",
       "      <td>4.28</td>\n",
       "      <td>4.2800</td>\n",
       "      <td>4.285</td>\n",
       "      <td>4.315</td>\n",
       "      <td>4.39</td>\n",
       "    </tr>\n",
       "  </tbody>\n",
       "</table>\n",
       "</div>"
      ],
      "text/plain": [
       "               count      mean       std   min     25%    50%    75%   max\n",
       "cookie                                                                    \n",
       "Birthday Cake    4.0  4.987500  0.922691  4.28  4.3625  4.690  5.315  6.29\n",
       "Brownie          5.0  5.550000  2.063383  4.28  4.3900  4.890  4.990  9.20\n",
       "Cakesters        5.0  4.542000  0.879130  3.88  3.9900  4.090  4.760  5.99\n",
       "Chocolate        4.0  3.960000  0.237206  3.78  3.7800  3.890  4.070  4.28\n",
       "Double Stuf      6.0  4.740000  0.699114  3.67  4.3950  4.800  5.265  5.49\n",
       "Gluten Free      6.0  4.638333  0.812439  4.20  4.2800  4.335  4.390  6.29\n",
       "Golden           7.0  4.645714  0.650842  3.78  4.1900  4.750  4.990  5.63\n",
       "Halloween        4.0  5.022500  0.795293  4.28  4.3625  5.040  5.700  5.73\n",
       "Mega Stuf        4.0  4.565000  0.499366  4.28  4.2800  4.335  4.620  5.31\n",
       "Mini             5.0  4.254000  2.182849  1.33  2.4800  5.790  5.790  5.88\n",
       "Mint             4.0  4.310000  0.053541  4.28  4.2800  4.285  4.315  4.39"
      ]
     },
     "execution_count": 10,
     "metadata": {},
     "output_type": "execute_result"
    }
   ],
   "source": [
    "df.groupby('cookie').price.describe()"
   ]
  },
  {
   "cell_type": "code",
   "execution_count": 11,
   "id": "8d75d0c6",
   "metadata": {},
   "outputs": [],
   "source": [
    "# putting price data into dataframe\n",
    "price = pd.DataFrame(df.groupby('cookie').price.mean().reset_index())\n",
    "price = price.sort_values('price')"
   ]
  },
  {
   "cell_type": "code",
   "execution_count": 58,
   "id": "8be35616",
   "metadata": {},
   "outputs": [
    {
     "data": {
      "application/vnd.plotly.v1+json": {
       "config": {
        "plotlyServerURL": "https://plot.ly"
       },
       "data": [
        {
         "alignmentgroup": "True",
         "hovertemplate": "Oreo Type=%{x}<br>Price=%{y}<extra></extra>",
         "legendgroup": "Chocolate",
         "marker": {
          "color": "#89afff",
          "pattern": {
           "shape": ""
          }
         },
         "name": "Chocolate",
         "offsetgroup": "Chocolate",
         "orientation": "v",
         "showlegend": true,
         "textposition": "auto",
         "type": "bar",
         "x": [
          "Chocolate"
         ],
         "xaxis": "x",
         "y": [
          3.96
         ],
         "yaxis": "y"
        },
        {
         "alignmentgroup": "True",
         "hovertemplate": "Oreo Type=%{x}<br>Price=%{y}<extra></extra>",
         "legendgroup": "Mini",
         "marker": {
          "color": "#6294ff",
          "pattern": {
           "shape": ""
          }
         },
         "name": "Mini",
         "offsetgroup": "Mini",
         "orientation": "v",
         "showlegend": true,
         "textposition": "auto",
         "type": "bar",
         "x": [
          "Mini"
         ],
         "xaxis": "x",
         "y": [
          4.254
         ],
         "yaxis": "y"
        },
        {
         "alignmentgroup": "True",
         "hovertemplate": "Oreo Type=%{x}<br>Price=%{y}<extra></extra>",
         "legendgroup": "Mint",
         "marker": {
          "color": "#4e87ff",
          "pattern": {
           "shape": ""
          }
         },
         "name": "Mint",
         "offsetgroup": "Mint",
         "orientation": "v",
         "showlegend": true,
         "textposition": "auto",
         "type": "bar",
         "x": [
          "Mint"
         ],
         "xaxis": "x",
         "y": [
          4.3100000000000005
         ],
         "yaxis": "y"
        },
        {
         "alignmentgroup": "True",
         "hovertemplate": "Oreo Type=%{x}<br>Price=%{y}<extra></extra>",
         "legendgroup": "Cakesters",
         "marker": {
          "color": "#276dff",
          "pattern": {
           "shape": ""
          }
         },
         "name": "Cakesters",
         "offsetgroup": "Cakesters",
         "orientation": "v",
         "showlegend": true,
         "textposition": "auto",
         "type": "bar",
         "x": [
          "Cakesters"
         ],
         "xaxis": "x",
         "y": [
          4.542
         ],
         "yaxis": "y"
        },
        {
         "alignmentgroup": "True",
         "hovertemplate": "Oreo Type=%{x}<br>Price=%{y}<extra></extra>",
         "legendgroup": "Mega Stuf",
         "marker": {
          "color": "#0052ff",
          "pattern": {
           "shape": ""
          }
         },
         "name": "Mega Stuf",
         "offsetgroup": "Mega Stuf",
         "orientation": "v",
         "showlegend": true,
         "textposition": "auto",
         "type": "bar",
         "x": [
          "Mega Stuf"
         ],
         "xaxis": "x",
         "y": [
          4.5649999999999995
         ],
         "yaxis": "y"
        },
        {
         "alignmentgroup": "True",
         "hovertemplate": "Oreo Type=%{x}<br>Price=%{y}<extra></extra>",
         "legendgroup": "Gluten Free",
         "marker": {
          "color": "#0045d7",
          "pattern": {
           "shape": ""
          }
         },
         "name": "Gluten Free",
         "offsetgroup": "Gluten Free",
         "orientation": "v",
         "showlegend": true,
         "textposition": "auto",
         "type": "bar",
         "x": [
          "Gluten Free"
         ],
         "xaxis": "x",
         "y": [
          4.638333333333333
         ],
         "yaxis": "y"
        },
        {
         "alignmentgroup": "True",
         "hovertemplate": "Oreo Type=%{x}<br>Price=%{y}<extra></extra>",
         "legendgroup": "Golden",
         "marker": {
          "color": "#003fc4",
          "pattern": {
           "shape": ""
          }
         },
         "name": "Golden",
         "offsetgroup": "Golden",
         "orientation": "v",
         "showlegend": true,
         "textposition": "auto",
         "type": "bar",
         "x": [
          "Golden"
         ],
         "xaxis": "x",
         "y": [
          4.645714285714286
         ],
         "yaxis": "y"
        },
        {
         "alignmentgroup": "True",
         "hovertemplate": "Oreo Type=%{x}<br>Price=%{y}<extra></extra>",
         "legendgroup": "Double Stuf",
         "marker": {
          "color": "#00329d",
          "pattern": {
           "shape": ""
          }
         },
         "name": "Double Stuf",
         "offsetgroup": "Double Stuf",
         "orientation": "v",
         "showlegend": true,
         "textposition": "auto",
         "type": "bar",
         "x": [
          "Double Stuf"
         ],
         "xaxis": "x",
         "y": [
          4.74
         ],
         "yaxis": "y"
        },
        {
         "alignmentgroup": "True",
         "hovertemplate": "Oreo Type=%{x}<br>Price=%{y}<extra></extra>",
         "legendgroup": "Birthday Cake",
         "marker": {
          "color": "#002c89",
          "pattern": {
           "shape": ""
          }
         },
         "name": "Birthday Cake",
         "offsetgroup": "Birthday Cake",
         "orientation": "v",
         "showlegend": true,
         "textposition": "auto",
         "type": "bar",
         "x": [
          "Birthday Cake"
         ],
         "xaxis": "x",
         "y": [
          4.9875
         ],
         "yaxis": "y"
        },
        {
         "alignmentgroup": "True",
         "hovertemplate": "Oreo Type=%{x}<br>Price=%{y}<extra></extra>",
         "legendgroup": "Halloween",
         "marker": {
          "color": "#002675",
          "pattern": {
           "shape": ""
          }
         },
         "name": "Halloween",
         "offsetgroup": "Halloween",
         "orientation": "v",
         "showlegend": true,
         "textposition": "auto",
         "type": "bar",
         "x": [
          "Halloween"
         ],
         "xaxis": "x",
         "y": [
          5.0225
         ],
         "yaxis": "y"
        },
        {
         "alignmentgroup": "True",
         "hovertemplate": "Oreo Type=%{x}<br>Price=%{y}<extra></extra>",
         "legendgroup": "Brownie",
         "marker": {
          "color": "#00194e",
          "pattern": {
           "shape": ""
          }
         },
         "name": "Brownie",
         "offsetgroup": "Brownie",
         "orientation": "v",
         "showlegend": true,
         "textposition": "auto",
         "type": "bar",
         "x": [
          "Brownie"
         ],
         "xaxis": "x",
         "y": [
          5.55
         ],
         "yaxis": "y"
        }
       ],
       "layout": {
        "barmode": "relative",
        "font": {
         "color": "#180909",
         "size": 16
        },
        "height": 500,
        "legend": {
         "font": {
          "size": 10
         },
         "orientation": "h",
         "title": {
          "text": "Oreo Type"
         },
         "tracegroupgap": 0,
         "y": -0.5
        },
        "margin": {
         "t": 60
        },
        "paper_bgcolor": "#fff4e4",
        "plot_bgcolor": "#fff4e4",
        "template": {
         "data": {
          "bar": [
           {
            "error_x": {
             "color": "#2a3f5f"
            },
            "error_y": {
             "color": "#2a3f5f"
            },
            "marker": {
             "line": {
              "color": "#E5ECF6",
              "width": 0.5
             },
             "pattern": {
              "fillmode": "overlay",
              "size": 10,
              "solidity": 0.2
             }
            },
            "type": "bar"
           }
          ],
          "barpolar": [
           {
            "marker": {
             "line": {
              "color": "#E5ECF6",
              "width": 0.5
             },
             "pattern": {
              "fillmode": "overlay",
              "size": 10,
              "solidity": 0.2
             }
            },
            "type": "barpolar"
           }
          ],
          "carpet": [
           {
            "aaxis": {
             "endlinecolor": "#2a3f5f",
             "gridcolor": "white",
             "linecolor": "white",
             "minorgridcolor": "white",
             "startlinecolor": "#2a3f5f"
            },
            "baxis": {
             "endlinecolor": "#2a3f5f",
             "gridcolor": "white",
             "linecolor": "white",
             "minorgridcolor": "white",
             "startlinecolor": "#2a3f5f"
            },
            "type": "carpet"
           }
          ],
          "choropleth": [
           {
            "colorbar": {
             "outlinewidth": 0,
             "ticks": ""
            },
            "type": "choropleth"
           }
          ],
          "contour": [
           {
            "colorbar": {
             "outlinewidth": 0,
             "ticks": ""
            },
            "colorscale": [
             [
              0,
              "#0d0887"
             ],
             [
              0.1111111111111111,
              "#46039f"
             ],
             [
              0.2222222222222222,
              "#7201a8"
             ],
             [
              0.3333333333333333,
              "#9c179e"
             ],
             [
              0.4444444444444444,
              "#bd3786"
             ],
             [
              0.5555555555555556,
              "#d8576b"
             ],
             [
              0.6666666666666666,
              "#ed7953"
             ],
             [
              0.7777777777777778,
              "#fb9f3a"
             ],
             [
              0.8888888888888888,
              "#fdca26"
             ],
             [
              1,
              "#f0f921"
             ]
            ],
            "type": "contour"
           }
          ],
          "contourcarpet": [
           {
            "colorbar": {
             "outlinewidth": 0,
             "ticks": ""
            },
            "type": "contourcarpet"
           }
          ],
          "heatmap": [
           {
            "colorbar": {
             "outlinewidth": 0,
             "ticks": ""
            },
            "colorscale": [
             [
              0,
              "#0d0887"
             ],
             [
              0.1111111111111111,
              "#46039f"
             ],
             [
              0.2222222222222222,
              "#7201a8"
             ],
             [
              0.3333333333333333,
              "#9c179e"
             ],
             [
              0.4444444444444444,
              "#bd3786"
             ],
             [
              0.5555555555555556,
              "#d8576b"
             ],
             [
              0.6666666666666666,
              "#ed7953"
             ],
             [
              0.7777777777777778,
              "#fb9f3a"
             ],
             [
              0.8888888888888888,
              "#fdca26"
             ],
             [
              1,
              "#f0f921"
             ]
            ],
            "type": "heatmap"
           }
          ],
          "heatmapgl": [
           {
            "colorbar": {
             "outlinewidth": 0,
             "ticks": ""
            },
            "colorscale": [
             [
              0,
              "#0d0887"
             ],
             [
              0.1111111111111111,
              "#46039f"
             ],
             [
              0.2222222222222222,
              "#7201a8"
             ],
             [
              0.3333333333333333,
              "#9c179e"
             ],
             [
              0.4444444444444444,
              "#bd3786"
             ],
             [
              0.5555555555555556,
              "#d8576b"
             ],
             [
              0.6666666666666666,
              "#ed7953"
             ],
             [
              0.7777777777777778,
              "#fb9f3a"
             ],
             [
              0.8888888888888888,
              "#fdca26"
             ],
             [
              1,
              "#f0f921"
             ]
            ],
            "type": "heatmapgl"
           }
          ],
          "histogram": [
           {
            "marker": {
             "pattern": {
              "fillmode": "overlay",
              "size": 10,
              "solidity": 0.2
             }
            },
            "type": "histogram"
           }
          ],
          "histogram2d": [
           {
            "colorbar": {
             "outlinewidth": 0,
             "ticks": ""
            },
            "colorscale": [
             [
              0,
              "#0d0887"
             ],
             [
              0.1111111111111111,
              "#46039f"
             ],
             [
              0.2222222222222222,
              "#7201a8"
             ],
             [
              0.3333333333333333,
              "#9c179e"
             ],
             [
              0.4444444444444444,
              "#bd3786"
             ],
             [
              0.5555555555555556,
              "#d8576b"
             ],
             [
              0.6666666666666666,
              "#ed7953"
             ],
             [
              0.7777777777777778,
              "#fb9f3a"
             ],
             [
              0.8888888888888888,
              "#fdca26"
             ],
             [
              1,
              "#f0f921"
             ]
            ],
            "type": "histogram2d"
           }
          ],
          "histogram2dcontour": [
           {
            "colorbar": {
             "outlinewidth": 0,
             "ticks": ""
            },
            "colorscale": [
             [
              0,
              "#0d0887"
             ],
             [
              0.1111111111111111,
              "#46039f"
             ],
             [
              0.2222222222222222,
              "#7201a8"
             ],
             [
              0.3333333333333333,
              "#9c179e"
             ],
             [
              0.4444444444444444,
              "#bd3786"
             ],
             [
              0.5555555555555556,
              "#d8576b"
             ],
             [
              0.6666666666666666,
              "#ed7953"
             ],
             [
              0.7777777777777778,
              "#fb9f3a"
             ],
             [
              0.8888888888888888,
              "#fdca26"
             ],
             [
              1,
              "#f0f921"
             ]
            ],
            "type": "histogram2dcontour"
           }
          ],
          "mesh3d": [
           {
            "colorbar": {
             "outlinewidth": 0,
             "ticks": ""
            },
            "type": "mesh3d"
           }
          ],
          "parcoords": [
           {
            "line": {
             "colorbar": {
              "outlinewidth": 0,
              "ticks": ""
             }
            },
            "type": "parcoords"
           }
          ],
          "pie": [
           {
            "automargin": true,
            "type": "pie"
           }
          ],
          "scatter": [
           {
            "marker": {
             "colorbar": {
              "outlinewidth": 0,
              "ticks": ""
             }
            },
            "type": "scatter"
           }
          ],
          "scatter3d": [
           {
            "line": {
             "colorbar": {
              "outlinewidth": 0,
              "ticks": ""
             }
            },
            "marker": {
             "colorbar": {
              "outlinewidth": 0,
              "ticks": ""
             }
            },
            "type": "scatter3d"
           }
          ],
          "scattercarpet": [
           {
            "marker": {
             "colorbar": {
              "outlinewidth": 0,
              "ticks": ""
             }
            },
            "type": "scattercarpet"
           }
          ],
          "scattergeo": [
           {
            "marker": {
             "colorbar": {
              "outlinewidth": 0,
              "ticks": ""
             }
            },
            "type": "scattergeo"
           }
          ],
          "scattergl": [
           {
            "marker": {
             "colorbar": {
              "outlinewidth": 0,
              "ticks": ""
             }
            },
            "type": "scattergl"
           }
          ],
          "scattermapbox": [
           {
            "marker": {
             "colorbar": {
              "outlinewidth": 0,
              "ticks": ""
             }
            },
            "type": "scattermapbox"
           }
          ],
          "scatterpolar": [
           {
            "marker": {
             "colorbar": {
              "outlinewidth": 0,
              "ticks": ""
             }
            },
            "type": "scatterpolar"
           }
          ],
          "scatterpolargl": [
           {
            "marker": {
             "colorbar": {
              "outlinewidth": 0,
              "ticks": ""
             }
            },
            "type": "scatterpolargl"
           }
          ],
          "scatterternary": [
           {
            "marker": {
             "colorbar": {
              "outlinewidth": 0,
              "ticks": ""
             }
            },
            "type": "scatterternary"
           }
          ],
          "surface": [
           {
            "colorbar": {
             "outlinewidth": 0,
             "ticks": ""
            },
            "colorscale": [
             [
              0,
              "#0d0887"
             ],
             [
              0.1111111111111111,
              "#46039f"
             ],
             [
              0.2222222222222222,
              "#7201a8"
             ],
             [
              0.3333333333333333,
              "#9c179e"
             ],
             [
              0.4444444444444444,
              "#bd3786"
             ],
             [
              0.5555555555555556,
              "#d8576b"
             ],
             [
              0.6666666666666666,
              "#ed7953"
             ],
             [
              0.7777777777777778,
              "#fb9f3a"
             ],
             [
              0.8888888888888888,
              "#fdca26"
             ],
             [
              1,
              "#f0f921"
             ]
            ],
            "type": "surface"
           }
          ],
          "table": [
           {
            "cells": {
             "fill": {
              "color": "#EBF0F8"
             },
             "line": {
              "color": "white"
             }
            },
            "header": {
             "fill": {
              "color": "#C8D4E3"
             },
             "line": {
              "color": "white"
             }
            },
            "type": "table"
           }
          ]
         },
         "layout": {
          "annotationdefaults": {
           "arrowcolor": "#2a3f5f",
           "arrowhead": 0,
           "arrowwidth": 1
          },
          "autotypenumbers": "strict",
          "coloraxis": {
           "colorbar": {
            "outlinewidth": 0,
            "ticks": ""
           }
          },
          "colorscale": {
           "diverging": [
            [
             0,
             "#8e0152"
            ],
            [
             0.1,
             "#c51b7d"
            ],
            [
             0.2,
             "#de77ae"
            ],
            [
             0.3,
             "#f1b6da"
            ],
            [
             0.4,
             "#fde0ef"
            ],
            [
             0.5,
             "#f7f7f7"
            ],
            [
             0.6,
             "#e6f5d0"
            ],
            [
             0.7,
             "#b8e186"
            ],
            [
             0.8,
             "#7fbc41"
            ],
            [
             0.9,
             "#4d9221"
            ],
            [
             1,
             "#276419"
            ]
           ],
           "sequential": [
            [
             0,
             "#0d0887"
            ],
            [
             0.1111111111111111,
             "#46039f"
            ],
            [
             0.2222222222222222,
             "#7201a8"
            ],
            [
             0.3333333333333333,
             "#9c179e"
            ],
            [
             0.4444444444444444,
             "#bd3786"
            ],
            [
             0.5555555555555556,
             "#d8576b"
            ],
            [
             0.6666666666666666,
             "#ed7953"
            ],
            [
             0.7777777777777778,
             "#fb9f3a"
            ],
            [
             0.8888888888888888,
             "#fdca26"
            ],
            [
             1,
             "#f0f921"
            ]
           ],
           "sequentialminus": [
            [
             0,
             "#0d0887"
            ],
            [
             0.1111111111111111,
             "#46039f"
            ],
            [
             0.2222222222222222,
             "#7201a8"
            ],
            [
             0.3333333333333333,
             "#9c179e"
            ],
            [
             0.4444444444444444,
             "#bd3786"
            ],
            [
             0.5555555555555556,
             "#d8576b"
            ],
            [
             0.6666666666666666,
             "#ed7953"
            ],
            [
             0.7777777777777778,
             "#fb9f3a"
            ],
            [
             0.8888888888888888,
             "#fdca26"
            ],
            [
             1,
             "#f0f921"
            ]
           ]
          },
          "colorway": [
           "#636efa",
           "#EF553B",
           "#00cc96",
           "#ab63fa",
           "#FFA15A",
           "#19d3f3",
           "#FF6692",
           "#B6E880",
           "#FF97FF",
           "#FECB52"
          ],
          "font": {
           "color": "#2a3f5f"
          },
          "geo": {
           "bgcolor": "white",
           "lakecolor": "white",
           "landcolor": "#E5ECF6",
           "showlakes": true,
           "showland": true,
           "subunitcolor": "white"
          },
          "hoverlabel": {
           "align": "left"
          },
          "hovermode": "closest",
          "mapbox": {
           "style": "light"
          },
          "paper_bgcolor": "white",
          "plot_bgcolor": "#E5ECF6",
          "polar": {
           "angularaxis": {
            "gridcolor": "white",
            "linecolor": "white",
            "ticks": ""
           },
           "bgcolor": "#E5ECF6",
           "radialaxis": {
            "gridcolor": "white",
            "linecolor": "white",
            "ticks": ""
           }
          },
          "scene": {
           "xaxis": {
            "backgroundcolor": "#E5ECF6",
            "gridcolor": "white",
            "gridwidth": 2,
            "linecolor": "white",
            "showbackground": true,
            "ticks": "",
            "zerolinecolor": "white"
           },
           "yaxis": {
            "backgroundcolor": "#E5ECF6",
            "gridcolor": "white",
            "gridwidth": 2,
            "linecolor": "white",
            "showbackground": true,
            "ticks": "",
            "zerolinecolor": "white"
           },
           "zaxis": {
            "backgroundcolor": "#E5ECF6",
            "gridcolor": "white",
            "gridwidth": 2,
            "linecolor": "white",
            "showbackground": true,
            "ticks": "",
            "zerolinecolor": "white"
           }
          },
          "shapedefaults": {
           "line": {
            "color": "#2a3f5f"
           }
          },
          "ternary": {
           "aaxis": {
            "gridcolor": "white",
            "linecolor": "white",
            "ticks": ""
           },
           "baxis": {
            "gridcolor": "white",
            "linecolor": "white",
            "ticks": ""
           },
           "bgcolor": "#E5ECF6",
           "caxis": {
            "gridcolor": "white",
            "linecolor": "white",
            "ticks": ""
           }
          },
          "title": {
           "x": 0.05
          },
          "xaxis": {
           "automargin": true,
           "gridcolor": "white",
           "linecolor": "white",
           "ticks": "",
           "title": {
            "standoff": 15
           },
           "zerolinecolor": "white",
           "zerolinewidth": 2
          },
          "yaxis": {
           "automargin": true,
           "gridcolor": "white",
           "linecolor": "white",
           "ticks": "",
           "title": {
            "standoff": 15
           },
           "zerolinecolor": "white",
           "zerolinewidth": 2
          }
         }
        },
        "xaxis": {
         "anchor": "y",
         "categoryarray": [
          "Chocolate",
          "Mini",
          "Mint",
          "Cakesters",
          "Mega Stuf",
          "Gluten Free",
          "Golden",
          "Double Stuf",
          "Birthday Cake",
          "Halloween",
          "Brownie"
         ],
         "categoryorder": "array",
         "domain": [
          0,
          1
         ],
         "title": {
          "text": "Oreo Type"
         }
        },
        "yaxis": {
         "anchor": "x",
         "domain": [
          0,
          1
         ],
         "range": [
          3.5,
          6
         ],
         "title": {
          "text": "Price"
         }
        }
       }
      },
      "text/html": [
       "<div>                            <div id=\"2aa00322-64d2-4761-8ab1-197f83a0882c\" class=\"plotly-graph-div\" style=\"height:500px; width:100%;\"></div>            <script type=\"text/javascript\">                require([\"plotly\"], function(Plotly) {                    window.PLOTLYENV=window.PLOTLYENV || {};                                    if (document.getElementById(\"2aa00322-64d2-4761-8ab1-197f83a0882c\")) {                    Plotly.newPlot(                        \"2aa00322-64d2-4761-8ab1-197f83a0882c\",                        [{\"alignmentgroup\":\"True\",\"hovertemplate\":\"Oreo Type=%{x}<br>Price=%{y}<extra></extra>\",\"legendgroup\":\"Chocolate\",\"marker\":{\"color\":\"#89afff\",\"pattern\":{\"shape\":\"\"}},\"name\":\"Chocolate\",\"offsetgroup\":\"Chocolate\",\"orientation\":\"v\",\"showlegend\":true,\"textposition\":\"auto\",\"x\":[\"Chocolate\"],\"xaxis\":\"x\",\"y\":[3.96],\"yaxis\":\"y\",\"type\":\"bar\"},{\"alignmentgroup\":\"True\",\"hovertemplate\":\"Oreo Type=%{x}<br>Price=%{y}<extra></extra>\",\"legendgroup\":\"Mini\",\"marker\":{\"color\":\"#6294ff\",\"pattern\":{\"shape\":\"\"}},\"name\":\"Mini\",\"offsetgroup\":\"Mini\",\"orientation\":\"v\",\"showlegend\":true,\"textposition\":\"auto\",\"x\":[\"Mini\"],\"xaxis\":\"x\",\"y\":[4.254],\"yaxis\":\"y\",\"type\":\"bar\"},{\"alignmentgroup\":\"True\",\"hovertemplate\":\"Oreo Type=%{x}<br>Price=%{y}<extra></extra>\",\"legendgroup\":\"Mint\",\"marker\":{\"color\":\"#4e87ff\",\"pattern\":{\"shape\":\"\"}},\"name\":\"Mint\",\"offsetgroup\":\"Mint\",\"orientation\":\"v\",\"showlegend\":true,\"textposition\":\"auto\",\"x\":[\"Mint\"],\"xaxis\":\"x\",\"y\":[4.3100000000000005],\"yaxis\":\"y\",\"type\":\"bar\"},{\"alignmentgroup\":\"True\",\"hovertemplate\":\"Oreo Type=%{x}<br>Price=%{y}<extra></extra>\",\"legendgroup\":\"Cakesters\",\"marker\":{\"color\":\"#276dff\",\"pattern\":{\"shape\":\"\"}},\"name\":\"Cakesters\",\"offsetgroup\":\"Cakesters\",\"orientation\":\"v\",\"showlegend\":true,\"textposition\":\"auto\",\"x\":[\"Cakesters\"],\"xaxis\":\"x\",\"y\":[4.542],\"yaxis\":\"y\",\"type\":\"bar\"},{\"alignmentgroup\":\"True\",\"hovertemplate\":\"Oreo Type=%{x}<br>Price=%{y}<extra></extra>\",\"legendgroup\":\"Mega Stuf\",\"marker\":{\"color\":\"#0052ff\",\"pattern\":{\"shape\":\"\"}},\"name\":\"Mega Stuf\",\"offsetgroup\":\"Mega Stuf\",\"orientation\":\"v\",\"showlegend\":true,\"textposition\":\"auto\",\"x\":[\"Mega Stuf\"],\"xaxis\":\"x\",\"y\":[4.5649999999999995],\"yaxis\":\"y\",\"type\":\"bar\"},{\"alignmentgroup\":\"True\",\"hovertemplate\":\"Oreo Type=%{x}<br>Price=%{y}<extra></extra>\",\"legendgroup\":\"Gluten Free\",\"marker\":{\"color\":\"#0045d7\",\"pattern\":{\"shape\":\"\"}},\"name\":\"Gluten Free\",\"offsetgroup\":\"Gluten Free\",\"orientation\":\"v\",\"showlegend\":true,\"textposition\":\"auto\",\"x\":[\"Gluten Free\"],\"xaxis\":\"x\",\"y\":[4.638333333333333],\"yaxis\":\"y\",\"type\":\"bar\"},{\"alignmentgroup\":\"True\",\"hovertemplate\":\"Oreo Type=%{x}<br>Price=%{y}<extra></extra>\",\"legendgroup\":\"Golden\",\"marker\":{\"color\":\"#003fc4\",\"pattern\":{\"shape\":\"\"}},\"name\":\"Golden\",\"offsetgroup\":\"Golden\",\"orientation\":\"v\",\"showlegend\":true,\"textposition\":\"auto\",\"x\":[\"Golden\"],\"xaxis\":\"x\",\"y\":[4.645714285714286],\"yaxis\":\"y\",\"type\":\"bar\"},{\"alignmentgroup\":\"True\",\"hovertemplate\":\"Oreo Type=%{x}<br>Price=%{y}<extra></extra>\",\"legendgroup\":\"Double Stuf\",\"marker\":{\"color\":\"#00329d\",\"pattern\":{\"shape\":\"\"}},\"name\":\"Double Stuf\",\"offsetgroup\":\"Double Stuf\",\"orientation\":\"v\",\"showlegend\":true,\"textposition\":\"auto\",\"x\":[\"Double Stuf\"],\"xaxis\":\"x\",\"y\":[4.74],\"yaxis\":\"y\",\"type\":\"bar\"},{\"alignmentgroup\":\"True\",\"hovertemplate\":\"Oreo Type=%{x}<br>Price=%{y}<extra></extra>\",\"legendgroup\":\"Birthday Cake\",\"marker\":{\"color\":\"#002c89\",\"pattern\":{\"shape\":\"\"}},\"name\":\"Birthday Cake\",\"offsetgroup\":\"Birthday Cake\",\"orientation\":\"v\",\"showlegend\":true,\"textposition\":\"auto\",\"x\":[\"Birthday Cake\"],\"xaxis\":\"x\",\"y\":[4.9875],\"yaxis\":\"y\",\"type\":\"bar\"},{\"alignmentgroup\":\"True\",\"hovertemplate\":\"Oreo Type=%{x}<br>Price=%{y}<extra></extra>\",\"legendgroup\":\"Halloween\",\"marker\":{\"color\":\"#002675\",\"pattern\":{\"shape\":\"\"}},\"name\":\"Halloween\",\"offsetgroup\":\"Halloween\",\"orientation\":\"v\",\"showlegend\":true,\"textposition\":\"auto\",\"x\":[\"Halloween\"],\"xaxis\":\"x\",\"y\":[5.0225],\"yaxis\":\"y\",\"type\":\"bar\"},{\"alignmentgroup\":\"True\",\"hovertemplate\":\"Oreo Type=%{x}<br>Price=%{y}<extra></extra>\",\"legendgroup\":\"Brownie\",\"marker\":{\"color\":\"#00194e\",\"pattern\":{\"shape\":\"\"}},\"name\":\"Brownie\",\"offsetgroup\":\"Brownie\",\"orientation\":\"v\",\"showlegend\":true,\"textposition\":\"auto\",\"x\":[\"Brownie\"],\"xaxis\":\"x\",\"y\":[5.55],\"yaxis\":\"y\",\"type\":\"bar\"}],                        {\"template\":{\"data\":{\"bar\":[{\"error_x\":{\"color\":\"#2a3f5f\"},\"error_y\":{\"color\":\"#2a3f5f\"},\"marker\":{\"line\":{\"color\":\"#E5ECF6\",\"width\":0.5},\"pattern\":{\"fillmode\":\"overlay\",\"size\":10,\"solidity\":0.2}},\"type\":\"bar\"}],\"barpolar\":[{\"marker\":{\"line\":{\"color\":\"#E5ECF6\",\"width\":0.5},\"pattern\":{\"fillmode\":\"overlay\",\"size\":10,\"solidity\":0.2}},\"type\":\"barpolar\"}],\"carpet\":[{\"aaxis\":{\"endlinecolor\":\"#2a3f5f\",\"gridcolor\":\"white\",\"linecolor\":\"white\",\"minorgridcolor\":\"white\",\"startlinecolor\":\"#2a3f5f\"},\"baxis\":{\"endlinecolor\":\"#2a3f5f\",\"gridcolor\":\"white\",\"linecolor\":\"white\",\"minorgridcolor\":\"white\",\"startlinecolor\":\"#2a3f5f\"},\"type\":\"carpet\"}],\"choropleth\":[{\"colorbar\":{\"outlinewidth\":0,\"ticks\":\"\"},\"type\":\"choropleth\"}],\"contour\":[{\"colorbar\":{\"outlinewidth\":0,\"ticks\":\"\"},\"colorscale\":[[0.0,\"#0d0887\"],[0.1111111111111111,\"#46039f\"],[0.2222222222222222,\"#7201a8\"],[0.3333333333333333,\"#9c179e\"],[0.4444444444444444,\"#bd3786\"],[0.5555555555555556,\"#d8576b\"],[0.6666666666666666,\"#ed7953\"],[0.7777777777777778,\"#fb9f3a\"],[0.8888888888888888,\"#fdca26\"],[1.0,\"#f0f921\"]],\"type\":\"contour\"}],\"contourcarpet\":[{\"colorbar\":{\"outlinewidth\":0,\"ticks\":\"\"},\"type\":\"contourcarpet\"}],\"heatmap\":[{\"colorbar\":{\"outlinewidth\":0,\"ticks\":\"\"},\"colorscale\":[[0.0,\"#0d0887\"],[0.1111111111111111,\"#46039f\"],[0.2222222222222222,\"#7201a8\"],[0.3333333333333333,\"#9c179e\"],[0.4444444444444444,\"#bd3786\"],[0.5555555555555556,\"#d8576b\"],[0.6666666666666666,\"#ed7953\"],[0.7777777777777778,\"#fb9f3a\"],[0.8888888888888888,\"#fdca26\"],[1.0,\"#f0f921\"]],\"type\":\"heatmap\"}],\"heatmapgl\":[{\"colorbar\":{\"outlinewidth\":0,\"ticks\":\"\"},\"colorscale\":[[0.0,\"#0d0887\"],[0.1111111111111111,\"#46039f\"],[0.2222222222222222,\"#7201a8\"],[0.3333333333333333,\"#9c179e\"],[0.4444444444444444,\"#bd3786\"],[0.5555555555555556,\"#d8576b\"],[0.6666666666666666,\"#ed7953\"],[0.7777777777777778,\"#fb9f3a\"],[0.8888888888888888,\"#fdca26\"],[1.0,\"#f0f921\"]],\"type\":\"heatmapgl\"}],\"histogram\":[{\"marker\":{\"pattern\":{\"fillmode\":\"overlay\",\"size\":10,\"solidity\":0.2}},\"type\":\"histogram\"}],\"histogram2d\":[{\"colorbar\":{\"outlinewidth\":0,\"ticks\":\"\"},\"colorscale\":[[0.0,\"#0d0887\"],[0.1111111111111111,\"#46039f\"],[0.2222222222222222,\"#7201a8\"],[0.3333333333333333,\"#9c179e\"],[0.4444444444444444,\"#bd3786\"],[0.5555555555555556,\"#d8576b\"],[0.6666666666666666,\"#ed7953\"],[0.7777777777777778,\"#fb9f3a\"],[0.8888888888888888,\"#fdca26\"],[1.0,\"#f0f921\"]],\"type\":\"histogram2d\"}],\"histogram2dcontour\":[{\"colorbar\":{\"outlinewidth\":0,\"ticks\":\"\"},\"colorscale\":[[0.0,\"#0d0887\"],[0.1111111111111111,\"#46039f\"],[0.2222222222222222,\"#7201a8\"],[0.3333333333333333,\"#9c179e\"],[0.4444444444444444,\"#bd3786\"],[0.5555555555555556,\"#d8576b\"],[0.6666666666666666,\"#ed7953\"],[0.7777777777777778,\"#fb9f3a\"],[0.8888888888888888,\"#fdca26\"],[1.0,\"#f0f921\"]],\"type\":\"histogram2dcontour\"}],\"mesh3d\":[{\"colorbar\":{\"outlinewidth\":0,\"ticks\":\"\"},\"type\":\"mesh3d\"}],\"parcoords\":[{\"line\":{\"colorbar\":{\"outlinewidth\":0,\"ticks\":\"\"}},\"type\":\"parcoords\"}],\"pie\":[{\"automargin\":true,\"type\":\"pie\"}],\"scatter\":[{\"marker\":{\"colorbar\":{\"outlinewidth\":0,\"ticks\":\"\"}},\"type\":\"scatter\"}],\"scatter3d\":[{\"line\":{\"colorbar\":{\"outlinewidth\":0,\"ticks\":\"\"}},\"marker\":{\"colorbar\":{\"outlinewidth\":0,\"ticks\":\"\"}},\"type\":\"scatter3d\"}],\"scattercarpet\":[{\"marker\":{\"colorbar\":{\"outlinewidth\":0,\"ticks\":\"\"}},\"type\":\"scattercarpet\"}],\"scattergeo\":[{\"marker\":{\"colorbar\":{\"outlinewidth\":0,\"ticks\":\"\"}},\"type\":\"scattergeo\"}],\"scattergl\":[{\"marker\":{\"colorbar\":{\"outlinewidth\":0,\"ticks\":\"\"}},\"type\":\"scattergl\"}],\"scattermapbox\":[{\"marker\":{\"colorbar\":{\"outlinewidth\":0,\"ticks\":\"\"}},\"type\":\"scattermapbox\"}],\"scatterpolar\":[{\"marker\":{\"colorbar\":{\"outlinewidth\":0,\"ticks\":\"\"}},\"type\":\"scatterpolar\"}],\"scatterpolargl\":[{\"marker\":{\"colorbar\":{\"outlinewidth\":0,\"ticks\":\"\"}},\"type\":\"scatterpolargl\"}],\"scatterternary\":[{\"marker\":{\"colorbar\":{\"outlinewidth\":0,\"ticks\":\"\"}},\"type\":\"scatterternary\"}],\"surface\":[{\"colorbar\":{\"outlinewidth\":0,\"ticks\":\"\"},\"colorscale\":[[0.0,\"#0d0887\"],[0.1111111111111111,\"#46039f\"],[0.2222222222222222,\"#7201a8\"],[0.3333333333333333,\"#9c179e\"],[0.4444444444444444,\"#bd3786\"],[0.5555555555555556,\"#d8576b\"],[0.6666666666666666,\"#ed7953\"],[0.7777777777777778,\"#fb9f3a\"],[0.8888888888888888,\"#fdca26\"],[1.0,\"#f0f921\"]],\"type\":\"surface\"}],\"table\":[{\"cells\":{\"fill\":{\"color\":\"#EBF0F8\"},\"line\":{\"color\":\"white\"}},\"header\":{\"fill\":{\"color\":\"#C8D4E3\"},\"line\":{\"color\":\"white\"}},\"type\":\"table\"}]},\"layout\":{\"annotationdefaults\":{\"arrowcolor\":\"#2a3f5f\",\"arrowhead\":0,\"arrowwidth\":1},\"autotypenumbers\":\"strict\",\"coloraxis\":{\"colorbar\":{\"outlinewidth\":0,\"ticks\":\"\"}},\"colorscale\":{\"diverging\":[[0,\"#8e0152\"],[0.1,\"#c51b7d\"],[0.2,\"#de77ae\"],[0.3,\"#f1b6da\"],[0.4,\"#fde0ef\"],[0.5,\"#f7f7f7\"],[0.6,\"#e6f5d0\"],[0.7,\"#b8e186\"],[0.8,\"#7fbc41\"],[0.9,\"#4d9221\"],[1,\"#276419\"]],\"sequential\":[[0.0,\"#0d0887\"],[0.1111111111111111,\"#46039f\"],[0.2222222222222222,\"#7201a8\"],[0.3333333333333333,\"#9c179e\"],[0.4444444444444444,\"#bd3786\"],[0.5555555555555556,\"#d8576b\"],[0.6666666666666666,\"#ed7953\"],[0.7777777777777778,\"#fb9f3a\"],[0.8888888888888888,\"#fdca26\"],[1.0,\"#f0f921\"]],\"sequentialminus\":[[0.0,\"#0d0887\"],[0.1111111111111111,\"#46039f\"],[0.2222222222222222,\"#7201a8\"],[0.3333333333333333,\"#9c179e\"],[0.4444444444444444,\"#bd3786\"],[0.5555555555555556,\"#d8576b\"],[0.6666666666666666,\"#ed7953\"],[0.7777777777777778,\"#fb9f3a\"],[0.8888888888888888,\"#fdca26\"],[1.0,\"#f0f921\"]]},\"colorway\":[\"#636efa\",\"#EF553B\",\"#00cc96\",\"#ab63fa\",\"#FFA15A\",\"#19d3f3\",\"#FF6692\",\"#B6E880\",\"#FF97FF\",\"#FECB52\"],\"font\":{\"color\":\"#2a3f5f\"},\"geo\":{\"bgcolor\":\"white\",\"lakecolor\":\"white\",\"landcolor\":\"#E5ECF6\",\"showlakes\":true,\"showland\":true,\"subunitcolor\":\"white\"},\"hoverlabel\":{\"align\":\"left\"},\"hovermode\":\"closest\",\"mapbox\":{\"style\":\"light\"},\"paper_bgcolor\":\"white\",\"plot_bgcolor\":\"#E5ECF6\",\"polar\":{\"angularaxis\":{\"gridcolor\":\"white\",\"linecolor\":\"white\",\"ticks\":\"\"},\"bgcolor\":\"#E5ECF6\",\"radialaxis\":{\"gridcolor\":\"white\",\"linecolor\":\"white\",\"ticks\":\"\"}},\"scene\":{\"xaxis\":{\"backgroundcolor\":\"#E5ECF6\",\"gridcolor\":\"white\",\"gridwidth\":2,\"linecolor\":\"white\",\"showbackground\":true,\"ticks\":\"\",\"zerolinecolor\":\"white\"},\"yaxis\":{\"backgroundcolor\":\"#E5ECF6\",\"gridcolor\":\"white\",\"gridwidth\":2,\"linecolor\":\"white\",\"showbackground\":true,\"ticks\":\"\",\"zerolinecolor\":\"white\"},\"zaxis\":{\"backgroundcolor\":\"#E5ECF6\",\"gridcolor\":\"white\",\"gridwidth\":2,\"linecolor\":\"white\",\"showbackground\":true,\"ticks\":\"\",\"zerolinecolor\":\"white\"}},\"shapedefaults\":{\"line\":{\"color\":\"#2a3f5f\"}},\"ternary\":{\"aaxis\":{\"gridcolor\":\"white\",\"linecolor\":\"white\",\"ticks\":\"\"},\"baxis\":{\"gridcolor\":\"white\",\"linecolor\":\"white\",\"ticks\":\"\"},\"bgcolor\":\"#E5ECF6\",\"caxis\":{\"gridcolor\":\"white\",\"linecolor\":\"white\",\"ticks\":\"\"}},\"title\":{\"x\":0.05},\"xaxis\":{\"automargin\":true,\"gridcolor\":\"white\",\"linecolor\":\"white\",\"ticks\":\"\",\"title\":{\"standoff\":15},\"zerolinecolor\":\"white\",\"zerolinewidth\":2},\"yaxis\":{\"automargin\":true,\"gridcolor\":\"white\",\"linecolor\":\"white\",\"ticks\":\"\",\"title\":{\"standoff\":15},\"zerolinecolor\":\"white\",\"zerolinewidth\":2}}},\"xaxis\":{\"anchor\":\"y\",\"domain\":[0.0,1.0],\"title\":{\"text\":\"Oreo Type\"},\"categoryorder\":\"array\",\"categoryarray\":[\"Chocolate\",\"Mini\",\"Mint\",\"Cakesters\",\"Mega Stuf\",\"Gluten Free\",\"Golden\",\"Double Stuf\",\"Birthday Cake\",\"Halloween\",\"Brownie\"]},\"yaxis\":{\"anchor\":\"x\",\"domain\":[0.0,1.0],\"title\":{\"text\":\"Price\"},\"range\":[3.5,6]},\"legend\":{\"title\":{\"text\":\"Oreo Type\"},\"tracegroupgap\":0,\"font\":{\"size\":10},\"orientation\":\"h\",\"y\":-0.5},\"margin\":{\"t\":60},\"barmode\":\"relative\",\"font\":{\"color\":\"#180909\",\"size\":16},\"paper_bgcolor\":\"#fff4e4\",\"plot_bgcolor\":\"#fff4e4\",\"height\":500},                        {\"responsive\": true}                    ).then(function(){\n",
       "                            \n",
       "var gd = document.getElementById('2aa00322-64d2-4761-8ab1-197f83a0882c');\n",
       "var x = new MutationObserver(function (mutations, observer) {{\n",
       "        var display = window.getComputedStyle(gd).display;\n",
       "        if (!display || display === 'none') {{\n",
       "            console.log([gd, 'removed!']);\n",
       "            Plotly.purge(gd);\n",
       "            observer.disconnect();\n",
       "        }}\n",
       "}});\n",
       "\n",
       "// Listen for the removal of the full notebook cells\n",
       "var notebookContainer = gd.closest('#notebook-container');\n",
       "if (notebookContainer) {{\n",
       "    x.observe(notebookContainer, {childList: true});\n",
       "}}\n",
       "\n",
       "// Listen for the clearing of the current output cell\n",
       "var outputEl = gd.closest('.output');\n",
       "if (outputEl) {{\n",
       "    x.observe(outputEl, {childList: true});\n",
       "}}\n",
       "\n",
       "                        })                };                });            </script>        </div>"
      ]
     },
     "metadata": {},
     "output_type": "display_data"
    }
   ],
   "source": [
    "fig = px.bar(price, x='cookie', y='price', color = 'cookie', color_discrete_map={'Chocolate': '#89afff', 'Mini': '#6294ff', 'Mint': '#4e87ff',\n",
    "                    'Cakesters': '#276dff', 'Mega Stuf': '#0052ff', 'Gluten Free': '#0045d7',\n",
    "                    'Golden': '#003fc4', 'Double Stuf': '#00329d', 'Birthday Cake': '#002c89',\n",
    "                    'Halloween': '#002675', 'Brownie': '#00194e'}, labels = {'price': 'Price', 'cookie': 'Oreo Type'})\n",
    "fig.update_layout(paper_bgcolor=\"#fff4e4\", plot_bgcolor='#fff4e4', font_color='#180909',\n",
    "                  font_size = 16, height = 500, yaxis_range=[3.5,6], legend=dict(\n",
    "    orientation=\"h\", y=-0.5, font = dict(size = 10)))\n",
    "fig.update_xaxes(categoryorder='array', categoryarray= ['Chocolate', 'Mini', 'Mint', 'Cakesters', 'Mega Stuf', 'Gluten Free', 'Golden', 'Double Stuf', 'Birthday Cake', 'Halloween', 'Brownie'])\n",
    "fig.show()"
   ]
  },
  {
   "cell_type": "markdown",
   "id": "691a252e",
   "metadata": {},
   "source": [
    "## Which Oreo type has the highest rating?"
   ]
  },
  {
   "cell_type": "code",
   "execution_count": 57,
   "id": "d4f583df",
   "metadata": {},
   "outputs": [
    {
     "data": {
      "application/vnd.plotly.v1+json": {
       "config": {
        "plotlyServerURL": "https://plot.ly"
       },
       "data": [
        {
         "alignmentgroup": "True",
         "hovertemplate": "Oreo Type=%{x}<br>rating=%{y}<extra></extra>",
         "legendgroup": "Golden",
         "marker": {
          "color": "#003fc4"
         },
         "name": "Golden",
         "notched": false,
         "offsetgroup": "Golden",
         "orientation": "v",
         "showlegend": true,
         "type": "box",
         "x": [
          "Golden",
          "Golden",
          "Golden",
          "Golden",
          "Golden",
          "Golden",
          "Golden"
         ],
         "x0": " ",
         "xaxis": "x",
         "y": [
          4.7,
          4.7,
          4.8,
          4.7,
          5,
          4.6,
          4.7
         ],
         "y0": " ",
         "yaxis": "y"
        },
        {
         "alignmentgroup": "True",
         "hovertemplate": "Oreo Type=%{x}<br>rating=%{y}<extra></extra>",
         "legendgroup": "Gluten Free",
         "marker": {
          "color": "#0045d7"
         },
         "name": "Gluten Free",
         "notched": false,
         "offsetgroup": "Gluten Free",
         "orientation": "v",
         "showlegend": true,
         "type": "box",
         "x": [
          "Gluten Free",
          "Gluten Free",
          "Gluten Free",
          "Gluten Free",
          "Gluten Free",
          "Gluten Free"
         ],
         "x0": " ",
         "xaxis": "x",
         "y": [
          4.5,
          4.4,
          4.5,
          4.8,
          4.8,
          4.28
         ],
         "y0": " ",
         "yaxis": "y"
        },
        {
         "alignmentgroup": "True",
         "hovertemplate": "Oreo Type=%{x}<br>rating=%{y}<extra></extra>",
         "legendgroup": "Double Stuf",
         "marker": {
          "color": "#00329d"
         },
         "name": "Double Stuf",
         "notched": false,
         "offsetgroup": "Double Stuf",
         "orientation": "v",
         "showlegend": true,
         "type": "box",
         "x": [
          "Double Stuf",
          "Double Stuf",
          "Double Stuf",
          "Double Stuf",
          "Double Stuf",
          "Double Stuf"
         ],
         "x0": " ",
         "xaxis": "x",
         "y": [
          4.7,
          5,
          4.8,
          4.9,
          4.8,
          4.7
         ],
         "y0": " ",
         "yaxis": "y"
        },
        {
         "alignmentgroup": "True",
         "hovertemplate": "Oreo Type=%{x}<br>rating=%{y}<extra></extra>",
         "legendgroup": "Cakesters",
         "marker": {
          "color": "#276dff"
         },
         "name": "Cakesters",
         "notched": false,
         "offsetgroup": "Cakesters",
         "orientation": "v",
         "showlegend": true,
         "type": "box",
         "x": [
          "Cakesters",
          "Cakesters",
          "Cakesters",
          "Cakesters",
          "Cakesters"
         ],
         "x0": " ",
         "xaxis": "x",
         "y": [
          4.6,
          4.5,
          4.8,
          4.2,
          4.5
         ],
         "y0": " ",
         "yaxis": "y"
        },
        {
         "alignmentgroup": "True",
         "hovertemplate": "Oreo Type=%{x}<br>rating=%{y}<extra></extra>",
         "legendgroup": "Mint",
         "marker": {
          "color": "#4e87ff"
         },
         "name": "Mint",
         "notched": false,
         "offsetgroup": "Mint",
         "orientation": "v",
         "showlegend": true,
         "type": "box",
         "x": [
          "Mint",
          "Mint",
          "Mint",
          "Mint"
         ],
         "x0": " ",
         "xaxis": "x",
         "y": [
          4.8,
          4.7,
          4.7,
          4.7
         ],
         "y0": " ",
         "yaxis": "y"
        },
        {
         "alignmentgroup": "True",
         "hovertemplate": "Oreo Type=%{x}<br>rating=%{y}<extra></extra>",
         "legendgroup": "Mini",
         "marker": {
          "color": "#6294ff"
         },
         "name": "Mini",
         "notched": false,
         "offsetgroup": "Mini",
         "orientation": "v",
         "showlegend": true,
         "type": "box",
         "x": [
          "Mini",
          "Mini",
          "Mini",
          "Mini",
          "Mini"
         ],
         "x0": " ",
         "xaxis": "x",
         "y": [
          4.8,
          4.6,
          4.7,
          4.8,
          4.6
         ],
         "y0": " ",
         "yaxis": "y"
        },
        {
         "alignmentgroup": "True",
         "hovertemplate": "Oreo Type=%{x}<br>rating=%{y}<extra></extra>",
         "legendgroup": "Chocolate",
         "marker": {
          "color": "#89afff"
         },
         "name": "Chocolate",
         "notched": false,
         "offsetgroup": "Chocolate",
         "orientation": "v",
         "showlegend": true,
         "type": "box",
         "x": [
          "Chocolate",
          "Chocolate",
          "Chocolate",
          "Chocolate"
         ],
         "x0": " ",
         "xaxis": "x",
         "y": [
          4.8,
          3,
          4.6,
          4.6
         ],
         "y0": " ",
         "yaxis": "y"
        },
        {
         "alignmentgroup": "True",
         "hovertemplate": "Oreo Type=%{x}<br>rating=%{y}<extra></extra>",
         "legendgroup": "Brownie",
         "marker": {
          "color": "#00194e"
         },
         "name": "Brownie",
         "notched": false,
         "offsetgroup": "Brownie",
         "orientation": "v",
         "showlegend": true,
         "type": "box",
         "x": [
          "Brownie",
          "Brownie",
          "Brownie",
          "Brownie",
          "Brownie"
         ],
         "x0": " ",
         "xaxis": "x",
         "y": [
          4.6,
          4.3,
          4.3,
          4.7,
          4.2
         ],
         "y0": " ",
         "yaxis": "y"
        },
        {
         "alignmentgroup": "True",
         "hovertemplate": "Oreo Type=%{x}<br>rating=%{y}<extra></extra>",
         "legendgroup": "Mega Stuf",
         "marker": {
          "color": "#0052ff"
         },
         "name": "Mega Stuf",
         "notched": false,
         "offsetgroup": "Mega Stuf",
         "orientation": "v",
         "showlegend": true,
         "type": "box",
         "x": [
          "Mega Stuf",
          "Mega Stuf",
          "Mega Stuf",
          "Mega Stuf"
         ],
         "x0": " ",
         "xaxis": "x",
         "y": [
          4.6,
          4.7,
          4.7,
          4.4
         ],
         "y0": " ",
         "yaxis": "y"
        },
        {
         "alignmentgroup": "True",
         "hovertemplate": "Oreo Type=%{x}<br>rating=%{y}<extra></extra>",
         "legendgroup": "Halloween",
         "marker": {
          "color": "#002675"
         },
         "name": "Halloween",
         "notched": false,
         "offsetgroup": "Halloween",
         "orientation": "v",
         "showlegend": true,
         "type": "box",
         "x": [
          "Halloween",
          "Halloween",
          "Halloween",
          "Halloween"
         ],
         "x0": " ",
         "xaxis": "x",
         "y": [
          4.6,
          4.8,
          4.6,
          4.7
         ],
         "y0": " ",
         "yaxis": "y"
        },
        {
         "alignmentgroup": "True",
         "hovertemplate": "Oreo Type=%{x}<br>rating=%{y}<extra></extra>",
         "legendgroup": "Birthday Cake",
         "marker": {
          "color": "#002c89"
         },
         "name": "Birthday Cake",
         "notched": false,
         "offsetgroup": "Birthday Cake",
         "orientation": "v",
         "showlegend": true,
         "type": "box",
         "x": [
          "Birthday Cake",
          "Birthday Cake",
          "Birthday Cake",
          "Birthday Cake"
         ],
         "x0": " ",
         "xaxis": "x",
         "y": [
          4,
          4.7,
          5,
          4.5
         ],
         "y0": " ",
         "yaxis": "y"
        }
       ],
       "layout": {
        "boxmode": "overlay",
        "font": {
         "color": "#180909",
         "size": 16
        },
        "height": 500,
        "legend": {
         "font": {
          "size": 10
         },
         "orientation": "h",
         "title": {
          "text": "Oreo Type"
         },
         "tracegroupgap": 0,
         "y": -0.5
        },
        "margin": {
         "t": 60
        },
        "paper_bgcolor": "#E4F4F9",
        "plot_bgcolor": "#E4F4F9",
        "template": {
         "data": {
          "bar": [
           {
            "error_x": {
             "color": "#2a3f5f"
            },
            "error_y": {
             "color": "#2a3f5f"
            },
            "marker": {
             "line": {
              "color": "#E5ECF6",
              "width": 0.5
             },
             "pattern": {
              "fillmode": "overlay",
              "size": 10,
              "solidity": 0.2
             }
            },
            "type": "bar"
           }
          ],
          "barpolar": [
           {
            "marker": {
             "line": {
              "color": "#E5ECF6",
              "width": 0.5
             },
             "pattern": {
              "fillmode": "overlay",
              "size": 10,
              "solidity": 0.2
             }
            },
            "type": "barpolar"
           }
          ],
          "carpet": [
           {
            "aaxis": {
             "endlinecolor": "#2a3f5f",
             "gridcolor": "white",
             "linecolor": "white",
             "minorgridcolor": "white",
             "startlinecolor": "#2a3f5f"
            },
            "baxis": {
             "endlinecolor": "#2a3f5f",
             "gridcolor": "white",
             "linecolor": "white",
             "minorgridcolor": "white",
             "startlinecolor": "#2a3f5f"
            },
            "type": "carpet"
           }
          ],
          "choropleth": [
           {
            "colorbar": {
             "outlinewidth": 0,
             "ticks": ""
            },
            "type": "choropleth"
           }
          ],
          "contour": [
           {
            "colorbar": {
             "outlinewidth": 0,
             "ticks": ""
            },
            "colorscale": [
             [
              0,
              "#0d0887"
             ],
             [
              0.1111111111111111,
              "#46039f"
             ],
             [
              0.2222222222222222,
              "#7201a8"
             ],
             [
              0.3333333333333333,
              "#9c179e"
             ],
             [
              0.4444444444444444,
              "#bd3786"
             ],
             [
              0.5555555555555556,
              "#d8576b"
             ],
             [
              0.6666666666666666,
              "#ed7953"
             ],
             [
              0.7777777777777778,
              "#fb9f3a"
             ],
             [
              0.8888888888888888,
              "#fdca26"
             ],
             [
              1,
              "#f0f921"
             ]
            ],
            "type": "contour"
           }
          ],
          "contourcarpet": [
           {
            "colorbar": {
             "outlinewidth": 0,
             "ticks": ""
            },
            "type": "contourcarpet"
           }
          ],
          "heatmap": [
           {
            "colorbar": {
             "outlinewidth": 0,
             "ticks": ""
            },
            "colorscale": [
             [
              0,
              "#0d0887"
             ],
             [
              0.1111111111111111,
              "#46039f"
             ],
             [
              0.2222222222222222,
              "#7201a8"
             ],
             [
              0.3333333333333333,
              "#9c179e"
             ],
             [
              0.4444444444444444,
              "#bd3786"
             ],
             [
              0.5555555555555556,
              "#d8576b"
             ],
             [
              0.6666666666666666,
              "#ed7953"
             ],
             [
              0.7777777777777778,
              "#fb9f3a"
             ],
             [
              0.8888888888888888,
              "#fdca26"
             ],
             [
              1,
              "#f0f921"
             ]
            ],
            "type": "heatmap"
           }
          ],
          "heatmapgl": [
           {
            "colorbar": {
             "outlinewidth": 0,
             "ticks": ""
            },
            "colorscale": [
             [
              0,
              "#0d0887"
             ],
             [
              0.1111111111111111,
              "#46039f"
             ],
             [
              0.2222222222222222,
              "#7201a8"
             ],
             [
              0.3333333333333333,
              "#9c179e"
             ],
             [
              0.4444444444444444,
              "#bd3786"
             ],
             [
              0.5555555555555556,
              "#d8576b"
             ],
             [
              0.6666666666666666,
              "#ed7953"
             ],
             [
              0.7777777777777778,
              "#fb9f3a"
             ],
             [
              0.8888888888888888,
              "#fdca26"
             ],
             [
              1,
              "#f0f921"
             ]
            ],
            "type": "heatmapgl"
           }
          ],
          "histogram": [
           {
            "marker": {
             "pattern": {
              "fillmode": "overlay",
              "size": 10,
              "solidity": 0.2
             }
            },
            "type": "histogram"
           }
          ],
          "histogram2d": [
           {
            "colorbar": {
             "outlinewidth": 0,
             "ticks": ""
            },
            "colorscale": [
             [
              0,
              "#0d0887"
             ],
             [
              0.1111111111111111,
              "#46039f"
             ],
             [
              0.2222222222222222,
              "#7201a8"
             ],
             [
              0.3333333333333333,
              "#9c179e"
             ],
             [
              0.4444444444444444,
              "#bd3786"
             ],
             [
              0.5555555555555556,
              "#d8576b"
             ],
             [
              0.6666666666666666,
              "#ed7953"
             ],
             [
              0.7777777777777778,
              "#fb9f3a"
             ],
             [
              0.8888888888888888,
              "#fdca26"
             ],
             [
              1,
              "#f0f921"
             ]
            ],
            "type": "histogram2d"
           }
          ],
          "histogram2dcontour": [
           {
            "colorbar": {
             "outlinewidth": 0,
             "ticks": ""
            },
            "colorscale": [
             [
              0,
              "#0d0887"
             ],
             [
              0.1111111111111111,
              "#46039f"
             ],
             [
              0.2222222222222222,
              "#7201a8"
             ],
             [
              0.3333333333333333,
              "#9c179e"
             ],
             [
              0.4444444444444444,
              "#bd3786"
             ],
             [
              0.5555555555555556,
              "#d8576b"
             ],
             [
              0.6666666666666666,
              "#ed7953"
             ],
             [
              0.7777777777777778,
              "#fb9f3a"
             ],
             [
              0.8888888888888888,
              "#fdca26"
             ],
             [
              1,
              "#f0f921"
             ]
            ],
            "type": "histogram2dcontour"
           }
          ],
          "mesh3d": [
           {
            "colorbar": {
             "outlinewidth": 0,
             "ticks": ""
            },
            "type": "mesh3d"
           }
          ],
          "parcoords": [
           {
            "line": {
             "colorbar": {
              "outlinewidth": 0,
              "ticks": ""
             }
            },
            "type": "parcoords"
           }
          ],
          "pie": [
           {
            "automargin": true,
            "type": "pie"
           }
          ],
          "scatter": [
           {
            "marker": {
             "colorbar": {
              "outlinewidth": 0,
              "ticks": ""
             }
            },
            "type": "scatter"
           }
          ],
          "scatter3d": [
           {
            "line": {
             "colorbar": {
              "outlinewidth": 0,
              "ticks": ""
             }
            },
            "marker": {
             "colorbar": {
              "outlinewidth": 0,
              "ticks": ""
             }
            },
            "type": "scatter3d"
           }
          ],
          "scattercarpet": [
           {
            "marker": {
             "colorbar": {
              "outlinewidth": 0,
              "ticks": ""
             }
            },
            "type": "scattercarpet"
           }
          ],
          "scattergeo": [
           {
            "marker": {
             "colorbar": {
              "outlinewidth": 0,
              "ticks": ""
             }
            },
            "type": "scattergeo"
           }
          ],
          "scattergl": [
           {
            "marker": {
             "colorbar": {
              "outlinewidth": 0,
              "ticks": ""
             }
            },
            "type": "scattergl"
           }
          ],
          "scattermapbox": [
           {
            "marker": {
             "colorbar": {
              "outlinewidth": 0,
              "ticks": ""
             }
            },
            "type": "scattermapbox"
           }
          ],
          "scatterpolar": [
           {
            "marker": {
             "colorbar": {
              "outlinewidth": 0,
              "ticks": ""
             }
            },
            "type": "scatterpolar"
           }
          ],
          "scatterpolargl": [
           {
            "marker": {
             "colorbar": {
              "outlinewidth": 0,
              "ticks": ""
             }
            },
            "type": "scatterpolargl"
           }
          ],
          "scatterternary": [
           {
            "marker": {
             "colorbar": {
              "outlinewidth": 0,
              "ticks": ""
             }
            },
            "type": "scatterternary"
           }
          ],
          "surface": [
           {
            "colorbar": {
             "outlinewidth": 0,
             "ticks": ""
            },
            "colorscale": [
             [
              0,
              "#0d0887"
             ],
             [
              0.1111111111111111,
              "#46039f"
             ],
             [
              0.2222222222222222,
              "#7201a8"
             ],
             [
              0.3333333333333333,
              "#9c179e"
             ],
             [
              0.4444444444444444,
              "#bd3786"
             ],
             [
              0.5555555555555556,
              "#d8576b"
             ],
             [
              0.6666666666666666,
              "#ed7953"
             ],
             [
              0.7777777777777778,
              "#fb9f3a"
             ],
             [
              0.8888888888888888,
              "#fdca26"
             ],
             [
              1,
              "#f0f921"
             ]
            ],
            "type": "surface"
           }
          ],
          "table": [
           {
            "cells": {
             "fill": {
              "color": "#EBF0F8"
             },
             "line": {
              "color": "white"
             }
            },
            "header": {
             "fill": {
              "color": "#C8D4E3"
             },
             "line": {
              "color": "white"
             }
            },
            "type": "table"
           }
          ]
         },
         "layout": {
          "annotationdefaults": {
           "arrowcolor": "#2a3f5f",
           "arrowhead": 0,
           "arrowwidth": 1
          },
          "autotypenumbers": "strict",
          "coloraxis": {
           "colorbar": {
            "outlinewidth": 0,
            "ticks": ""
           }
          },
          "colorscale": {
           "diverging": [
            [
             0,
             "#8e0152"
            ],
            [
             0.1,
             "#c51b7d"
            ],
            [
             0.2,
             "#de77ae"
            ],
            [
             0.3,
             "#f1b6da"
            ],
            [
             0.4,
             "#fde0ef"
            ],
            [
             0.5,
             "#f7f7f7"
            ],
            [
             0.6,
             "#e6f5d0"
            ],
            [
             0.7,
             "#b8e186"
            ],
            [
             0.8,
             "#7fbc41"
            ],
            [
             0.9,
             "#4d9221"
            ],
            [
             1,
             "#276419"
            ]
           ],
           "sequential": [
            [
             0,
             "#0d0887"
            ],
            [
             0.1111111111111111,
             "#46039f"
            ],
            [
             0.2222222222222222,
             "#7201a8"
            ],
            [
             0.3333333333333333,
             "#9c179e"
            ],
            [
             0.4444444444444444,
             "#bd3786"
            ],
            [
             0.5555555555555556,
             "#d8576b"
            ],
            [
             0.6666666666666666,
             "#ed7953"
            ],
            [
             0.7777777777777778,
             "#fb9f3a"
            ],
            [
             0.8888888888888888,
             "#fdca26"
            ],
            [
             1,
             "#f0f921"
            ]
           ],
           "sequentialminus": [
            [
             0,
             "#0d0887"
            ],
            [
             0.1111111111111111,
             "#46039f"
            ],
            [
             0.2222222222222222,
             "#7201a8"
            ],
            [
             0.3333333333333333,
             "#9c179e"
            ],
            [
             0.4444444444444444,
             "#bd3786"
            ],
            [
             0.5555555555555556,
             "#d8576b"
            ],
            [
             0.6666666666666666,
             "#ed7953"
            ],
            [
             0.7777777777777778,
             "#fb9f3a"
            ],
            [
             0.8888888888888888,
             "#fdca26"
            ],
            [
             1,
             "#f0f921"
            ]
           ]
          },
          "colorway": [
           "#636efa",
           "#EF553B",
           "#00cc96",
           "#ab63fa",
           "#FFA15A",
           "#19d3f3",
           "#FF6692",
           "#B6E880",
           "#FF97FF",
           "#FECB52"
          ],
          "font": {
           "color": "#2a3f5f"
          },
          "geo": {
           "bgcolor": "white",
           "lakecolor": "white",
           "landcolor": "#E5ECF6",
           "showlakes": true,
           "showland": true,
           "subunitcolor": "white"
          },
          "hoverlabel": {
           "align": "left"
          },
          "hovermode": "closest",
          "mapbox": {
           "style": "light"
          },
          "paper_bgcolor": "white",
          "plot_bgcolor": "#E5ECF6",
          "polar": {
           "angularaxis": {
            "gridcolor": "white",
            "linecolor": "white",
            "ticks": ""
           },
           "bgcolor": "#E5ECF6",
           "radialaxis": {
            "gridcolor": "white",
            "linecolor": "white",
            "ticks": ""
           }
          },
          "scene": {
           "xaxis": {
            "backgroundcolor": "#E5ECF6",
            "gridcolor": "white",
            "gridwidth": 2,
            "linecolor": "white",
            "showbackground": true,
            "ticks": "",
            "zerolinecolor": "white"
           },
           "yaxis": {
            "backgroundcolor": "#E5ECF6",
            "gridcolor": "white",
            "gridwidth": 2,
            "linecolor": "white",
            "showbackground": true,
            "ticks": "",
            "zerolinecolor": "white"
           },
           "zaxis": {
            "backgroundcolor": "#E5ECF6",
            "gridcolor": "white",
            "gridwidth": 2,
            "linecolor": "white",
            "showbackground": true,
            "ticks": "",
            "zerolinecolor": "white"
           }
          },
          "shapedefaults": {
           "line": {
            "color": "#2a3f5f"
           }
          },
          "ternary": {
           "aaxis": {
            "gridcolor": "white",
            "linecolor": "white",
            "ticks": ""
           },
           "baxis": {
            "gridcolor": "white",
            "linecolor": "white",
            "ticks": ""
           },
           "bgcolor": "#E5ECF6",
           "caxis": {
            "gridcolor": "white",
            "linecolor": "white",
            "ticks": ""
           }
          },
          "title": {
           "x": 0.05
          },
          "xaxis": {
           "automargin": true,
           "gridcolor": "white",
           "linecolor": "white",
           "ticks": "",
           "title": {
            "standoff": 15
           },
           "zerolinecolor": "white",
           "zerolinewidth": 2
          },
          "yaxis": {
           "automargin": true,
           "gridcolor": "white",
           "linecolor": "white",
           "ticks": "",
           "title": {
            "standoff": 15
           },
           "zerolinecolor": "white",
           "zerolinewidth": 2
          }
         }
        },
        "xaxis": {
         "anchor": "y",
         "categoryarray": [
          "Chocolate",
          "Mini",
          "Mint",
          "Cakesters",
          "Mega Stuf",
          "Gluten Free",
          "Golden",
          "Double Stuf",
          "Birthday Cake",
          "Halloween",
          "Brownie"
         ],
         "categoryorder": "array",
         "domain": [
          0,
          1
         ],
         "title": {
          "text": "Oreo Type"
         }
        },
        "yaxis": {
         "anchor": "x",
         "domain": [
          0,
          1
         ],
         "title": {
          "text": "rating"
         }
        }
       }
      },
      "text/html": [
       "<div>                            <div id=\"96804ee1-8d7f-424a-903f-b5475842e14f\" class=\"plotly-graph-div\" style=\"height:500px; width:100%;\"></div>            <script type=\"text/javascript\">                require([\"plotly\"], function(Plotly) {                    window.PLOTLYENV=window.PLOTLYENV || {};                                    if (document.getElementById(\"96804ee1-8d7f-424a-903f-b5475842e14f\")) {                    Plotly.newPlot(                        \"96804ee1-8d7f-424a-903f-b5475842e14f\",                        [{\"alignmentgroup\":\"True\",\"hovertemplate\":\"Oreo Type=%{x}<br>rating=%{y}<extra></extra>\",\"legendgroup\":\"Golden\",\"marker\":{\"color\":\"#003fc4\"},\"name\":\"Golden\",\"notched\":false,\"offsetgroup\":\"Golden\",\"orientation\":\"v\",\"showlegend\":true,\"x\":[\"Golden\",\"Golden\",\"Golden\",\"Golden\",\"Golden\",\"Golden\",\"Golden\"],\"x0\":\" \",\"xaxis\":\"x\",\"y\":[4.7,4.7,4.8,4.7,5.0,4.6,4.7],\"y0\":\" \",\"yaxis\":\"y\",\"type\":\"box\"},{\"alignmentgroup\":\"True\",\"hovertemplate\":\"Oreo Type=%{x}<br>rating=%{y}<extra></extra>\",\"legendgroup\":\"Gluten Free\",\"marker\":{\"color\":\"#0045d7\"},\"name\":\"Gluten Free\",\"notched\":false,\"offsetgroup\":\"Gluten Free\",\"orientation\":\"v\",\"showlegend\":true,\"x\":[\"Gluten Free\",\"Gluten Free\",\"Gluten Free\",\"Gluten Free\",\"Gluten Free\",\"Gluten Free\"],\"x0\":\" \",\"xaxis\":\"x\",\"y\":[4.5,4.4,4.5,4.8,4.8,4.28],\"y0\":\" \",\"yaxis\":\"y\",\"type\":\"box\"},{\"alignmentgroup\":\"True\",\"hovertemplate\":\"Oreo Type=%{x}<br>rating=%{y}<extra></extra>\",\"legendgroup\":\"Double Stuf\",\"marker\":{\"color\":\"#00329d\"},\"name\":\"Double Stuf\",\"notched\":false,\"offsetgroup\":\"Double Stuf\",\"orientation\":\"v\",\"showlegend\":true,\"x\":[\"Double Stuf\",\"Double Stuf\",\"Double Stuf\",\"Double Stuf\",\"Double Stuf\",\"Double Stuf\"],\"x0\":\" \",\"xaxis\":\"x\",\"y\":[4.7,5.0,4.8,4.9,4.8,4.7],\"y0\":\" \",\"yaxis\":\"y\",\"type\":\"box\"},{\"alignmentgroup\":\"True\",\"hovertemplate\":\"Oreo Type=%{x}<br>rating=%{y}<extra></extra>\",\"legendgroup\":\"Cakesters\",\"marker\":{\"color\":\"#276dff\"},\"name\":\"Cakesters\",\"notched\":false,\"offsetgroup\":\"Cakesters\",\"orientation\":\"v\",\"showlegend\":true,\"x\":[\"Cakesters\",\"Cakesters\",\"Cakesters\",\"Cakesters\",\"Cakesters\"],\"x0\":\" \",\"xaxis\":\"x\",\"y\":[4.6,4.5,4.8,4.2,4.5],\"y0\":\" \",\"yaxis\":\"y\",\"type\":\"box\"},{\"alignmentgroup\":\"True\",\"hovertemplate\":\"Oreo Type=%{x}<br>rating=%{y}<extra></extra>\",\"legendgroup\":\"Mint\",\"marker\":{\"color\":\"#4e87ff\"},\"name\":\"Mint\",\"notched\":false,\"offsetgroup\":\"Mint\",\"orientation\":\"v\",\"showlegend\":true,\"x\":[\"Mint\",\"Mint\",\"Mint\",\"Mint\"],\"x0\":\" \",\"xaxis\":\"x\",\"y\":[4.8,4.7,4.7,4.7],\"y0\":\" \",\"yaxis\":\"y\",\"type\":\"box\"},{\"alignmentgroup\":\"True\",\"hovertemplate\":\"Oreo Type=%{x}<br>rating=%{y}<extra></extra>\",\"legendgroup\":\"Mini\",\"marker\":{\"color\":\"#6294ff\"},\"name\":\"Mini\",\"notched\":false,\"offsetgroup\":\"Mini\",\"orientation\":\"v\",\"showlegend\":true,\"x\":[\"Mini\",\"Mini\",\"Mini\",\"Mini\",\"Mini\"],\"x0\":\" \",\"xaxis\":\"x\",\"y\":[4.8,4.6,4.7,4.8,4.6],\"y0\":\" \",\"yaxis\":\"y\",\"type\":\"box\"},{\"alignmentgroup\":\"True\",\"hovertemplate\":\"Oreo Type=%{x}<br>rating=%{y}<extra></extra>\",\"legendgroup\":\"Chocolate\",\"marker\":{\"color\":\"#89afff\"},\"name\":\"Chocolate\",\"notched\":false,\"offsetgroup\":\"Chocolate\",\"orientation\":\"v\",\"showlegend\":true,\"x\":[\"Chocolate\",\"Chocolate\",\"Chocolate\",\"Chocolate\"],\"x0\":\" \",\"xaxis\":\"x\",\"y\":[4.8,3.0,4.6,4.6],\"y0\":\" \",\"yaxis\":\"y\",\"type\":\"box\"},{\"alignmentgroup\":\"True\",\"hovertemplate\":\"Oreo Type=%{x}<br>rating=%{y}<extra></extra>\",\"legendgroup\":\"Brownie\",\"marker\":{\"color\":\"#00194e\"},\"name\":\"Brownie\",\"notched\":false,\"offsetgroup\":\"Brownie\",\"orientation\":\"v\",\"showlegend\":true,\"x\":[\"Brownie\",\"Brownie\",\"Brownie\",\"Brownie\",\"Brownie\"],\"x0\":\" \",\"xaxis\":\"x\",\"y\":[4.6,4.3,4.3,4.7,4.2],\"y0\":\" \",\"yaxis\":\"y\",\"type\":\"box\"},{\"alignmentgroup\":\"True\",\"hovertemplate\":\"Oreo Type=%{x}<br>rating=%{y}<extra></extra>\",\"legendgroup\":\"Mega Stuf\",\"marker\":{\"color\":\"#0052ff\"},\"name\":\"Mega Stuf\",\"notched\":false,\"offsetgroup\":\"Mega Stuf\",\"orientation\":\"v\",\"showlegend\":true,\"x\":[\"Mega Stuf\",\"Mega Stuf\",\"Mega Stuf\",\"Mega Stuf\"],\"x0\":\" \",\"xaxis\":\"x\",\"y\":[4.6,4.7,4.7,4.4],\"y0\":\" \",\"yaxis\":\"y\",\"type\":\"box\"},{\"alignmentgroup\":\"True\",\"hovertemplate\":\"Oreo Type=%{x}<br>rating=%{y}<extra></extra>\",\"legendgroup\":\"Halloween\",\"marker\":{\"color\":\"#002675\"},\"name\":\"Halloween\",\"notched\":false,\"offsetgroup\":\"Halloween\",\"orientation\":\"v\",\"showlegend\":true,\"x\":[\"Halloween\",\"Halloween\",\"Halloween\",\"Halloween\"],\"x0\":\" \",\"xaxis\":\"x\",\"y\":[4.6,4.8,4.6,4.7],\"y0\":\" \",\"yaxis\":\"y\",\"type\":\"box\"},{\"alignmentgroup\":\"True\",\"hovertemplate\":\"Oreo Type=%{x}<br>rating=%{y}<extra></extra>\",\"legendgroup\":\"Birthday Cake\",\"marker\":{\"color\":\"#002c89\"},\"name\":\"Birthday Cake\",\"notched\":false,\"offsetgroup\":\"Birthday Cake\",\"orientation\":\"v\",\"showlegend\":true,\"x\":[\"Birthday Cake\",\"Birthday Cake\",\"Birthday Cake\",\"Birthday Cake\"],\"x0\":\" \",\"xaxis\":\"x\",\"y\":[4.0,4.7,5.0,4.5],\"y0\":\" \",\"yaxis\":\"y\",\"type\":\"box\"}],                        {\"template\":{\"data\":{\"bar\":[{\"error_x\":{\"color\":\"#2a3f5f\"},\"error_y\":{\"color\":\"#2a3f5f\"},\"marker\":{\"line\":{\"color\":\"#E5ECF6\",\"width\":0.5},\"pattern\":{\"fillmode\":\"overlay\",\"size\":10,\"solidity\":0.2}},\"type\":\"bar\"}],\"barpolar\":[{\"marker\":{\"line\":{\"color\":\"#E5ECF6\",\"width\":0.5},\"pattern\":{\"fillmode\":\"overlay\",\"size\":10,\"solidity\":0.2}},\"type\":\"barpolar\"}],\"carpet\":[{\"aaxis\":{\"endlinecolor\":\"#2a3f5f\",\"gridcolor\":\"white\",\"linecolor\":\"white\",\"minorgridcolor\":\"white\",\"startlinecolor\":\"#2a3f5f\"},\"baxis\":{\"endlinecolor\":\"#2a3f5f\",\"gridcolor\":\"white\",\"linecolor\":\"white\",\"minorgridcolor\":\"white\",\"startlinecolor\":\"#2a3f5f\"},\"type\":\"carpet\"}],\"choropleth\":[{\"colorbar\":{\"outlinewidth\":0,\"ticks\":\"\"},\"type\":\"choropleth\"}],\"contour\":[{\"colorbar\":{\"outlinewidth\":0,\"ticks\":\"\"},\"colorscale\":[[0.0,\"#0d0887\"],[0.1111111111111111,\"#46039f\"],[0.2222222222222222,\"#7201a8\"],[0.3333333333333333,\"#9c179e\"],[0.4444444444444444,\"#bd3786\"],[0.5555555555555556,\"#d8576b\"],[0.6666666666666666,\"#ed7953\"],[0.7777777777777778,\"#fb9f3a\"],[0.8888888888888888,\"#fdca26\"],[1.0,\"#f0f921\"]],\"type\":\"contour\"}],\"contourcarpet\":[{\"colorbar\":{\"outlinewidth\":0,\"ticks\":\"\"},\"type\":\"contourcarpet\"}],\"heatmap\":[{\"colorbar\":{\"outlinewidth\":0,\"ticks\":\"\"},\"colorscale\":[[0.0,\"#0d0887\"],[0.1111111111111111,\"#46039f\"],[0.2222222222222222,\"#7201a8\"],[0.3333333333333333,\"#9c179e\"],[0.4444444444444444,\"#bd3786\"],[0.5555555555555556,\"#d8576b\"],[0.6666666666666666,\"#ed7953\"],[0.7777777777777778,\"#fb9f3a\"],[0.8888888888888888,\"#fdca26\"],[1.0,\"#f0f921\"]],\"type\":\"heatmap\"}],\"heatmapgl\":[{\"colorbar\":{\"outlinewidth\":0,\"ticks\":\"\"},\"colorscale\":[[0.0,\"#0d0887\"],[0.1111111111111111,\"#46039f\"],[0.2222222222222222,\"#7201a8\"],[0.3333333333333333,\"#9c179e\"],[0.4444444444444444,\"#bd3786\"],[0.5555555555555556,\"#d8576b\"],[0.6666666666666666,\"#ed7953\"],[0.7777777777777778,\"#fb9f3a\"],[0.8888888888888888,\"#fdca26\"],[1.0,\"#f0f921\"]],\"type\":\"heatmapgl\"}],\"histogram\":[{\"marker\":{\"pattern\":{\"fillmode\":\"overlay\",\"size\":10,\"solidity\":0.2}},\"type\":\"histogram\"}],\"histogram2d\":[{\"colorbar\":{\"outlinewidth\":0,\"ticks\":\"\"},\"colorscale\":[[0.0,\"#0d0887\"],[0.1111111111111111,\"#46039f\"],[0.2222222222222222,\"#7201a8\"],[0.3333333333333333,\"#9c179e\"],[0.4444444444444444,\"#bd3786\"],[0.5555555555555556,\"#d8576b\"],[0.6666666666666666,\"#ed7953\"],[0.7777777777777778,\"#fb9f3a\"],[0.8888888888888888,\"#fdca26\"],[1.0,\"#f0f921\"]],\"type\":\"histogram2d\"}],\"histogram2dcontour\":[{\"colorbar\":{\"outlinewidth\":0,\"ticks\":\"\"},\"colorscale\":[[0.0,\"#0d0887\"],[0.1111111111111111,\"#46039f\"],[0.2222222222222222,\"#7201a8\"],[0.3333333333333333,\"#9c179e\"],[0.4444444444444444,\"#bd3786\"],[0.5555555555555556,\"#d8576b\"],[0.6666666666666666,\"#ed7953\"],[0.7777777777777778,\"#fb9f3a\"],[0.8888888888888888,\"#fdca26\"],[1.0,\"#f0f921\"]],\"type\":\"histogram2dcontour\"}],\"mesh3d\":[{\"colorbar\":{\"outlinewidth\":0,\"ticks\":\"\"},\"type\":\"mesh3d\"}],\"parcoords\":[{\"line\":{\"colorbar\":{\"outlinewidth\":0,\"ticks\":\"\"}},\"type\":\"parcoords\"}],\"pie\":[{\"automargin\":true,\"type\":\"pie\"}],\"scatter\":[{\"marker\":{\"colorbar\":{\"outlinewidth\":0,\"ticks\":\"\"}},\"type\":\"scatter\"}],\"scatter3d\":[{\"line\":{\"colorbar\":{\"outlinewidth\":0,\"ticks\":\"\"}},\"marker\":{\"colorbar\":{\"outlinewidth\":0,\"ticks\":\"\"}},\"type\":\"scatter3d\"}],\"scattercarpet\":[{\"marker\":{\"colorbar\":{\"outlinewidth\":0,\"ticks\":\"\"}},\"type\":\"scattercarpet\"}],\"scattergeo\":[{\"marker\":{\"colorbar\":{\"outlinewidth\":0,\"ticks\":\"\"}},\"type\":\"scattergeo\"}],\"scattergl\":[{\"marker\":{\"colorbar\":{\"outlinewidth\":0,\"ticks\":\"\"}},\"type\":\"scattergl\"}],\"scattermapbox\":[{\"marker\":{\"colorbar\":{\"outlinewidth\":0,\"ticks\":\"\"}},\"type\":\"scattermapbox\"}],\"scatterpolar\":[{\"marker\":{\"colorbar\":{\"outlinewidth\":0,\"ticks\":\"\"}},\"type\":\"scatterpolar\"}],\"scatterpolargl\":[{\"marker\":{\"colorbar\":{\"outlinewidth\":0,\"ticks\":\"\"}},\"type\":\"scatterpolargl\"}],\"scatterternary\":[{\"marker\":{\"colorbar\":{\"outlinewidth\":0,\"ticks\":\"\"}},\"type\":\"scatterternary\"}],\"surface\":[{\"colorbar\":{\"outlinewidth\":0,\"ticks\":\"\"},\"colorscale\":[[0.0,\"#0d0887\"],[0.1111111111111111,\"#46039f\"],[0.2222222222222222,\"#7201a8\"],[0.3333333333333333,\"#9c179e\"],[0.4444444444444444,\"#bd3786\"],[0.5555555555555556,\"#d8576b\"],[0.6666666666666666,\"#ed7953\"],[0.7777777777777778,\"#fb9f3a\"],[0.8888888888888888,\"#fdca26\"],[1.0,\"#f0f921\"]],\"type\":\"surface\"}],\"table\":[{\"cells\":{\"fill\":{\"color\":\"#EBF0F8\"},\"line\":{\"color\":\"white\"}},\"header\":{\"fill\":{\"color\":\"#C8D4E3\"},\"line\":{\"color\":\"white\"}},\"type\":\"table\"}]},\"layout\":{\"annotationdefaults\":{\"arrowcolor\":\"#2a3f5f\",\"arrowhead\":0,\"arrowwidth\":1},\"autotypenumbers\":\"strict\",\"coloraxis\":{\"colorbar\":{\"outlinewidth\":0,\"ticks\":\"\"}},\"colorscale\":{\"diverging\":[[0,\"#8e0152\"],[0.1,\"#c51b7d\"],[0.2,\"#de77ae\"],[0.3,\"#f1b6da\"],[0.4,\"#fde0ef\"],[0.5,\"#f7f7f7\"],[0.6,\"#e6f5d0\"],[0.7,\"#b8e186\"],[0.8,\"#7fbc41\"],[0.9,\"#4d9221\"],[1,\"#276419\"]],\"sequential\":[[0.0,\"#0d0887\"],[0.1111111111111111,\"#46039f\"],[0.2222222222222222,\"#7201a8\"],[0.3333333333333333,\"#9c179e\"],[0.4444444444444444,\"#bd3786\"],[0.5555555555555556,\"#d8576b\"],[0.6666666666666666,\"#ed7953\"],[0.7777777777777778,\"#fb9f3a\"],[0.8888888888888888,\"#fdca26\"],[1.0,\"#f0f921\"]],\"sequentialminus\":[[0.0,\"#0d0887\"],[0.1111111111111111,\"#46039f\"],[0.2222222222222222,\"#7201a8\"],[0.3333333333333333,\"#9c179e\"],[0.4444444444444444,\"#bd3786\"],[0.5555555555555556,\"#d8576b\"],[0.6666666666666666,\"#ed7953\"],[0.7777777777777778,\"#fb9f3a\"],[0.8888888888888888,\"#fdca26\"],[1.0,\"#f0f921\"]]},\"colorway\":[\"#636efa\",\"#EF553B\",\"#00cc96\",\"#ab63fa\",\"#FFA15A\",\"#19d3f3\",\"#FF6692\",\"#B6E880\",\"#FF97FF\",\"#FECB52\"],\"font\":{\"color\":\"#2a3f5f\"},\"geo\":{\"bgcolor\":\"white\",\"lakecolor\":\"white\",\"landcolor\":\"#E5ECF6\",\"showlakes\":true,\"showland\":true,\"subunitcolor\":\"white\"},\"hoverlabel\":{\"align\":\"left\"},\"hovermode\":\"closest\",\"mapbox\":{\"style\":\"light\"},\"paper_bgcolor\":\"white\",\"plot_bgcolor\":\"#E5ECF6\",\"polar\":{\"angularaxis\":{\"gridcolor\":\"white\",\"linecolor\":\"white\",\"ticks\":\"\"},\"bgcolor\":\"#E5ECF6\",\"radialaxis\":{\"gridcolor\":\"white\",\"linecolor\":\"white\",\"ticks\":\"\"}},\"scene\":{\"xaxis\":{\"backgroundcolor\":\"#E5ECF6\",\"gridcolor\":\"white\",\"gridwidth\":2,\"linecolor\":\"white\",\"showbackground\":true,\"ticks\":\"\",\"zerolinecolor\":\"white\"},\"yaxis\":{\"backgroundcolor\":\"#E5ECF6\",\"gridcolor\":\"white\",\"gridwidth\":2,\"linecolor\":\"white\",\"showbackground\":true,\"ticks\":\"\",\"zerolinecolor\":\"white\"},\"zaxis\":{\"backgroundcolor\":\"#E5ECF6\",\"gridcolor\":\"white\",\"gridwidth\":2,\"linecolor\":\"white\",\"showbackground\":true,\"ticks\":\"\",\"zerolinecolor\":\"white\"}},\"shapedefaults\":{\"line\":{\"color\":\"#2a3f5f\"}},\"ternary\":{\"aaxis\":{\"gridcolor\":\"white\",\"linecolor\":\"white\",\"ticks\":\"\"},\"baxis\":{\"gridcolor\":\"white\",\"linecolor\":\"white\",\"ticks\":\"\"},\"bgcolor\":\"#E5ECF6\",\"caxis\":{\"gridcolor\":\"white\",\"linecolor\":\"white\",\"ticks\":\"\"}},\"title\":{\"x\":0.05},\"xaxis\":{\"automargin\":true,\"gridcolor\":\"white\",\"linecolor\":\"white\",\"ticks\":\"\",\"title\":{\"standoff\":15},\"zerolinecolor\":\"white\",\"zerolinewidth\":2},\"yaxis\":{\"automargin\":true,\"gridcolor\":\"white\",\"linecolor\":\"white\",\"ticks\":\"\",\"title\":{\"standoff\":15},\"zerolinecolor\":\"white\",\"zerolinewidth\":2}}},\"xaxis\":{\"anchor\":\"y\",\"domain\":[0.0,1.0],\"title\":{\"text\":\"Oreo Type\"},\"categoryorder\":\"array\",\"categoryarray\":[\"Chocolate\",\"Mini\",\"Mint\",\"Cakesters\",\"Mega Stuf\",\"Gluten Free\",\"Golden\",\"Double Stuf\",\"Birthday Cake\",\"Halloween\",\"Brownie\"]},\"yaxis\":{\"anchor\":\"x\",\"domain\":[0.0,1.0],\"title\":{\"text\":\"rating\"}},\"legend\":{\"title\":{\"text\":\"Oreo Type\"},\"tracegroupgap\":0,\"font\":{\"size\":10},\"orientation\":\"h\",\"y\":-0.5},\"margin\":{\"t\":60},\"boxmode\":\"overlay\",\"font\":{\"color\":\"#180909\",\"size\":16},\"paper_bgcolor\":\"#E4F4F9\",\"plot_bgcolor\":\"#E4F4F9\",\"height\":500},                        {\"responsive\": true}                    ).then(function(){\n",
       "                            \n",
       "var gd = document.getElementById('96804ee1-8d7f-424a-903f-b5475842e14f');\n",
       "var x = new MutationObserver(function (mutations, observer) {{\n",
       "        var display = window.getComputedStyle(gd).display;\n",
       "        if (!display || display === 'none') {{\n",
       "            console.log([gd, 'removed!']);\n",
       "            Plotly.purge(gd);\n",
       "            observer.disconnect();\n",
       "        }}\n",
       "}});\n",
       "\n",
       "// Listen for the removal of the full notebook cells\n",
       "var notebookContainer = gd.closest('#notebook-container');\n",
       "if (notebookContainer) {{\n",
       "    x.observe(notebookContainer, {childList: true});\n",
       "}}\n",
       "\n",
       "// Listen for the clearing of the current output cell\n",
       "var outputEl = gd.closest('.output');\n",
       "if (outputEl) {{\n",
       "    x.observe(outputEl, {childList: true});\n",
       "}}\n",
       "\n",
       "                        })                };                });            </script>        </div>"
      ]
     },
     "metadata": {},
     "output_type": "display_data"
    }
   ],
   "source": [
    "fig = px.box(df, x=\"cookie\", y=\"rating\", color = 'cookie', color_discrete_map={'Chocolate': '#89afff', 'Mini': '#6294ff', 'Mint': '#4e87ff',\n",
    "                    'Cakesters': '#276dff', 'Mega Stuf': '#0052ff', 'Gluten Free': '#0045d7',\n",
    "                    'Golden': '#003fc4', 'Double Stuf': '#00329d', 'Birthday Cake': '#002c89',\n",
    "                    'Halloween': '#002675', 'Brownie': '#00194e'}, labels = {'price': 'Price', 'cookie': 'Oreo Type'})\n",
    "fig.update_layout(paper_bgcolor=\"#E4F4F9\", plot_bgcolor='#E4F4F9', font_color='#180909',\n",
    "                  font_size = 16, height = 500, legend=dict(\n",
    "    orientation=\"h\", y=-0.5, font = dict(size = 10)))\n",
    "fig.update_xaxes(categoryorder='array', categoryarray= ['Chocolate', 'Mini', 'Mint', 'Cakesters', 'Mega Stuf', 'Gluten Free', 'Golden', 'Double Stuf', 'Birthday Cake', 'Halloween', 'Brownie'])\n",
    "fig.show()"
   ]
  },
  {
   "cell_type": "code",
   "execution_count": null,
   "id": "d4842ba0",
   "metadata": {},
   "outputs": [],
   "source": []
  }
 ],
 "metadata": {
  "kernelspec": {
   "display_name": "Python 3 (ipykernel)",
   "language": "python",
   "name": "python3"
  },
  "language_info": {
   "codemirror_mode": {
    "name": "ipython",
    "version": 3
   },
   "file_extension": ".py",
   "mimetype": "text/x-python",
   "name": "python",
   "nbconvert_exporter": "python",
   "pygments_lexer": "ipython3",
   "version": "3.9.12"
  }
 },
 "nbformat": 4,
 "nbformat_minor": 5
}
